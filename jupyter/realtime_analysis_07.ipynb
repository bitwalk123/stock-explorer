{
 "cells": [
  {
   "cell_type": "code",
   "execution_count": 5,
   "id": "ef49ef9e-19f2-488c-857a-2228512f280e",
   "metadata": {},
   "outputs": [],
   "source": [
    "import pandas as pd"
   ]
  },
  {
   "cell_type": "code",
   "execution_count": 6,
   "id": "d1579ed1-a3fe-44a4-a707-9f4ef3ea98a3",
   "metadata": {},
   "outputs": [
    {
     "data": {
      "text/html": [
       "<div>\n",
       "<style scoped>\n",
       "    .dataframe tbody tr th:only-of-type {\n",
       "        vertical-align: middle;\n",
       "    }\n",
       "\n",
       "    .dataframe tbody tr th {\n",
       "        vertical-align: top;\n",
       "    }\n",
       "\n",
       "    .dataframe thead th {\n",
       "        text-align: right;\n",
       "    }\n",
       "</style>\n",
       "<table border=\"1\" class=\"dataframe\">\n",
       "  <thead>\n",
       "    <tr style=\"text-align: right;\">\n",
       "      <th></th>\n",
       "      <th>Price</th>\n",
       "    </tr>\n",
       "  </thead>\n",
       "  <tbody>\n",
       "    <tr>\n",
       "      <th>2024-07-26 09:02:13</th>\n",
       "      <td>28575.0</td>\n",
       "    </tr>\n",
       "    <tr>\n",
       "      <th>2024-07-26 09:02:19</th>\n",
       "      <td>28490.0</td>\n",
       "    </tr>\n",
       "    <tr>\n",
       "      <th>2024-07-26 09:02:25</th>\n",
       "      <td>28510.0</td>\n",
       "    </tr>\n",
       "    <tr>\n",
       "      <th>2024-07-26 09:02:31</th>\n",
       "      <td>28470.0</td>\n",
       "    </tr>\n",
       "    <tr>\n",
       "      <th>2024-07-26 09:02:37</th>\n",
       "      <td>28605.0</td>\n",
       "    </tr>\n",
       "    <tr>\n",
       "      <th>...</th>\n",
       "      <td>...</td>\n",
       "    </tr>\n",
       "    <tr>\n",
       "      <th>2024-07-26 14:59:37</th>\n",
       "      <td>27645.0</td>\n",
       "    </tr>\n",
       "    <tr>\n",
       "      <th>2024-07-26 14:59:43</th>\n",
       "      <td>27640.0</td>\n",
       "    </tr>\n",
       "    <tr>\n",
       "      <th>2024-07-26 14:59:49</th>\n",
       "      <td>27650.0</td>\n",
       "    </tr>\n",
       "    <tr>\n",
       "      <th>2024-07-26 14:59:55</th>\n",
       "      <td>27645.0</td>\n",
       "    </tr>\n",
       "    <tr>\n",
       "      <th>2024-07-26 15:00:00</th>\n",
       "      <td>27625.0</td>\n",
       "    </tr>\n",
       "  </tbody>\n",
       "</table>\n",
       "<p>2905 rows × 1 columns</p>\n",
       "</div>"
      ],
      "text/plain": [
       "                       Price\n",
       "2024-07-26 09:02:13  28575.0\n",
       "2024-07-26 09:02:19  28490.0\n",
       "2024-07-26 09:02:25  28510.0\n",
       "2024-07-26 09:02:31  28470.0\n",
       "2024-07-26 09:02:37  28605.0\n",
       "...                      ...\n",
       "2024-07-26 14:59:37  27645.0\n",
       "2024-07-26 14:59:43  27640.0\n",
       "2024-07-26 14:59:49  27650.0\n",
       "2024-07-26 14:59:55  27645.0\n",
       "2024-07-26 15:00:00  27625.0\n",
       "\n",
       "[2905 rows x 1 columns]"
      ]
     },
     "execution_count": 6,
     "metadata": {},
     "output_type": "execute_result"
    }
   ],
   "source": [
    "pkl = '../tmp/8035_2024-07-26.pkl'\n",
    "df = pd.read_pickle(pkl)\n",
    "df"
   ]
  },
  {
   "cell_type": "code",
   "execution_count": 8,
   "id": "05598398-3d8d-4117-93a0-df6e690c53bf",
   "metadata": {},
   "outputs": [
    {
     "data": {
      "text/plain": [
       "Timestamp('2024-07-26 09:02:13')"
      ]
     },
     "execution_count": 8,
     "metadata": {},
     "output_type": "execute_result"
    }
   ],
   "source": [
    "t = df.index[0]\n",
    "t"
   ]
  },
  {
   "cell_type": "code",
   "execution_count": 15,
   "id": "b0b379a3-a6e0-4754-ba43-4167e1476573",
   "metadata": {},
   "outputs": [
    {
     "data": {
      "text/plain": [
       "Timestamp('2024-07-26 11:29:00')"
      ]
     },
     "execution_count": 15,
     "metadata": {},
     "output_type": "execute_result"
    }
   ],
   "source": [
    "t_str = ('%4d-%02d-%02d 11:29:00' % (t.year, t.month, t.day))\n",
    "pd.to_datetime(t_str)"
   ]
  },
  {
   "cell_type": "code",
   "execution_count": null,
   "id": "de080929-a75b-42bf-880b-cc0fadb05232",
   "metadata": {},
   "outputs": [],
   "source": []
  }
 ],
 "metadata": {
  "kernelspec": {
   "display_name": "Python 3 (ipykernel)",
   "language": "python",
   "name": "python3"
  },
  "language_info": {
   "codemirror_mode": {
    "name": "ipython",
    "version": 3
   },
   "file_extension": ".py",
   "mimetype": "text/x-python",
   "name": "python",
   "nbconvert_exporter": "python",
   "pygments_lexer": "ipython3",
   "version": "3.12.1"
  }
 },
 "nbformat": 4,
 "nbformat_minor": 5
}
