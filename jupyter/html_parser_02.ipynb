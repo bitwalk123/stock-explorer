{
 "cells": [
  {
   "cell_type": "code",
   "execution_count": 1,
   "id": "6fabad4c-f271-4d0c-823f-1d3c015178b0",
   "metadata": {},
   "outputs": [],
   "source": [
    "import re\n",
    "import requests\n",
    "from html.parser import HTMLParser"
   ]
  },
  {
   "cell_type": "code",
   "execution_count": 2,
   "id": "2b277e4a-995e-4eea-a75f-67c6ead05053",
   "metadata": {},
   "outputs": [],
   "source": [
    "class ParserKabuYoho(HTMLParser):\n",
    "    url = 'https://kabuyoho.ifis.co.jp/index.php'\n",
    "    pattern = re.compile(r'index\\.php\\?(action=tp1\\&sa=consNewsDetail\\&nid=.+)')\n",
    "\n",
    "    def __init__(self):\n",
    "        HTMLParser.__init__(self)\n",
    "\n",
    "        self.flag_news = False\n",
    "        self.flag_date = False\n",
    "        self.flag_link = False\n",
    "\n",
    "        self.result = list()\n",
    "        self.element = None\n",
    "        self.link = ''\n",
    "\n",
    "    def handle_starttag(self, tag, attrs):\n",
    "        dict_attrs = dict(attrs)\n",
    "\n",
    "        if tag == 'table':\n",
    "            if 'class' in dict_attrs:\n",
    "                if dict_attrs['class'] == 'tb_new_news':\n",
    "                    self.flag_news = True\n",
    "                    return\n",
    "                return\n",
    "            return\n",
    "\n",
    "        if tag == 'span' and self.flag_news is True:\n",
    "            self.flag_date = True\n",
    "            return\n",
    "\n",
    "        if tag == 'a' and self.flag_news is True:\n",
    "            if 'href' in dict_attrs:\n",
    "                m = self.pattern.match(dict_attrs['href'])\n",
    "                if m:\n",
    "                    self.link = '%s?%s' % (self.url, m.group(1))\n",
    "                    self.flag_link = True\n",
    "                    return\n",
    "                return\n",
    "            return\n",
    "\n",
    "        if tag == 'tr' and self.flag_news is True:\n",
    "            self.element = list()\n",
    "            return\n",
    "\n",
    "    def handle_data(self, data):\n",
    "        content = data.strip()\n",
    "        if self.flag_news and self.flag_date:\n",
    "            self.element.append(content)\n",
    "            self.flag_date = False\n",
    "            return\n",
    "\n",
    "        if self.flag_news and self.flag_link:\n",
    "            self.element.append(content)\n",
    "            self.element.append(self.link)\n",
    "            self.flag_link = False\n",
    "            self.link = ''\n",
    "            return\n",
    "\n",
    "    def handle_endtag(self, tag):\n",
    "        if tag == 'table' and self.flag_news is True:\n",
    "            self.flag_news = False\n",
    "            return\n",
    "\n",
    "        if tag == 'tr' and self.flag_news is True:\n",
    "            if len(self.element) > 0:\n",
    "                self.result.append(self.element)\n",
    "            return"
   ]
  },
  {
   "cell_type": "code",
   "execution_count": 3,
   "id": "1ef7cd82-388b-4349-86b7-63207787e8c0",
   "metadata": {},
   "outputs": [],
   "source": [
    "parser = ParserKabuYoho()\n",
    "url = parser.url\n",
    "params = {'action': 'tp1',\n",
    "          'sa': 'report_top',\n",
    "          'bcode': '8035'}\n",
    "response = requests.get(url, params=params)"
   ]
  },
  {
   "cell_type": "code",
   "execution_count": 4,
   "id": "1572c1c2-e367-4904-a6b1-67fd3d54cd76",
   "metadata": {},
   "outputs": [
    {
     "name": "stdout",
     "output_type": "stream",
     "text": [
      "['2024/05/20', '25年3月期経常予想。対前週0.7%上昇。', 'https://kabuyoho.ifis.co.jp/index.php?action=tp1&sa=consNewsDetail&nid=8035_20240520_cons_20240520_224532_62']\n",
      "['2024/05/20', '米系大手証券、レーティング強気継続。目標株価引き上げ、48,000円。', 'https://kabuyoho.ifis.co.jp/index.php?action=tp1&sa=consNewsDetail&nid=8035_20240519_rep_20240520_110505_3']\n",
      "['2024/05/16', '日系大手証券、レーティング強気継続。目標株価引き上げ、42,000円。', 'https://kabuyoho.ifis.co.jp/index.php?action=tp1&sa=consNewsDetail&nid=8035_20240516_rep_20240516_180007_13']\n"
     ]
    }
   ],
   "source": [
    "parser.feed(response.text)\n",
    "parser.close()\n",
    "\n",
    "for line in parser.result:\n",
    "    print(line)"
   ]
  },
  {
   "cell_type": "code",
   "execution_count": null,
   "id": "17c6d513-7d0e-4358-8f9a-dd7234a4bfb1",
   "metadata": {},
   "outputs": [],
   "source": []
  }
 ],
 "metadata": {
  "kernelspec": {
   "display_name": "Python 3 (ipykernel)",
   "language": "python",
   "name": "python3"
  },
  "language_info": {
   "codemirror_mode": {
    "name": "ipython",
    "version": 3
   },
   "file_extension": ".py",
   "mimetype": "text/x-python",
   "name": "python",
   "nbconvert_exporter": "python",
   "pygments_lexer": "ipython3",
   "version": "3.12.1"
  }
 },
 "nbformat": 4,
 "nbformat_minor": 5
}
