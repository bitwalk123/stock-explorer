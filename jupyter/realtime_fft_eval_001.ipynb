{
 "cells": [
  {
   "cell_type": "code",
   "execution_count": 40,
   "id": "9634b6be-97c1-4134-8c15-649dba743b71",
   "metadata": {},
   "outputs": [],
   "source": [
    "import matplotlib.pyplot as plt\n",
    "import numpy as np\n",
    "import pandas as pd"
   ]
  },
  {
   "cell_type": "code",
   "execution_count": 41,
   "id": "9b4660d3-2fc1-4d43-a889-95b0bf2286cb",
   "metadata": {},
   "outputs": [
    {
     "data": {
      "text/html": [
       "<div>\n",
       "<style scoped>\n",
       "    .dataframe tbody tr th:only-of-type {\n",
       "        vertical-align: middle;\n",
       "    }\n",
       "\n",
       "    .dataframe tbody tr th {\n",
       "        vertical-align: top;\n",
       "    }\n",
       "\n",
       "    .dataframe thead th {\n",
       "        text-align: right;\n",
       "    }\n",
       "</style>\n",
       "<table border=\"1\" class=\"dataframe\">\n",
       "  <thead>\n",
       "    <tr style=\"text-align: right;\">\n",
       "      <th></th>\n",
       "      <th>Price</th>\n",
       "    </tr>\n",
       "  </thead>\n",
       "  <tbody>\n",
       "    <tr>\n",
       "      <th>2024-07-12 09:05:52</th>\n",
       "      <td>36760.0</td>\n",
       "    </tr>\n",
       "    <tr>\n",
       "      <th>2024-07-12 09:05:58</th>\n",
       "      <td>36670.0</td>\n",
       "    </tr>\n",
       "    <tr>\n",
       "      <th>2024-07-12 09:06:04</th>\n",
       "      <td>36660.0</td>\n",
       "    </tr>\n",
       "    <tr>\n",
       "      <th>2024-07-12 09:06:10</th>\n",
       "      <td>36770.0</td>\n",
       "    </tr>\n",
       "    <tr>\n",
       "      <th>2024-07-12 09:06:16</th>\n",
       "      <td>36700.0</td>\n",
       "    </tr>\n",
       "    <tr>\n",
       "      <th>...</th>\n",
       "      <td>...</td>\n",
       "    </tr>\n",
       "    <tr>\n",
       "      <th>2024-07-12 14:59:40</th>\n",
       "      <td>35720.0</td>\n",
       "    </tr>\n",
       "    <tr>\n",
       "      <th>2024-07-12 14:59:46</th>\n",
       "      <td>35720.0</td>\n",
       "    </tr>\n",
       "    <tr>\n",
       "      <th>2024-07-12 14:59:52</th>\n",
       "      <td>35700.0</td>\n",
       "    </tr>\n",
       "    <tr>\n",
       "      <th>2024-07-12 14:59:58</th>\n",
       "      <td>35750.0</td>\n",
       "    </tr>\n",
       "    <tr>\n",
       "      <th>2024-07-12 15:00:00</th>\n",
       "      <td>35700.0</td>\n",
       "    </tr>\n",
       "  </tbody>\n",
       "</table>\n",
       "<p>2543 rows × 1 columns</p>\n",
       "</div>"
      ],
      "text/plain": [
       "                       Price\n",
       "2024-07-12 09:05:52  36760.0\n",
       "2024-07-12 09:05:58  36670.0\n",
       "2024-07-12 09:06:04  36660.0\n",
       "2024-07-12 09:06:10  36770.0\n",
       "2024-07-12 09:06:16  36700.0\n",
       "...                      ...\n",
       "2024-07-12 14:59:40  35720.0\n",
       "2024-07-12 14:59:46  35720.0\n",
       "2024-07-12 14:59:52  35700.0\n",
       "2024-07-12 14:59:58  35750.0\n",
       "2024-07-12 15:00:00  35700.0\n",
       "\n",
       "[2543 rows x 1 columns]"
      ]
     },
     "execution_count": 41,
     "metadata": {},
     "output_type": "execute_result"
    }
   ],
   "source": [
    "pkl = '../tmp/8035_2024-07-12.pkl'\n",
    "df0 = pd.read_pickle(pkl)\n",
    "df0"
   ]
  },
  {
   "cell_type": "code",
   "execution_count": 42,
   "id": "cb2cdac0-6dd9-41af-9341-219561375a65",
   "metadata": {},
   "outputs": [
    {
     "data": {
      "text/plain": [
       "1720774800.0"
      ]
     },
     "execution_count": 42,
     "metadata": {},
     "output_type": "execute_result"
    }
   ],
   "source": [
    "date_str = str(df0.index[0].date())\n",
    "t_start_1 = pd.to_datetime(date_str + ' 09:00:00')\n",
    "t_start_2 = pd.to_datetime(date_str + ' 10:00:00')\n",
    "t_mid = pd.to_datetime(date_str + ' 12:00:00')\n",
    "t0 = t_start_1.timestamp()\n",
    "t0"
   ]
  },
  {
   "cell_type": "code",
   "execution_count": 43,
   "id": "59d3f095-932f-4447-ae23-7a386dc43812",
   "metadata": {},
   "outputs": [
    {
     "data": {
      "text/html": [
       "<div>\n",
       "<style scoped>\n",
       "    .dataframe tbody tr th:only-of-type {\n",
       "        vertical-align: middle;\n",
       "    }\n",
       "\n",
       "    .dataframe tbody tr th {\n",
       "        vertical-align: top;\n",
       "    }\n",
       "\n",
       "    .dataframe thead th {\n",
       "        text-align: right;\n",
       "    }\n",
       "</style>\n",
       "<table border=\"1\" class=\"dataframe\">\n",
       "  <thead>\n",
       "    <tr style=\"text-align: right;\">\n",
       "      <th></th>\n",
       "      <th>Price</th>\n",
       "    </tr>\n",
       "  </thead>\n",
       "  <tbody>\n",
       "    <tr>\n",
       "      <th>2024-07-12 09:05:52</th>\n",
       "      <td>36760.0</td>\n",
       "    </tr>\n",
       "    <tr>\n",
       "      <th>2024-07-12 09:05:58</th>\n",
       "      <td>36670.0</td>\n",
       "    </tr>\n",
       "    <tr>\n",
       "      <th>2024-07-12 09:06:04</th>\n",
       "      <td>36660.0</td>\n",
       "    </tr>\n",
       "    <tr>\n",
       "      <th>2024-07-12 09:06:10</th>\n",
       "      <td>36770.0</td>\n",
       "    </tr>\n",
       "    <tr>\n",
       "      <th>2024-07-12 09:06:16</th>\n",
       "      <td>36700.0</td>\n",
       "    </tr>\n",
       "    <tr>\n",
       "      <th>...</th>\n",
       "      <td>...</td>\n",
       "    </tr>\n",
       "    <tr>\n",
       "      <th>2024-07-12 11:29:40</th>\n",
       "      <td>35830.0</td>\n",
       "    </tr>\n",
       "    <tr>\n",
       "      <th>2024-07-12 11:29:46</th>\n",
       "      <td>35830.0</td>\n",
       "    </tr>\n",
       "    <tr>\n",
       "      <th>2024-07-12 11:29:51</th>\n",
       "      <td>35830.0</td>\n",
       "    </tr>\n",
       "    <tr>\n",
       "      <th>2024-07-12 11:29:58</th>\n",
       "      <td>35830.0</td>\n",
       "    </tr>\n",
       "    <tr>\n",
       "      <th>2024-07-12 11:30:00</th>\n",
       "      <td>35830.0</td>\n",
       "    </tr>\n",
       "  </tbody>\n",
       "</table>\n",
       "<p>1346 rows × 1 columns</p>\n",
       "</div>"
      ],
      "text/plain": [
       "                       Price\n",
       "2024-07-12 09:05:52  36760.0\n",
       "2024-07-12 09:05:58  36670.0\n",
       "2024-07-12 09:06:04  36660.0\n",
       "2024-07-12 09:06:10  36770.0\n",
       "2024-07-12 09:06:16  36700.0\n",
       "...                      ...\n",
       "2024-07-12 11:29:40  35830.0\n",
       "2024-07-12 11:29:46  35830.0\n",
       "2024-07-12 11:29:51  35830.0\n",
       "2024-07-12 11:29:58  35830.0\n",
       "2024-07-12 11:30:00  35830.0\n",
       "\n",
       "[1346 rows x 1 columns]"
      ]
     },
     "execution_count": 43,
     "metadata": {},
     "output_type": "execute_result"
    }
   ],
   "source": [
    "df1 = df0.loc[df0.index[df0.index < t_mid]]\n",
    "df1"
   ]
  },
  {
   "cell_type": "code",
   "execution_count": 44,
   "id": "4555731a-9097-435a-ba7c-f6a5d95c5761",
   "metadata": {},
   "outputs": [],
   "source": [
    "x = np.array([ts.timestamp() - t0 for ts in df1.index])\n",
    "y = np.array(df1['Price'])"
   ]
  },
  {
   "cell_type": "code",
   "execution_count": 46,
   "id": "5247e3c7-f692-47f6-b622-63f0b4aabf9c",
   "metadata": {},
   "outputs": [
    {
     "data": {
      "image/png": "[encoded data removed]",
      "text/plain": [
       "<Figure size 640x480 with 1 Axes>"
      ]
     },
     "metadata": {},
     "output_type": "display_data"
    }
   ],
   "source": [
    "plt.xlabel('time [sec]')\n",
    "plt.ylabel('signal')\n",
    "plt.plot(x, y, lw=1)\n",
    "plt.show()"
   ]
  },
  {
   "cell_type": "code",
   "execution_count": null,
   "id": "87386c5a-44df-4ddf-b126-d2f54f1ef395",
   "metadata": {},
   "outputs": [],
   "source": []
  }
 ],
 "metadata": {
  "kernelspec": {
   "display_name": "Python 3 (ipykernel)",
   "language": "python",
   "name": "python3"
  },
  "language_info": {
   "codemirror_mode": {
    "name": "ipython",
    "version": 3
   },
   "file_extension": ".py",
   "mimetype": "text/x-python",
   "name": "python",
   "nbconvert_exporter": "python",
   "pygments_lexer": "ipython3",
   "version": "3.12.1"
  }
 },
 "nbformat": 4,
 "nbformat_minor": 5
}
