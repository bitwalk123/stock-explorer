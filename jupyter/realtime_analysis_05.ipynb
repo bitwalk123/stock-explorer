{
 "cells": [
  {
   "cell_type": "code",
   "execution_count": 2,
   "id": "a81d2f88-af5d-47ce-b076-6609c9022d9e",
   "metadata": {},
   "outputs": [],
   "source": [
    "import pandas as pd"
   ]
  },
  {
   "cell_type": "code",
   "execution_count": 6,
   "id": "67cf14f1-09e5-467c-8988-2cb1bc5e62cb",
   "metadata": {},
   "outputs": [
    {
     "data": {
      "text/html": [
       "<div>\n",
       "<style scoped>\n",
       "    .dataframe tbody tr th:only-of-type {\n",
       "        vertical-align: middle;\n",
       "    }\n",
       "\n",
       "    .dataframe tbody tr th {\n",
       "        vertical-align: top;\n",
       "    }\n",
       "\n",
       "    .dataframe thead th {\n",
       "        text-align: right;\n",
       "    }\n",
       "</style>\n",
       "<table border=\"1\" class=\"dataframe\">\n",
       "  <thead>\n",
       "    <tr style=\"text-align: right;\">\n",
       "      <th></th>\n",
       "      <th>Price</th>\n",
       "    </tr>\n",
       "  </thead>\n",
       "  <tbody>\n",
       "    <tr>\n",
       "      <th>2024-06-20 09:00:02</th>\n",
       "      <td>34520.0</td>\n",
       "    </tr>\n",
       "    <tr>\n",
       "      <th>2024-06-20 09:00:07</th>\n",
       "      <td>34650.0</td>\n",
       "    </tr>\n",
       "    <tr>\n",
       "      <th>2024-06-20 09:00:12</th>\n",
       "      <td>34610.0</td>\n",
       "    </tr>\n",
       "    <tr>\n",
       "      <th>2024-06-20 09:00:19</th>\n",
       "      <td>34580.0</td>\n",
       "    </tr>\n",
       "    <tr>\n",
       "      <th>2024-06-20 09:00:23</th>\n",
       "      <td>34610.0</td>\n",
       "    </tr>\n",
       "    <tr>\n",
       "      <th>...</th>\n",
       "      <td>...</td>\n",
       "    </tr>\n",
       "    <tr>\n",
       "      <th>2024-06-20 14:59:37</th>\n",
       "      <td>34880.0</td>\n",
       "    </tr>\n",
       "    <tr>\n",
       "      <th>2024-06-20 14:59:43</th>\n",
       "      <td>34880.0</td>\n",
       "    </tr>\n",
       "    <tr>\n",
       "      <th>2024-06-20 14:59:50</th>\n",
       "      <td>34880.0</td>\n",
       "    </tr>\n",
       "    <tr>\n",
       "      <th>2024-06-20 14:59:56</th>\n",
       "      <td>34880.0</td>\n",
       "    </tr>\n",
       "    <tr>\n",
       "      <th>2024-06-20 15:00:00</th>\n",
       "      <td>34890.0</td>\n",
       "    </tr>\n",
       "  </tbody>\n",
       "</table>\n",
       "<p>1713 rows × 1 columns</p>\n",
       "</div>"
      ],
      "text/plain": [
       "                       Price\n",
       "2024-06-20 09:00:02  34520.0\n",
       "2024-06-20 09:00:07  34650.0\n",
       "2024-06-20 09:00:12  34610.0\n",
       "2024-06-20 09:00:19  34580.0\n",
       "2024-06-20 09:00:23  34610.0\n",
       "...                      ...\n",
       "2024-06-20 14:59:37  34880.0\n",
       "2024-06-20 14:59:43  34880.0\n",
       "2024-06-20 14:59:50  34880.0\n",
       "2024-06-20 14:59:56  34880.0\n",
       "2024-06-20 15:00:00  34890.0\n",
       "\n",
       "[1713 rows x 1 columns]"
      ]
     },
     "execution_count": 6,
     "metadata": {},
     "output_type": "execute_result"
    }
   ],
   "source": [
    "path = '../tmp'\n",
    "ticker = '8035'\n",
    "date = '2024-06-20'\n",
    "pkl = '%s/%s_%s.pkl' % (path, ticker, date)\n",
    "df = pd.read_pickle(pkl)\n",
    "df"
   ]
  },
  {
   "cell_type": "code",
   "execution_count": 12,
   "id": "68489c71-812f-436b-a8b4-eb64f9d782a0",
   "metadata": {},
   "outputs": [
    {
     "data": {
      "text/plain": [
       "0       2024-06-20 09:00:02\n",
       "1       2024-06-20 09:00:07\n",
       "2       2024-06-20 09:00:12\n",
       "3       2024-06-20 09:00:19\n",
       "4       2024-06-20 09:00:23\n",
       "               ...         \n",
       "1708    2024-06-20 14:59:37\n",
       "1709    2024-06-20 14:59:43\n",
       "1710    2024-06-20 14:59:50\n",
       "1711    2024-06-20 14:59:56\n",
       "1712    2024-06-20 15:00:00\n",
       "Length: 1713, dtype: object"
      ]
     },
     "execution_count": 12,
     "metadata": {},
     "output_type": "execute_result"
    }
   ],
   "source": [
    "pd.Series(df.index).astype(str)"
   ]
  },
  {
   "cell_type": "code",
   "execution_count": null,
   "id": "2a8f9d1e-da65-4dcb-ad89-ea9428365790",
   "metadata": {},
   "outputs": [],
   "source": []
  }
 ],
 "metadata": {
  "kernelspec": {
   "display_name": "Python 3 (ipykernel)",
   "language": "python",
   "name": "python3"
  },
  "language_info": {
   "codemirror_mode": {
    "name": "ipython",
    "version": 3
   },
   "file_extension": ".py",
   "mimetype": "text/x-python",
   "name": "python",
   "nbconvert_exporter": "python",
   "pygments_lexer": "ipython3",
   "version": "3.12.1"
  }
 },
 "nbformat": 4,
 "nbformat_minor": 5
}
