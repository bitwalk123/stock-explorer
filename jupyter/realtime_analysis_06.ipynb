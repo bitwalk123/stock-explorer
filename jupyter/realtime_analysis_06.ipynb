{
 "cells": [
  {
   "cell_type": "code",
   "execution_count": 7,
   "id": "ad3c7328-f0f9-4723-a9eb-c048a74128fa",
   "metadata": {},
   "outputs": [],
   "source": [
    "import datetime\n",
    "import matplotlib.pyplot as plt\n",
    "from matplotlib import dates\n",
    "import numpy as np\n",
    "import os\n",
    "import pandas as pd\n",
    "import re\n",
    "import scipy.stats\n",
    "from scipy.interpolate import make_smoothing_spline\n",
    "from sklearn.preprocessing import robust_scale\n",
    "from sklearn.preprocessing import RobustScaler"
   ]
  },
  {
   "cell_type": "code",
   "execution_count": 23,
   "id": "5eed60b1-130e-478b-bcec-52880a8d8648",
   "metadata": {},
   "outputs": [],
   "source": [
    "dir_path = '../cache'\n",
    "#ticker = '8035'\n",
    "#date = '2024-06-04'\n",
    "#pkl = '%s/%s_%s.pkl' % (path, ticker, date)\n",
    "#df = pd.read_pickle(pkl)\n",
    "#df\n",
    "pattern=re.compile(r'^8035.+pkl$')"
   ]
  },
  {
   "cell_type": "code",
   "execution_count": 25,
   "id": "4563ddab-9782-4d58-bb18-f418adeb2365",
   "metadata": {
    "scrolled": true
   },
   "outputs": [
    {
     "data": {
      "text/plain": [
       "['8035.T_2024-02-26_2024-02-27_1m.pkl',\n",
       " '8035.T_2024-02-27_2024-02-28_1m.pkl',\n",
       " '8035.T_2024-02-28_2024-02-29_1m.pkl',\n",
       " '8035.T_2024-02-29_2024-03-01_1m.pkl',\n",
       " '8035.T_2024-03-01_2024-03-02_1m.pkl',\n",
       " '8035.T_2024-03-04_2024-03-05_1m.pkl',\n",
       " '8035.T_2024-03-05_2024-03-06_1m.pkl',\n",
       " '8035.T_2024-03-06_2024-03-07_1m.pkl',\n",
       " '8035.T_2024-03-07_2024-03-08_1m.pkl',\n",
       " '8035.T_2024-03-08_2024-03-09_1m.pkl',\n",
       " '8035.T_2024-03-11_2024-03-12_1m.pkl',\n",
       " '8035.T_2024-03-12_2024-03-13_1m.pkl',\n",
       " '8035.T_2024-03-13_2024-03-14_1m.pkl',\n",
       " '8035.T_2024-03-14_2024-03-15_1m.pkl',\n",
       " '8035.T_2024-03-15_2024-03-16_1m.pkl',\n",
       " '8035.T_2024-03-18_2024-03-19_1m.pkl',\n",
       " '8035.T_2024-03-19_2024-03-20_1m.pkl',\n",
       " '8035.T_2024-03-21_2024-03-22_1m.pkl',\n",
       " '8035.T_2024-03-22_2024-03-23_1m.pkl',\n",
       " '8035.T_2024-03-25_2024-03-26_1m.pkl',\n",
       " '8035.T_2024-03-26_2024-03-27_1m.pkl',\n",
       " '8035.T_2024-03-27_2024-03-28_1m.pkl',\n",
       " '8035.T_2024-03-28_2024-03-29_1m.pkl',\n",
       " '8035.T_2024-03-29_2024-03-30_1m.pkl',\n",
       " '8035.T_2024-04-01_2024-04-02_1m.pkl',\n",
       " '8035.T_2024-04-02_2024-04-03_1m.pkl',\n",
       " '8035.T_2024-04-03_2024-04-04_1m.pkl',\n",
       " '8035.T_2024-04-04_2024-04-05_1m.pkl',\n",
       " '8035.T_2024-04-05_2024-04-06_1m.pkl',\n",
       " '8035.T_2024-04-08_2024-04-09_1m.pkl',\n",
       " '8035.T_2024-04-09_2024-04-10_1m.pkl',\n",
       " '8035.T_2024-04-10_2024-04-11_1m.pkl',\n",
       " '8035.T_2024-04-11_2024-04-12_1m.pkl',\n",
       " '8035.T_2024-04-12_2024-04-13_1m.pkl',\n",
       " '8035.T_2024-04-15_2024-04-16_1m.pkl',\n",
       " '8035.T_2024-04-16_2024-04-17_1m.pkl',\n",
       " '8035.T_2024-04-17_2024-04-18_1m.pkl',\n",
       " '8035.T_2024-04-18_2024-04-19_1m.pkl',\n",
       " '8035.T_2024-04-19_2024-04-20_1m.pkl',\n",
       " '8035.T_2024-04-22_2024-04-23_1m.pkl',\n",
       " '8035.T_2024-04-23_2024-04-24_1m.pkl',\n",
       " '8035.T_2024-04-24_2024-04-25_1m.pkl',\n",
       " '8035.T_2024-04-25_2024-04-26_1m.pkl',\n",
       " '8035.T_2024-04-26_2024-04-27_1m.pkl',\n",
       " '8035.T_2024-04-30_2024-05-01_1m.pkl',\n",
       " '8035.T_2024-05-01_2024-05-02_1m.pkl',\n",
       " '8035.T_2024-05-02_2024-05-03_1m.pkl',\n",
       " '8035.T_2024-05-07_2024-05-08_1m.pkl',\n",
       " '8035.T_2024-05-08_2024-05-09_1m.pkl',\n",
       " '8035.T_2024-05-09_2024-05-10_1m.pkl',\n",
       " '8035.T_2024-05-10_2024-05-11_1m.pkl',\n",
       " '8035.T_2024-05-13_2024-05-14_1m.pkl',\n",
       " '8035.T_2024-05-14_2024-05-15_1m.pkl',\n",
       " '8035.T_2024-05-15_2024-05-16_1m.pkl',\n",
       " '8035.T_2024-05-16_2024-05-17_1m.pkl',\n",
       " '8035.T_2024-05-17_2024-05-18_1m.pkl',\n",
       " '8035.T_2024-05-20_2024-05-21_1m.pkl',\n",
       " '8035.T_2024-05-21_2024-05-22_1m.pkl',\n",
       " '8035.T_2024-05-22_2024-05-23_1m.pkl',\n",
       " '8035.T_2024-05-23_2024-05-24_1m.pkl',\n",
       " '8035.T_2024-05-24_2024-05-25_1m.pkl',\n",
       " '8035.T_2024-05-27_2024-05-28_1m.pkl',\n",
       " '8035.T_2024-05-28_2024-05-29_1m.pkl',\n",
       " '8035.T_2024-05-29_2024-05-30_1m.pkl',\n",
       " '8035.T_2024-05-30_2024-05-31_1m.pkl',\n",
       " '8035.T_2024-05-31_2024-06-01_1m.pkl',\n",
       " '8035.T_2024-06-03_2024-06-04_1m.pkl',\n",
       " '8035.T_2024-06-04_2024-06-05_1m.pkl',\n",
       " '8035.T_2024-06-05_2024-06-06_1m.pkl',\n",
       " '8035.T_2024-06-06_2024-06-07_1m.pkl',\n",
       " '8035.T_2024-06-07_2024-06-08_1m.pkl',\n",
       " '8035.T_2024-06-10_2024-06-11_1m.pkl',\n",
       " '8035.T_2024-06-11_2024-06-12_1m.pkl',\n",
       " '8035.T_2024-06-12_2024-06-13_1m.pkl',\n",
       " '8035.T_2024-06-13_2024-06-14_1m.pkl',\n",
       " '8035.T_2024-06-14_2024-06-15_1m.pkl',\n",
       " '8035.T_2024-06-17_2024-06-18_1m.pkl',\n",
       " '8035.T_2024-06-18_2024-06-19_1m.pkl',\n",
       " '8035.T_2024-06-19_2024-06-20_1m.pkl',\n",
       " '8035.T_2024-06-21_2024-06-22_1m.pkl']"
      ]
     },
     "execution_count": 25,
     "metadata": {},
     "output_type": "execute_result"
    }
   ],
   "source": [
    "list_file = [f for f in os.listdir(dir_path) if os.path.isfile(os.path.join(dir_path, f))]\n",
    "list_target = list()\n",
    "for f in list_file:\n",
    "    if pattern.match(f):\n",
    "        list_target.append(f)\n",
    "list_target.sort()\n",
    "#list_target"
   ]
  },
  {
   "cell_type": "code",
   "execution_count": null,
   "id": "b775c79f-a53a-4bde-a2d3-0304bd13a360",
   "metadata": {},
   "outputs": [],
   "source": []
  }
 ],
 "metadata": {
  "kernelspec": {
   "display_name": "Python 3 (ipykernel)",
   "language": "python",
   "name": "python3"
  },
  "language_info": {
   "codemirror_mode": {
    "name": "ipython",
    "version": 3
   },
   "file_extension": ".py",
   "mimetype": "text/x-python",
   "name": "python",
   "nbconvert_exporter": "python",
   "pygments_lexer": "ipython3",
   "version": "3.12.3"
  }
 },
 "nbformat": 4,
 "nbformat_minor": 5
}
