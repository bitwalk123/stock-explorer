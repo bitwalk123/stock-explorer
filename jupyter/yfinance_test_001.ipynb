{
 "cells": [
  {
   "cell_type": "code",
   "execution_count": 1,
   "id": "f7801087-aa62-4b1f-9243-0667e308c10c",
   "metadata": {},
   "outputs": [],
   "source": [
    "import datetime as dt\n",
    "import yfinance as yf"
   ]
  },
  {
   "cell_type": "code",
   "execution_count": 7,
   "id": "f839c5b9-96df-4dfd-8538-9c4c0bae9a91",
   "metadata": {},
   "outputs": [
    {
     "data": {
      "text/plain": [
       "datetime.date(2024, 7, 8)"
      ]
     },
     "execution_count": 7,
     "metadata": {},
     "output_type": "execute_result"
    }
   ],
   "source": [
    "end = dt.date.today()\n",
    "start = end + dt.timedelta(days=-14)\n",
    "start"
   ]
  },
  {
   "cell_type": "code",
   "execution_count": 8,
   "id": "d9152108-dbaa-4e01-913b-79f286c5110f",
   "metadata": {},
   "outputs": [],
   "source": [
    "ticker = '^DJI'"
   ]
  },
  {
   "cell_type": "code",
   "execution_count": 9,
   "id": "5e0ec47f-2993-4d0e-9ee7-206b20ed29bb",
   "metadata": {},
   "outputs": [
    {
     "name": "stderr",
     "output_type": "stream",
     "text": [
      "[*********************100%%**********************]  1 of 1 completed"
     ]
    },
    {
     "name": "stdout",
     "output_type": "stream",
     "text": [
      "                    Open          High           Low         Close  \\\n",
      "Date                                                                 \n",
      "2024-07-08  39391.980469  39654.960938  39278.429688  39344.789062   \n",
      "2024-07-09  39357.371094  39492.281250  39146.601562  39291.968750   \n",
      "2024-07-10  39272.449219  39736.199219  39256.718750  39721.359375   \n",
      "2024-07-11  39695.179688  39875.601562  39623.121094  39753.750000   \n",
      "2024-07-12  39783.281250  40257.238281  39783.281250  40000.898438   \n",
      "2024-07-15  40138.398438  40351.101562  40136.101562  40211.718750   \n",
      "2024-07-16  40263.781250  40988.808594  40263.781250  40954.480469   \n",
      "2024-07-17  40862.570312  41221.980469  40849.710938  41198.078125   \n",
      "2024-07-18  41156.558594  41376.000000  40597.500000  40665.019531   \n",
      "2024-07-19  40592.351562  40626.160156  40203.269531  40287.531250   \n",
      "\n",
      "               Adj Close     Volume  \n",
      "Date                                 \n",
      "2024-07-08  39344.789062  358320000  \n",
      "2024-07-09  39291.968750  361410000  \n",
      "2024-07-10  39721.359375  334180000  \n",
      "2024-07-11  39753.750000  361530000  \n",
      "2024-07-12  40000.898438  325780000  \n",
      "2024-07-15  40211.718750  308880000  \n",
      "2024-07-16  40954.480469  306390000  \n",
      "2024-07-17  41198.078125  433450000  \n",
      "2024-07-18  40665.019531  393450000  \n",
      "2024-07-19  40287.531250  348530000  \n"
     ]
    },
    {
     "name": "stderr",
     "output_type": "stream",
     "text": [
      "\n"
     ]
    }
   ],
   "source": [
    "df = yf.download(ticker, start, end)\n",
    "print(df)"
   ]
  },
  {
   "cell_type": "code",
   "execution_count": 16,
   "id": "56985866-83f3-484b-97c9-d25a904ba2f0",
   "metadata": {},
   "outputs": [
    {
     "data": {
      "text/plain": [
       "'40287.53'"
      ]
     },
     "execution_count": 16,
     "metadata": {},
     "output_type": "execute_result"
    }
   ],
   "source": [
    "'%.2f' % df.tail(2)['Adj Close'].iloc[1]"
   ]
  },
  {
   "cell_type": "code",
   "execution_count": 18,
   "id": "4b2b10fc-1ad3-4b36-85fa-17d2a117f24b",
   "metadata": {},
   "outputs": [
    {
     "data": {
      "text/plain": [
       "'-377.49'"
      ]
     },
     "execution_count": 18,
     "metadata": {},
     "output_type": "execute_result"
    }
   ],
   "source": [
    "'%.2f' % (df.tail(2)['Adj Close'].iloc[1] - df.tail(2)['Adj Close'].iloc[0])"
   ]
  },
  {
   "cell_type": "code",
   "execution_count": 26,
   "id": "9dbbb7c4-e637-40b5-812b-121e9ea7a73f",
   "metadata": {},
   "outputs": [
    {
     "data": {
      "text/plain": [
       "'2024-07-19'"
      ]
     },
     "execution_count": 26,
     "metadata": {},
     "output_type": "execute_result"
    }
   ],
   "source": [
    "str(df.tail(1).index[0].date())"
   ]
  },
  {
   "cell_type": "code",
   "execution_count": null,
   "id": "2b02bd23-fc75-4c91-b529-f1c7101327a8",
   "metadata": {},
   "outputs": [],
   "source": []
  }
 ],
 "metadata": {
  "kernelspec": {
   "display_name": "Python 3 (ipykernel)",
   "language": "python",
   "name": "python3"
  },
  "language_info": {
   "codemirror_mode": {
    "name": "ipython",
    "version": 3
   },
   "file_extension": ".py",
   "mimetype": "text/x-python",
   "name": "python",
   "nbconvert_exporter": "python",
   "pygments_lexer": "ipython3",
   "version": "3.12.1"
  }
 },
 "nbformat": 4,
 "nbformat_minor": 5
}
