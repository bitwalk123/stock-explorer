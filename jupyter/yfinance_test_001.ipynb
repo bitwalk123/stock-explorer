{
 "cells": [
  {
   "cell_type": "code",
   "execution_count": 1,
   "id": "f7801087-aa62-4b1f-9243-0667e308c10c",
   "metadata": {},
   "outputs": [],
   "source": [
    "import datetime as dt\n",
    "import yfinance as yf"
   ]
  },
  {
   "cell_type": "code",
   "execution_count": 2,
   "id": "f839c5b9-96df-4dfd-8538-9c4c0bae9a91",
   "metadata": {},
   "outputs": [
    {
     "data": {
      "text/plain": [
       "datetime.date(2024, 7, 8)"
      ]
     },
     "execution_count": 2,
     "metadata": {},
     "output_type": "execute_result"
    }
   ],
   "source": [
    "end = dt.date.today()\n",
    "start = end + dt.timedelta(days=-14)\n",
    "start"
   ]
  },
  {
   "cell_type": "code",
   "execution_count": 10,
   "id": "d9152108-dbaa-4e01-913b-79f286c5110f",
   "metadata": {},
   "outputs": [],
   "source": [
    "#ticker = '^DJI'\n",
    "ticker = '^BSESN'"
   ]
  },
  {
   "cell_type": "code",
   "execution_count": 11,
   "id": "5e0ec47f-2993-4d0e-9ee7-206b20ed29bb",
   "metadata": {},
   "outputs": [
    {
     "name": "stderr",
     "output_type": "stream",
     "text": [
      "[*********************100%%**********************]  1 of 1 completed"
     ]
    },
    {
     "name": "stdout",
     "output_type": "stream",
     "text": [
      "                    Open          High           Low         Close  \\\n",
      "Date                                                                 \n",
      "2024-07-08  79915.000000  80067.460938  79731.828125  79960.382812   \n",
      "2024-07-09  80107.210938  80397.171875  79998.562500  80351.640625   \n",
      "2024-07-10  80481.359375  80481.359375  79435.757812  79924.773438   \n",
      "2024-07-11  80170.093750  80170.093750  79464.382812  79897.343750   \n",
      "2024-07-12  80093.617188  80893.507812  79843.390625  80519.343750   \n",
      "2024-07-15  80686.539062  80862.539062  80556.968750  80664.859375   \n",
      "2024-07-16  80731.492188  80898.296875  80598.062500  80716.546875   \n",
      "2024-07-18  80514.250000  81522.546875  80390.367188  81343.460938   \n",
      "2024-07-19  81585.062500  81587.757812  80499.101562  80604.648438   \n",
      "\n",
      "               Adj Close  Volume  \n",
      "Date                              \n",
      "2024-07-08  79960.382812   14100  \n",
      "2024-07-09  80351.640625    6200  \n",
      "2024-07-10  79924.773438    9300  \n",
      "2024-07-11  79897.343750    8200  \n",
      "2024-07-12  80519.343750   18400  \n",
      "2024-07-15  80664.859375   16200  \n",
      "2024-07-16  80716.546875    8700  \n",
      "2024-07-18  81343.460938    9300  \n",
      "2024-07-19  80604.648438   16100  \n"
     ]
    },
    {
     "name": "stderr",
     "output_type": "stream",
     "text": [
      "\n"
     ]
    }
   ],
   "source": [
    "df = yf.download(ticker, start, end)\n",
    "print(df)"
   ]
  },
  {
   "cell_type": "code",
   "execution_count": 5,
   "id": "56985866-83f3-484b-97c9-d25a904ba2f0",
   "metadata": {},
   "outputs": [
    {
     "data": {
      "text/plain": [
       "'80604.65'"
      ]
     },
     "execution_count": 5,
     "metadata": {},
     "output_type": "execute_result"
    }
   ],
   "source": [
    "'%.2f' % df.tail(2)['Adj Close'].iloc[1]"
   ]
  },
  {
   "cell_type": "code",
   "execution_count": 6,
   "id": "4b2b10fc-1ad3-4b36-85fa-17d2a117f24b",
   "metadata": {},
   "outputs": [
    {
     "data": {
      "text/plain": [
       "'-738.81'"
      ]
     },
     "execution_count": 6,
     "metadata": {},
     "output_type": "execute_result"
    }
   ],
   "source": [
    "'%.2f' % (df.tail(2)['Adj Close'].iloc[1] - df.tail(2)['Adj Close'].iloc[0])"
   ]
  },
  {
   "cell_type": "code",
   "execution_count": 7,
   "id": "9dbbb7c4-e637-40b5-812b-121e9ea7a73f",
   "metadata": {},
   "outputs": [
    {
     "data": {
      "text/plain": [
       "'2024-07-19'"
      ]
     },
     "execution_count": 7,
     "metadata": {},
     "output_type": "execute_result"
    }
   ],
   "source": [
    "str(df.tail(1).index[0].date())"
   ]
  },
  {
   "cell_type": "code",
   "execution_count": null,
   "id": "2b02bd23-fc75-4c91-b529-f1c7101327a8",
   "metadata": {},
   "outputs": [],
   "source": []
  }
 ],
 "metadata": {
  "kernelspec": {
   "display_name": "Python 3 (ipykernel)",
   "language": "python",
   "name": "python3"
  },
  "language_info": {
   "codemirror_mode": {
    "name": "ipython",
    "version": 3
   },
   "file_extension": ".py",
   "mimetype": "text/x-python",
   "name": "python",
   "nbconvert_exporter": "python",
   "pygments_lexer": "ipython3",
   "version": "3.12.1"
  }
 },
 "nbformat": 4,
 "nbformat_minor": 5
}
