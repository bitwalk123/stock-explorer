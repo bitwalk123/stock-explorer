{
 "cells": [
  {
   "cell_type": "code",
   "execution_count": 2,
   "id": "f7801087-aa62-4b1f-9243-0667e308c10c",
   "metadata": {},
   "outputs": [],
   "source": [
    "import datetime as dt\n",
    "import yfinance as yf"
   ]
  },
  {
   "cell_type": "code",
   "execution_count": 3,
   "id": "f839c5b9-96df-4dfd-8538-9c4c0bae9a91",
   "metadata": {},
   "outputs": [
    {
     "data": {
      "text/plain": [
       "datetime.date(2024, 7, 9)"
      ]
     },
     "execution_count": 3,
     "metadata": {},
     "output_type": "execute_result"
    }
   ],
   "source": [
    "end = dt.date.today()\n",
    "start = end + dt.timedelta(days=-14)\n",
    "start"
   ]
  },
  {
   "cell_type": "code",
   "execution_count": 4,
   "id": "d9152108-dbaa-4e01-913b-79f286c5110f",
   "metadata": {},
   "outputs": [],
   "source": [
    "#ticker = '^DJI'\n",
    "#ticker = '^BSESN'\n",
    "ticker = '000001.SS'"
   ]
  },
  {
   "cell_type": "code",
   "execution_count": 5,
   "id": "5e0ec47f-2993-4d0e-9ee7-206b20ed29bb",
   "metadata": {},
   "outputs": [
    {
     "name": "stderr",
     "output_type": "stream",
     "text": [
      "[*********************100%%**********************]  1 of 1 completed"
     ]
    },
    {
     "name": "stdout",
     "output_type": "stream",
     "text": [
      "                   Open         High          Low        Close    Adj Close  \\\n",
      "Date                                                                          \n",
      "2024-07-09  2919.572998  2963.781982  2904.039062  2959.372070  2959.372070   \n",
      "2024-07-10  2949.025879  2958.858887  2935.330078  2939.364014  2939.364014   \n",
      "2024-07-11  2957.250000  2971.361084  2947.403076  2970.386963  2970.386963   \n",
      "2024-07-12  2965.612061  2977.142090  2963.302979  2971.294922  2971.294922   \n",
      "2024-07-15  2963.846924  2977.312988  2959.128906  2974.010986  2974.010986   \n",
      "2024-07-16  2963.899902  2977.361084  2959.666016  2976.303955  2976.303955   \n",
      "2024-07-17  2970.808105  2972.794922  2957.947998  2962.854980  2962.854980   \n",
      "2024-07-18  2951.143066  2978.092041  2937.905029  2977.133057  2977.133057   \n",
      "2024-07-19  2963.513916  2986.242920  2955.120117  2982.309082  2982.309082   \n",
      "2024-07-22  2978.193115  2978.600586  2946.560791  2964.215576  2964.215576   \n",
      "\n",
      "                Volume  \n",
      "Date                    \n",
      "2024-07-09      315100  \n",
      "2024-07-10      301500  \n",
      "2024-07-11      328400  \n",
      "2024-07-12      303700  \n",
      "2024-07-15      269000  \n",
      "2024-07-16      260800  \n",
      "2024-07-17      282300  \n",
      "2024-07-18      278000  \n",
      "2024-07-19      280900  \n",
      "2024-07-22  2105152124  \n"
     ]
    },
    {
     "name": "stderr",
     "output_type": "stream",
     "text": [
      "\n"
     ]
    }
   ],
   "source": [
    "df = yf.download(ticker, start, end)\n",
    "print(df)"
   ]
  },
  {
   "cell_type": "code",
   "execution_count": 5,
   "id": "56985866-83f3-484b-97c9-d25a904ba2f0",
   "metadata": {},
   "outputs": [
    {
     "data": {
      "text/plain": [
       "'80604.65'"
      ]
     },
     "execution_count": 5,
     "metadata": {},
     "output_type": "execute_result"
    }
   ],
   "source": [
    "'%.2f' % df.tail(2)['Adj Close'].iloc[1]"
   ]
  },
  {
   "cell_type": "code",
   "execution_count": 6,
   "id": "4b2b10fc-1ad3-4b36-85fa-17d2a117f24b",
   "metadata": {},
   "outputs": [
    {
     "data": {
      "text/plain": [
       "'-738.81'"
      ]
     },
     "execution_count": 6,
     "metadata": {},
     "output_type": "execute_result"
    }
   ],
   "source": [
    "'%.2f' % (df.tail(2)['Adj Close'].iloc[1] - df.tail(2)['Adj Close'].iloc[0])"
   ]
  },
  {
   "cell_type": "code",
   "execution_count": 7,
   "id": "9dbbb7c4-e637-40b5-812b-121e9ea7a73f",
   "metadata": {},
   "outputs": [
    {
     "data": {
      "text/plain": [
       "'2024-07-19'"
      ]
     },
     "execution_count": 7,
     "metadata": {},
     "output_type": "execute_result"
    }
   ],
   "source": [
    "str(df.tail(1).index[0].date())"
   ]
  },
  {
   "cell_type": "code",
   "execution_count": null,
   "id": "2b02bd23-fc75-4c91-b529-f1c7101327a8",
   "metadata": {},
   "outputs": [],
   "source": []
  }
 ],
 "metadata": {
  "kernelspec": {
   "display_name": "Python 3 (ipykernel)",
   "language": "python",
   "name": "python3"
  },
  "language_info": {
   "codemirror_mode": {
    "name": "ipython",
    "version": 3
   },
   "file_extension": ".py",
   "mimetype": "text/x-python",
   "name": "python",
   "nbconvert_exporter": "python",
   "pygments_lexer": "ipython3",
   "version": "3.12.1"
  }
 },
 "nbformat": 4,
 "nbformat_minor": 5
}
