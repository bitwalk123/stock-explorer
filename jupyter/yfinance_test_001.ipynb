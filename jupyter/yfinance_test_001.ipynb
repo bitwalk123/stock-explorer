{
 "cells": [
  {
   "cell_type": "code",
   "execution_count": 2,
   "id": "f7801087-aa62-4b1f-9243-0667e308c10c",
   "metadata": {},
   "outputs": [],
   "source": [
    "import datetime as dt\n",
    "import yfinance as yf"
   ]
  },
  {
   "cell_type": "code",
   "execution_count": 3,
   "id": "f839c5b9-96df-4dfd-8538-9c4c0bae9a91",
   "metadata": {},
   "outputs": [
    {
     "data": {
      "text/plain": [
       "datetime.date(2024, 7, 9)"
      ]
     },
     "execution_count": 3,
     "metadata": {},
     "output_type": "execute_result"
    }
   ],
   "source": [
    "end = dt.date.today()\n",
    "start = end + dt.timedelta(days=-14)\n",
    "start"
   ]
  },
  {
   "cell_type": "code",
   "execution_count": 11,
   "id": "d9152108-dbaa-4e01-913b-79f286c5110f",
   "metadata": {},
   "outputs": [],
   "source": [
    "#ticker = '^DJI'\n",
    "#ticker = '^BSESN'\n",
    "#ticker = '000001.SS'\n",
    "ticker = '^KS11'"
   ]
  },
  {
   "cell_type": "code",
   "execution_count": 12,
   "id": "5e0ec47f-2993-4d0e-9ee7-206b20ed29bb",
   "metadata": {},
   "outputs": [
    {
     "name": "stderr",
     "output_type": "stream",
     "text": [
      "[*********************100%%**********************]  1 of 1 completed"
     ]
    },
    {
     "name": "stdout",
     "output_type": "stream",
     "text": [
      "                   Open         High          Low        Close    Adj Close  \\\n",
      "Date                                                                          \n",
      "2024-07-09  2872.629883  2875.370117  2854.129883  2867.379883  2867.379883   \n",
      "2024-07-10  2863.050049  2871.560059  2858.870117  2867.989990  2867.989990   \n",
      "2024-07-11  2888.760010  2896.429932  2879.280029  2891.350098  2891.350098   \n",
      "2024-07-12  2867.750000  2872.250000  2844.879883  2857.000000  2857.000000   \n",
      "2024-07-15  2869.149902  2872.899902  2848.929932  2860.919922  2860.919922   \n",
      "2024-07-16  2861.709961  2872.209961  2857.070068  2866.090088  2866.090088   \n",
      "2024-07-17  2865.899902  2868.580078  2841.330078  2843.290039  2843.290039   \n",
      "2024-07-18  2805.639893  2824.350098  2799.020020  2824.350098  2824.350098   \n",
      "2024-07-19  2800.209961  2802.679932  2776.989990  2795.459961  2795.459961   \n",
      "2024-07-22     0.000000     0.000000     0.000000  2763.510010  2763.510010   \n",
      "\n",
      "            Volume  \n",
      "Date                \n",
      "2024-07-09  455800  \n",
      "2024-07-10  471800  \n",
      "2024-07-11  461700  \n",
      "2024-07-12  407400  \n",
      "2024-07-15  424500  \n",
      "2024-07-16  677300  \n",
      "2024-07-17  548100  \n",
      "2024-07-18  657700  \n",
      "2024-07-19  425600  \n",
      "2024-07-22       0  \n"
     ]
    },
    {
     "name": "stderr",
     "output_type": "stream",
     "text": [
      "\n"
     ]
    }
   ],
   "source": [
    "df = yf.download(ticker, start, end)\n",
    "print(df)"
   ]
  },
  {
   "cell_type": "code",
   "execution_count": 5,
   "id": "56985866-83f3-484b-97c9-d25a904ba2f0",
   "metadata": {},
   "outputs": [
    {
     "data": {
      "text/plain": [
       "'80604.65'"
      ]
     },
     "execution_count": 5,
     "metadata": {},
     "output_type": "execute_result"
    }
   ],
   "source": [
    "'%.2f' % df.tail(2)['Adj Close'].iloc[1]"
   ]
  },
  {
   "cell_type": "code",
   "execution_count": 6,
   "id": "4b2b10fc-1ad3-4b36-85fa-17d2a117f24b",
   "metadata": {},
   "outputs": [
    {
     "data": {
      "text/plain": [
       "'-738.81'"
      ]
     },
     "execution_count": 6,
     "metadata": {},
     "output_type": "execute_result"
    }
   ],
   "source": [
    "'%.2f' % (df.tail(2)['Adj Close'].iloc[1] - df.tail(2)['Adj Close'].iloc[0])"
   ]
  },
  {
   "cell_type": "code",
   "execution_count": 7,
   "id": "9dbbb7c4-e637-40b5-812b-121e9ea7a73f",
   "metadata": {},
   "outputs": [
    {
     "data": {
      "text/plain": [
       "'2024-07-19'"
      ]
     },
     "execution_count": 7,
     "metadata": {},
     "output_type": "execute_result"
    }
   ],
   "source": [
    "str(df.tail(1).index[0].date())"
   ]
  },
  {
   "cell_type": "code",
   "execution_count": null,
   "id": "2b02bd23-fc75-4c91-b529-f1c7101327a8",
   "metadata": {},
   "outputs": [],
   "source": []
  }
 ],
 "metadata": {
  "kernelspec": {
   "display_name": "Python 3 (ipykernel)",
   "language": "python",
   "name": "python3"
  },
  "language_info": {
   "codemirror_mode": {
    "name": "ipython",
    "version": 3
   },
   "file_extension": ".py",
   "mimetype": "text/x-python",
   "name": "python",
   "nbconvert_exporter": "python",
   "pygments_lexer": "ipython3",
   "version": "3.12.1"
  }
 },
 "nbformat": 4,
 "nbformat_minor": 5
}
