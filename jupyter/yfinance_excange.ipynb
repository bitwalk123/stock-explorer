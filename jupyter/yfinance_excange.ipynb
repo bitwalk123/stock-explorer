{
 "cells": [
  {
   "cell_type": "code",
   "execution_count": 2,
   "id": "3eb94513-d90b-4205-ab2d-3bfc8020056a",
   "metadata": {},
   "outputs": [
    {
     "name": "stderr",
     "output_type": "stream",
     "text": [
      "[*********************100%%**********************]  1 of 1 completed"
     ]
    },
    {
     "name": "stdout",
     "output_type": "stream",
     "text": [
      "                                 Open        High         Low       Close  \\\n",
      "Datetime                                                                    \n",
      "2024-07-29 00:00:00+01:00  154.016006  154.044998  154.005005  154.042999   \n",
      "2024-07-29 00:01:00+01:00  154.042007  154.076996  154.031006  154.052002   \n",
      "2024-07-29 00:02:00+01:00  154.046005  154.074997  154.046005  154.069000   \n",
      "2024-07-29 00:03:00+01:00  154.070999  154.093994  154.067993  154.074997   \n",
      "2024-07-29 00:04:00+01:00  154.076004  154.078003  154.052994  154.052994   \n",
      "...                               ...         ...         ...         ...   \n",
      "2024-07-30 20:59:00+01:00  153.274002  153.279999  153.263000  153.274994   \n",
      "2024-07-30 21:00:00+01:00  153.268997  153.281998  153.246002  153.255005   \n",
      "2024-07-30 21:01:00+01:00  153.259995  153.259995  153.192993  153.199997   \n",
      "2024-07-30 21:02:00+01:00  153.233002  153.233002  153.097000  153.100998   \n",
      "2024-07-30 21:03:00+01:00  153.104004  153.106003  153.070999  153.078003   \n",
      "\n",
      "                            Adj Close  Volume  \n",
      "Datetime                                       \n",
      "2024-07-29 00:00:00+01:00  154.042999       0  \n",
      "2024-07-29 00:01:00+01:00  154.052002       0  \n",
      "2024-07-29 00:02:00+01:00  154.069000       0  \n",
      "2024-07-29 00:03:00+01:00  154.074997       0  \n",
      "2024-07-29 00:04:00+01:00  154.052994       0  \n",
      "...                               ...     ...  \n",
      "2024-07-30 20:59:00+01:00  153.274994       0  \n",
      "2024-07-30 21:00:00+01:00  153.255005       0  \n",
      "2024-07-30 21:01:00+01:00  153.199997       0  \n",
      "2024-07-30 21:02:00+01:00  153.100998       0  \n",
      "2024-07-30 21:03:00+01:00  153.078003       0  \n",
      "\n",
      "[2700 rows x 6 columns]\n"
     ]
    },
    {
     "name": "stderr",
     "output_type": "stream",
     "text": [
      "\n"
     ]
    }
   ],
   "source": [
    "# Reference:\n",
    "# https://support.yahoo-net.jp/PccFinance/s/article/H000006607\n",
    "\n",
    "import datetime as dt\n",
    "import yfinance as yf\n",
    "\n",
    "#start = dt.date(2010, 1, 1)\n",
    "start = dt.date(2024, 7, 29)\n",
    "end = dt.date.today()\n",
    "\n",
    "# ターゲットを指定\n",
    "ticker = 'USDJPY=X' # USA Dollar\n",
    "#ticker = 'GBPJPY=X' # Great Britain Pound\n",
    "#ticker = 'INRJPY=X' # India Rupee\n",
    "#ticker = 'IDRJPY=X' #  Indonesia Rupiah\n",
    "#ticker = 'EGPJPY=X' # Egypt Pound\n",
    "#ticker = 'AUDJPY=X' # Australia Dallar\n",
    "#ticker = 'CADJPY=X' # Canada Dollar\n",
    "#ticker = 'KRWJPY=X' # Korea Won\n",
    "#ticker = 'KWDJPY=X' # Kuwait Dinar x\n",
    "#ticker = 'COPJPY=X' # Colombia Peso x\n",
    "#ticker = 'SARJPY=X' # Saudi Arabia Riyal\n",
    "#ticker = 'SGDJPY=X' # Singapore Dollar\n",
    "#ticker = 'CHFJPY=X' # Switzerland Franc\n",
    "#ticker = 'SEKJPY=X' # Sweden Krona\n",
    "#ticker = 'THBJPY=X' # Thai Baht\n",
    "#ticker = 'TWDJPY=X' # Taiwan Dollar\n",
    "#ticker = 'CNYJPY=X' # China Yuan\n",
    "#ticker = 'CLPJPY=X' # Chile Peso x\n",
    "#ticker = 'DKKJPY=X' # Denmark Krone\n",
    "#ticker = 'TRYJPY=X' # Turkey Lira\n",
    "#ticker = 'NZDJPY=X' # New Zealand Dollar\n",
    "#ticker = 'NOKJPY=X' # Norway Krone\n",
    "#ticker = 'PYGJPY=X' # Paraguay Guarani x\n",
    "#ticker = 'PHPJPY=X' # Philippines Peso\n",
    "#ticker = 'BRLJPY=X' # Brazil Real\n",
    "#ticker = 'VESJPY=X' # Venezuela Bolívar Soberano x\n",
    "#ticker = 'PENJPY=X' # Peru Nuevo Sol x\n",
    "#ticker = 'HKDJPY=X' # Hong Kong Dollar\n",
    "#ticker = 'MYRJPY=X' # Malaysia Ringgit\n",
    "#ticker = 'ZARJPY=X' # South Africa Rand\n",
    "#ticker = 'MXNJPY=X' # Mexico Peso\n",
    "#ticker = 'AEDJPY=X' # UAE Dirham\n",
    "#ticker = 'EURJPY=X' # EU Euro\n",
    "#ticker = 'JODJPY=X' # Jordan Dinar x\n",
    "#ticker = 'RONJPY=X' # Romania Leu x\n",
    "#ticker = 'LBPJPY=X' # Lebanon Dollar x\n",
    "#ticker = 'RUBJPY=X' # Russia Ruble\n",
    "\n",
    "\n",
    "#ticker = '^N225' # Nikkei 225\n",
    "#ticker = '^DJI' # Dow Jones Industrial Average\n",
    "#ticker = '^IXIC' # NASDAQ Composite\n",
    "#ticker = '^GSPC' # S＆P 500\n",
    "#ticker = 'JPXN' # iShares JPX-Nikkei 400 ETF\n",
    "#ticker = '1364.T' # iShares JPX-Nikkei 400 ETF\n",
    "\n",
    "\n",
    "\n",
    "# データを収集\n",
    "df = yf.download(ticker, start, end)\n",
    "#df = yf.download(ticker, start, end, interval='1m')\n",
    "#df = yf.download(tickers, start, end)\n",
    "print(df)"
   ]
  },
  {
   "cell_type": "code",
   "execution_count": null,
   "id": "cb568c8d-7acd-401d-9158-64606e082490",
   "metadata": {},
   "outputs": [],
   "source": []
  },
  {
   "cell_type": "code",
   "execution_count": null,
   "id": "fc403bf9-b61d-4f5d-a4fd-22310cc0501f",
   "metadata": {},
   "outputs": [],
   "source": []
  },
  {
   "cell_type": "code",
   "execution_count": null,
   "id": "9b674a44-4fb5-4b6d-885b-fd509aa766dc",
   "metadata": {},
   "outputs": [],
   "source": []
  }
 ],
 "metadata": {
  "kernelspec": {
   "display_name": "Python 3 (ipykernel)",
   "language": "python",
   "name": "python3"
  },
  "language_info": {
   "codemirror_mode": {
    "name": "ipython",
    "version": 3
   },
   "file_extension": ".py",
   "mimetype": "text/x-python",
   "name": "python",
   "nbconvert_exporter": "python",
   "pygments_lexer": "ipython3",
   "version": "3.12.1"
  }
 },
 "nbformat": 4,
 "nbformat_minor": 5
}
