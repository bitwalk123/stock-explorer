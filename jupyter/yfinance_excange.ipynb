{
 "cells": [
  {
   "cell_type": "code",
   "execution_count": 2,
   "id": "3eb94513-d90b-4205-ab2d-3bfc8020056a",
   "metadata": {},
   "outputs": [
    {
     "name": "stderr",
     "output_type": "stream",
     "text": [
      "[*********************100%%**********************]  1 of 1 completed"
     ]
    },
    {
     "name": "stdout",
     "output_type": "stream",
     "text": [
      "                    Open          High           Low         Close  \\\n",
      "Date                                                                 \n",
      "2024-01-04  33193.050781  33299.390625  32693.179688  33288.289062   \n",
      "2024-01-05  33397.519531  33568.039062  33257.429688  33377.421875   \n",
      "2024-01-09  33704.828125  33990.281250  33600.320312  33763.179688   \n",
      "2024-01-10  33896.328125  34539.019531  33885.738281  34441.718750   \n",
      "2024-01-11  34871.328125  35157.558594  34849.570312  35049.859375   \n",
      "2024-01-12  35601.648438  35839.648438  35362.238281  35577.109375   \n",
      "\n",
      "               Adj Close     Volume  \n",
      "Date                                 \n",
      "2024-01-04  33288.289062  117300000  \n",
      "2024-01-05  33377.421875  115300000  \n",
      "2024-01-09  33763.179688  112100000  \n",
      "2024-01-10  34441.718750  106000000  \n",
      "2024-01-11  35049.859375  130100000  \n",
      "2024-01-12  35577.109375          0  \n"
     ]
    },
    {
     "name": "stderr",
     "output_type": "stream",
     "text": [
      "\n"
     ]
    }
   ],
   "source": [
    "# Reference:\n",
    "# https://support.yahoo-net.jp/PccFinance/s/article/H000006607\n",
    "\n",
    "import datetime as dt\n",
    "import yfinance as yf\n",
    "\n",
    "#start = dt.date(2010, 1, 1)\n",
    "start = dt.date(2024, 1, 1)\n",
    "end = dt.date.today()\n",
    "\n",
    "# ターゲットを指定\n",
    "#ticker = 'USDJPY=X' # USA Dollar\n",
    "#ticker = 'GBPJPY=X' # Great Britain Pound\n",
    "#ticker = 'INRJPY=X' # India Rupee\n",
    "#ticker = 'IDRJPY=X' #  Indonesia Rupiah\n",
    "#ticker = 'EGPJPY=X' # Egypt Pound\n",
    "#ticker = 'AUDJPY=X' # Australia Dallar\n",
    "#ticker = 'CADJPY=X' # Canada Dollar\n",
    "#ticker = 'KRWJPY=X' # Korea Won\n",
    "#ticker = 'KWDJPY=X' # Kuwait Dinar x\n",
    "#ticker = 'COPJPY=X' # Colombia Peso x\n",
    "#ticker = 'SARJPY=X' # Saudi Arabia Riyal\n",
    "#ticker = 'SGDJPY=X' # Singapore Dollar\n",
    "#ticker = 'CHFJPY=X' # Switzerland Franc\n",
    "#ticker = 'SEKJPY=X' # Sweden Krona\n",
    "#ticker = 'THBJPY=X' # Thai Baht\n",
    "#ticker = 'TWDJPY=X' # Taiwan Dollar\n",
    "#ticker = 'CNYJPY=X' # China Yuan\n",
    "#ticker = 'CLPJPY=X' # Chile Peso x\n",
    "#ticker = 'DKKJPY=X' # Denmark Krone\n",
    "#ticker = 'TRYJPY=X' # Turkey Lira\n",
    "#ticker = 'NZDJPY=X' # New Zealand Dollar\n",
    "#ticker = 'NOKJPY=X' # Norway Krone\n",
    "#ticker = 'PYGJPY=X' # Paraguay Guarani x\n",
    "#ticker = 'PHPJPY=X' # Philippines Peso\n",
    "#ticker = 'BRLJPY=X' # Brazil Real\n",
    "#ticker = 'VESJPY=X' # Venezuela Bolívar Soberano x\n",
    "#ticker = 'PENJPY=X' # Peru Nuevo Sol x\n",
    "#ticker = 'HKDJPY=X' # Hong Kong Dollar\n",
    "#ticker = 'MYRJPY=X' # Malaysia Ringgit\n",
    "#ticker = 'ZARJPY=X' # South Africa Rand\n",
    "#ticker = 'MXNJPY=X' # Mexico Peso\n",
    "#ticker = 'AEDJPY=X' # UAE Dirham\n",
    "#ticker = 'EURJPY=X' # EU Euro\n",
    "#ticker = 'JODJPY=X' # Jordan Dinar x\n",
    "#ticker = 'RONJPY=X' # Romania Leu x\n",
    "#ticker = 'LBPJPY=X' # Lebanon Dollar x\n",
    "#ticker = 'RUBJPY=X' # Russia Ruble\n",
    "\n",
    "\n",
    "ticker = '^N225' # Nikkei 225\n",
    "#ticker = '^DJI' # Dow Jones Industrial Average\n",
    "#ticker = '^IXIC' # NASDAQ Composite\n",
    "#ticker = '^GSPC' # S＆P 500\n",
    "#ticker = 'JPXN' # iShares JPX-Nikkei 400 ETF\n",
    "#ticker = '1364.T' # iShares JPX-Nikkei 400 ETF\n",
    "\n",
    "\n",
    "\n",
    "# データを収集\n",
    "df = yf.download(ticker, start, end)\n",
    "#df = yf.download(tickers, start, end)\n",
    "print(df)"
   ]
  },
  {
   "cell_type": "code",
   "execution_count": null,
   "id": "fc403bf9-b61d-4f5d-a4fd-22310cc0501f",
   "metadata": {},
   "outputs": [],
   "source": []
  },
  {
   "cell_type": "code",
   "execution_count": null,
   "id": "9b674a44-4fb5-4b6d-885b-fd509aa766dc",
   "metadata": {},
   "outputs": [],
   "source": []
  }
 ],
 "metadata": {
  "kernelspec": {
   "display_name": "Python 3 (ipykernel)",
   "language": "python",
   "name": "python3"
  },
  "language_info": {
   "codemirror_mode": {
    "name": "ipython",
    "version": 3
   },
   "file_extension": ".py",
   "mimetype": "text/x-python",
   "name": "python",
   "nbconvert_exporter": "python",
   "pygments_lexer": "ipython3",
   "version": "3.12.1"
  }
 },
 "nbformat": 4,
 "nbformat_minor": 5
}
