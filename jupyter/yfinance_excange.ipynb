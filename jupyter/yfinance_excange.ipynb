{
 "cells": [
  {
   "cell_type": "code",
   "execution_count": 47,
   "id": "3eb94513-d90b-4205-ab2d-3bfc8020056a",
   "metadata": {},
   "outputs": [
    {
     "name": "stdout",
     "output_type": "stream",
     "text": [
      "[*********************100%%**********************]  1 of 1 completed\n",
      "                Open      High       Low     Close  Adj Close  Volume\n",
      "Date                                                                 \n",
      "2023-12-01  1.642662  1.670022  1.621560  1.643940   1.643940       0\n",
      "2023-12-04  1.602696  1.622367  1.602696  1.609270   1.609270       0\n",
      "2023-12-05  1.608205  1.632455  1.586274  1.608401   1.608401       0\n",
      "2023-12-06  1.630383  1.631901  1.577258  1.630738   1.630738       0\n",
      "2023-12-07  1.585253  1.585253  1.551732  1.586147   1.586147       0\n",
      "2023-12-08  1.549713  1.590960  1.546469  1.554796   1.554796       0\n",
      "2023-12-11  1.574106  1.617961  1.574106  1.571081   1.571081       0\n",
      "2023-12-12  1.602703  1.618225  1.602067  1.606803   1.606803       0\n",
      "2023-12-13  1.610439  1.624850  1.607592  1.609675   1.609675       0\n",
      "2023-12-14  1.596498  1.596498  1.565466  1.601348   1.601348       0\n",
      "2023-12-15  1.589097  1.590994  1.560461  1.584335   1.584335       0\n",
      "2023-12-18  1.570381  1.589829  1.566098  1.567602   1.567602       0\n",
      "2023-12-19  1.572593  1.608321  1.572593  1.578075   1.578075       0\n",
      "2023-12-20  1.591139  1.603748  1.572757  1.590189   1.590189       0\n",
      "2023-12-21  1.592039  1.592039  1.536633  1.596033   1.596033       0\n",
      "2023-12-22  1.528758  1.555236  1.528758  1.529937   1.529937       0\n",
      "2023-12-25  1.545681  1.558641  1.543453  1.547602   1.547602       0\n",
      "2023-12-26  1.546521  1.557459  1.546521  1.547092   1.547092       0\n"
     ]
    }
   ],
   "source": [
    "# Reference:\n",
    "# https://support.yahoo-net.jp/PccFinance/s/article/H000006607\n",
    "\n",
    "import datetime as dt\n",
    "import yfinance as yf\n",
    "\n",
    "#start = dt.date(2010, 1, 1)\n",
    "start = dt.date(2023, 12, 1)\n",
    "end = dt.date.today()\n",
    "\n",
    "# ターゲットを指定\n",
    "#ticker = 'USDJPY=X' # USA Dollar\n",
    "#ticker = 'GBPJPY=X' # Great Britain Pound\n",
    "#ticker = 'INRJPY=X' # India Rupee\n",
    "#ticker = 'IDRJPY=X' #  Indonesia Rupiah\n",
    "#ticker = 'EGPJPY=X' # Egypt Pound\n",
    "#ticker = 'AUDJPY=X' # Australia Dallar\n",
    "#ticker = 'CADJPY=X' # Canada Dollar\n",
    "#ticker = 'KRWJPY=X' # Korea Won\n",
    "#ticker = 'KWDJPY=X' # Kuwait Dinar x\n",
    "#ticker = 'COPJPY=X' # Colombia Peso x\n",
    "#ticker = 'SARJPY=X' # Saudi Arabia Riyal\n",
    "#ticker = 'SGDJPY=X' # Singapore Dollar\n",
    "#ticker = 'CHFJPY=X' # Switzerland Franc\n",
    "#ticker = 'SEKJPY=X' # Sweden Krona\n",
    "#ticker = 'THBJPY=X' # Thai Baht\n",
    "#ticker = 'TWDJPY=X' # Taiwan Dollar\n",
    "#ticker = 'CNYJPY=X' # China Yuan\n",
    "#ticker = 'CLPJPY=X' # Chile Peso x\n",
    "#ticker = 'DKKJPY=X' # Denmark Krone\n",
    "#ticker = 'TRYJPY=X' # Turkey Lira\n",
    "#ticker = 'NZDJPY=X' # New Zealand Dollar\n",
    "#ticker = 'NOKJPY=X' # Norway Krone\n",
    "#ticker = 'PYGJPY=X' # Paraguay Guarani x\n",
    "#ticker = 'PHPJPY=X' # Philippines Peso\n",
    "#ticker = 'BRLJPY=X' # Brazil Real\n",
    "#ticker = 'VESJPY=X' # Venezuela Bolívar Soberano x\n",
    "#ticker = 'PENJPY=X' # Peru Nuevo Sol x\n",
    "#ticker = 'HKDJPY=X' # Hong Kong Dollar\n",
    "#ticker = 'MYRJPY=X' # Malaysia Ringgit\n",
    "#ticker = 'ZARJPY=X' # South Africa Rand\n",
    "#ticker = 'MXNJPY=X' # Mexico Peso\n",
    "#ticker = 'AEDJPY=X' # UAE Dirham\n",
    "#ticker = 'EURJPY=X' # EU Euro\n",
    "#ticker = 'JODJPY=X' # Jordan Dinar x\n",
    "#ticker = 'RONJPY=X' # Romania Leu x\n",
    "#ticker = 'LBPJPY=X' # Lebanon Dollar x\n",
    "ticker = 'RUBJPY=X' # Russia Ruble\n",
    "\n",
    "# データを収集\n",
    "df = yf.download(ticker, start, end)\n",
    "#df = yf.download(tickers, start, end)\n",
    "print(df)"
   ]
  },
  {
   "cell_type": "code",
   "execution_count": null,
   "id": "fc403bf9-b61d-4f5d-a4fd-22310cc0501f",
   "metadata": {},
   "outputs": [],
   "source": []
  }
 ],
 "metadata": {
  "kernelspec": {
   "display_name": "Python 3 (ipykernel)",
   "language": "python",
   "name": "python3"
  },
  "language_info": {
   "codemirror_mode": {
    "name": "ipython",
    "version": 3
   },
   "file_extension": ".py",
   "mimetype": "text/x-python",
   "name": "python",
   "nbconvert_exporter": "python",
   "pygments_lexer": "ipython3",
   "version": "3.11.7"
  }
 },
 "nbformat": 4,
 "nbformat_minor": 5
}
