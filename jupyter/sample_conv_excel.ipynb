{
 "cells": [
  {
   "cell_type": "code",
   "execution_count": 1,
   "id": "916dc9ce-0327-40e1-91e0-b31eac6be4ca",
   "metadata": {},
   "outputs": [],
   "source": [
    "import sys\n",
    "path_up = '..'\n",
    "if not path_up in sys.path:\n",
    "    sys.path.append(path_up)"
   ]
  },
  {
   "cell_type": "code",
   "execution_count": 2,
   "id": "b6484976-ddc0-4af3-90fa-b83c94025387",
   "metadata": {},
   "outputs": [],
   "source": [
    "import os\n",
    "import re\n",
    "\n",
    "import pandas as pd\n",
    "from PySide6.QtCore import QDateTime, QTimeZone, Qt\n",
    "\n",
    "from funcs.tide import create_qdatetime_and_get_timestamp_ms"
   ]
  },
  {
   "cell_type": "markdown",
   "id": "c7e4884f-b8f8-4e42-95bb-8658c3a37cf9",
   "metadata": {},
   "source": [
    "### Google Gemini が示したサンプル"
   ]
  },
  {
   "cell_type": "code",
   "execution_count": 3,
   "id": "90caff89-4219-4c3d-87e0-470825e86317",
   "metadata": {},
   "outputs": [
    {
     "name": "stdout",
     "output_type": "stream",
     "text": [
      "--- ローカルタイムゾーンでの処理 (ミリ秒単位タイムスタンプ、int) ---\n",
      "日付: 2025-04-01, 時刻: 09:00:01\n",
      "QDateTime のタイムスタンプ (ミリ秒、int): 1743465601000\n",
      "タイムスタンプから再構築したQDateTime: 2025-04-01T09:00:01.000\n",
      "再構築したQDateTimeのタイムゾーン: 日本標準時\n",
      "\n",
      "--- UTCでのQDateTime生成の正しい例 (参考、ミリ秒単位タイムスタンプ、int) ---\n",
      "ローカルからUTCに変換したQDateTime: 2025-04-01T00:00:01.000+00:00\n",
      "そのタイムスタンプ (ミリ秒、int): 1743465601000\n",
      "コンストラクタでUTC指定して生成したQDateTime: 2025-04-01T09:00:01.000+00:00\n",
      "そのタイムスタンプ (ミリ秒、int): 1743498001000\n"
     ]
    }
   ],
   "source": [
    "date_string = \"2025-04-01\"\n",
    "time_string = \"09:00:01\"\n",
    "\n",
    "print(\"--- ローカルタイムゾーンでの処理 (ミリ秒単位タイムスタンプ、int) ---\")\n",
    "timestamp_result_ms = create_qdatetime_and_get_timestamp_ms(date_string, time_string)\n",
    "\n",
    "if timestamp_result_ms != -1:\n",
    "    print(f\"日付: {date_string}, 時刻: {time_string}\")\n",
    "    print(f\"QDateTime のタイムスタンプ (ミリ秒、int): {timestamp_result_ms}\")\n",
    "\n",
    "    # int のタイムスタンプからQDateTimeを再構築して表示\n",
    "    reconstructed_qdatetime_ms = QDateTime.fromMSecsSinceEpoch(timestamp_result_ms)\n",
    "    print(f\"タイムスタンプから再構築したQDateTime: {reconstructed_qdatetime_ms.toString(Qt.DateFormat.ISODateWithMs)}\")\n",
    "    print(f\"再構築したQDateTimeのタイムゾーン: {reconstructed_qdatetime_ms.timeZone().displayName(QTimeZone.StandardTime)}\")\n",
    "\n",
    "print(\"\\n--- UTCでのQDateTime生成の正しい例 (参考、ミリ秒単位タイムスタンプ、int) ---\")\n",
    "# 方法1: ローカルでパース後、UTCに変換\n",
    "local_qdatetime = QDateTime.fromString(f\"{date_string} {time_string}\", \"yyyy-MM-dd HH:mm:ss\")\n",
    "if local_qdatetime.isValid():\n",
    "    qdatetime_utc_from_local = local_qdatetime.toTimeZone(QTimeZone.utc())\n",
    "    print(f\"ローカルからUTCに変換したQDateTime: {qdatetime_utc_from_local.toString(Qt.DateFormat.ISODateWithMs)}\")\n",
    "    print(f\"そのタイムスタンプ (ミリ秒、int): {qdatetime_utc_from_local.toMSecsSinceEpoch()}\")\n",
    "else:\n",
    "    print(\"エラー: ローカルでの日付/時刻文字列のパースに失敗しました。\")\n",
    "\n",
    "# 方法2: QDateTime のコンストラクタで明示的にUTCを指定して生成\n",
    "from PySide6.QtCore import QDate, QTime, QTimeZone\n",
    "qdate_obj = QDate.fromString(date_string, \"yyyy-MM-dd\")\n",
    "qtime_obj = QTime.fromString(time_string, \"HH:mm:ss\")\n",
    "\n",
    "if qdate_obj.isValid() and qtime_obj.isValid():\n",
    "    # 時刻にミリ秒を追加する場合は、QTimeのコンストラクタを使用します。\n",
    "    # 今回の入力文字列にはミリ秒がないため、0を設定します。\n",
    "    qtime_obj_with_ms = QTime(qtime_obj.hour(), qtime_obj.minute(), qtime_obj.second(), 0)\n",
    "\n",
    "    qdatetime_utc_constructor = QDateTime(qdate_obj, qtime_obj_with_ms, QTimeZone.utc())\n",
    "    print(f\"コンストラクタでUTC指定して生成したQDateTime: {qdatetime_utc_constructor.toString(Qt.DateFormat.ISODateWithMs)}\")\n",
    "    print(f\"そのタイムスタンプ (ミリ秒、int): {qdatetime_utc_constructor.toMSecsSinceEpoch()}\")\n",
    "else:\n",
    "    print(\"エラー: 日付または時刻オブジェクトの生成に失敗しました。\")"
   ]
  },
  {
   "cell_type": "markdown",
   "id": "b1d0d4aa-5780-461e-a1c4-1cdb733314f2",
   "metadata": {},
   "source": [
    "### VBA (trader) で収集した Excel データを変換"
   ]
  },
  {
   "cell_type": "code",
   "execution_count": 4,
   "id": "6209afe0-1677-4632-af11-44d420a594f5",
   "metadata": {},
   "outputs": [],
   "source": [
    "pattern = re.compile(r'trader_([0-9]{4})([0-9]{2})([0-9]{2})\\.xlsm')"
   ]
  },
  {
   "cell_type": "code",
   "execution_count": 5,
   "id": "70b6194a-8b2a-4d31-9490-6e28678274d7",
   "metadata": {},
   "outputs": [
    {
     "data": {
      "text/plain": [
       "['trader_20250516.xlsm',\n",
       " 'trader_20250515.xlsm',\n",
       " 'trader_20250519.xlsm',\n",
       " 'trader_20250513.xlsm',\n",
       " 'trader_20250522.xlsm',\n",
       " 'trader_20250514.xlsm',\n",
       " 'trader_20250520.xlsm',\n",
       " 'trader_20250523.xlsm',\n",
       " 'trader_20250521.xlsm']"
      ]
     },
     "execution_count": 5,
     "metadata": {},
     "output_type": "execute_result"
    }
   ],
   "source": [
    "dir_path_src = \"../excel_old\"\n",
    "dir_path_dst = \"../excel_test\"\n",
    "\n",
    "files = os.listdir(dir_path_src)\n",
    "files"
   ]
  },
  {
   "cell_type": "code",
   "execution_count": 6,
   "id": "6917cfdb-d4e9-44fe-ab21-0b109692785e",
   "metadata": {},
   "outputs": [
    {
     "name": "stdout",
     "output_type": "stream",
     "text": [
      "Completed!\n"
     ]
    }
   ],
   "source": [
    "for name_file in files:\n",
    "    m = pattern.match(name_file)\n",
    "    if m:\n",
    "        str_year = m.group(1)\n",
    "        str_month = m.group(2)\n",
    "        str_day = m.group(3)\n",
    "        date_str = f\"{str_year}-{str_month}-{str_day}\"\n",
    "    else:\n",
    "        date_str = \"1970-01-01\"\n",
    "    \n",
    "    name_excel_src = os.path.join(dir_path_src, name_file)\n",
    "    body_file = os.path.splitext(os.path.basename(name_file))[0]\n",
    "    name_excel_dst = os.path.join(dir_path_dst, f\"{body_file}.xlsx\")\n",
    "    \n",
    "    wb = pd.ExcelFile(name_excel_src)\n",
    "    \n",
    "    list_ws = wb.sheet_names\n",
    "    dict_df_out = dict()\n",
    "    \n",
    "    for name_ws in list_ws[1:]:\n",
    "        df = pd.read_excel(wb, name_ws)\n",
    "        list_ts = [create_qdatetime_and_get_timestamp_ms(date_str, str(t)) for t in df['Time']]\n",
    "        dict_df_out[name_ws] = pd.DataFrame({'Time': list_ts, 'Price': df['Price']})\n",
    "    \n",
    "    with pd.ExcelWriter(name_excel_dst) as writer:\n",
    "        for name_ws in dict_df_out.keys():\n",
    "            df_out = dict_df_out[name_ws]\n",
    "            df_out.to_excel(writer, sheet_name=name_ws, index=False)\n",
    "\n",
    "print('Completed!')"
   ]
  },
  {
   "cell_type": "code",
   "execution_count": null,
   "id": "d29e9044-e56a-43df-94fb-715232c91a3e",
   "metadata": {},
   "outputs": [],
   "source": []
  }
 ],
 "metadata": {
  "kernelspec": {
   "display_name": "Python 3 (ipykernel)",
   "language": "python",
   "name": "python3"
  },
  "language_info": {
   "codemirror_mode": {
    "name": "ipython",
    "version": 3
   },
   "file_extension": ".py",
   "mimetype": "text/x-python",
   "name": "python",
   "nbconvert_exporter": "python",
   "pygments_lexer": "ipython3",
   "version": "3.13.3"
  }
 },
 "nbformat": 4,
 "nbformat_minor": 5
}
