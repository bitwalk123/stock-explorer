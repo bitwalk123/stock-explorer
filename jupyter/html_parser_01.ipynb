{
 "cells": [
  {
   "cell_type": "code",
   "execution_count": 1,
   "id": "e3084585-b7b2-409f-ac5a-a306bb2d6586",
   "metadata": {},
   "outputs": [],
   "source": [
    "import requests\n",
    "from html.parser import HTMLParser"
   ]
  },
  {
   "cell_type": "code",
   "execution_count": 2,
   "id": "54783496-05c9-43a0-a25b-f9710c6059a6",
   "metadata": {},
   "outputs": [],
   "source": [
    "class Parser(HTMLParser):\n",
    "    def __init__(self):\n",
    "        HTMLParser.__init__(self)\n",
    "        self.title = False\n",
    "        self.link = False\n",
    "        self.data = []\n",
    "\n",
    "    def handle_starttag(self, tag, attrs):\n",
    "        attrs = dict(attrs)\n",
    "        if tag == \"h2\" and \"class\" in attrs and attrs['class'] == \"esc-lead-article-title\":\n",
    "            self.data.append({})\n",
    "            self.title = True\n",
    "            self.link = True\n",
    "\n",
    "        if tag == \"a\" and self.link == True:\n",
    "            self.data[-1].update({\"link\": attrs[\"href\"]})\n",
    "\n",
    "    def handle_data(self, data):\n",
    "        if self.title == True or self.link == True:\n",
    "            self.data[-1].update({\"title\": data})\n",
    "            self.title = False\n",
    "            self.link = False"
   ]
  },
  {
   "cell_type": "code",
   "execution_count": 5,
   "id": "65984b61-c5a0-4015-99c8-cf93b0a86ac7",
   "metadata": {},
   "outputs": [],
   "source": [
    "payload = {\"topic\" : \"t\"}\n",
    "r = requests.get('https://news.google.com/news/section', params=payload)\n",
    "#print(r.text)\n",
    "parser = Parser()\n",
    "parser.feed(r.text)\n",
    "parser.close()\n",
    "\n",
    "for i in parser.data:\n",
    "    print(\"Title: \" + i[\"title\"], \"\\nLink: \" + i[\"link\"] + \"\\n\")"
   ]
  },
  {
   "cell_type": "code",
   "execution_count": null,
   "id": "0036b1a1-9755-4288-833c-d2540d1c9440",
   "metadata": {},
   "outputs": [],
   "source": []
  }
 ],
 "metadata": {
  "kernelspec": {
   "display_name": "Python 3 (ipykernel)",
   "language": "python",
   "name": "python3"
  },
  "language_info": {
   "codemirror_mode": {
    "name": "ipython",
    "version": 3
   },
   "file_extension": ".py",
   "mimetype": "text/x-python",
   "name": "python",
   "nbconvert_exporter": "python",
   "pygments_lexer": "ipython3",
   "version": "3.12.1"
  }
 },
 "nbformat": 4,
 "nbformat_minor": 5
}
