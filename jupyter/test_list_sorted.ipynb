{
 "cells": [
  {
   "cell_type": "code",
   "execution_count": 59,
   "id": "a333f419-56bb-4b6a-9027-900607563460",
   "metadata": {},
   "outputs": [],
   "source": [
    "class MyObject:\n",
    "    def __init__(self, x: str):\n",
    "        self.x = x"
   ]
  },
  {
   "cell_type": "code",
   "execution_count": 60,
   "id": "6fa122e0-2d2c-4ce5-8c97-fa4a5a716c96",
   "metadata": {},
   "outputs": [],
   "source": [
    "def MySort(obj: MyObject) -> str:\n",
    "    return obj.x()"
   ]
  },
  {
   "cell_type": "code",
   "execution_count": 61,
   "id": "f47f57ef-51e6-4bf1-9a63-3ac152254a2f",
   "metadata": {},
   "outputs": [
    {
     "data": {
      "text/plain": [
       "['C', 'A', 'B']"
      ]
     },
     "execution_count": 61,
     "metadata": {},
     "output_type": "execute_result"
    }
   ],
   "source": [
    "obj_list = list()\n",
    "obj_list.append(MyObject('C'))\n",
    "obj_list.append(MyObject('A'))\n",
    "obj_list.append(MyObject('B'))\n",
    "[obj.x for obj in obj_list]"
   ]
  },
  {
   "cell_type": "code",
   "execution_count": 62,
   "id": "fd78a54b-5e74-41d1-ab72-1dbaed18583d",
   "metadata": {},
   "outputs": [
    {
     "data": {
      "text/plain": [
       "['A', 'B', 'C']"
      ]
     },
     "execution_count": 62,
     "metadata": {},
     "output_type": "execute_result"
    }
   ],
   "source": [
    "obj_list_2 = sorted(obj_list, key=lambda obj: obj.x)\n",
    "[obj.x for obj in obj_list_2]"
   ]
  },
  {
   "cell_type": "code",
   "execution_count": 63,
   "id": "badc2c42-143a-4754-a746-1d4c1dbd3d89",
   "metadata": {},
   "outputs": [
    {
     "data": {
      "text/plain": [
       "['A', 'B', 'C']"
      ]
     },
     "execution_count": 63,
     "metadata": {},
     "output_type": "execute_result"
    }
   ],
   "source": [
    "obj_list.sort(key=lambda obj: obj.x)\n",
    "[obj.x for obj in obj_list]"
   ]
  },
  {
   "cell_type": "code",
   "execution_count": null,
   "id": "30131765-dd3b-4c86-b737-c84782d05203",
   "metadata": {},
   "outputs": [],
   "source": []
  }
 ],
 "metadata": {
  "kernelspec": {
   "display_name": "Python 3 (ipykernel)",
   "language": "python",
   "name": "python3"
  },
  "language_info": {
   "codemirror_mode": {
    "name": "ipython",
    "version": 3
   },
   "file_extension": ".py",
   "mimetype": "text/x-python",
   "name": "python",
   "nbconvert_exporter": "python",
   "pygments_lexer": "ipython3",
   "version": "3.12.1"
  }
 },
 "nbformat": 4,
 "nbformat_minor": 5
}
