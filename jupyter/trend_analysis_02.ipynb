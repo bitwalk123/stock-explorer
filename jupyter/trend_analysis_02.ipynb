{
 "cells": [
  {
   "cell_type": "markdown",
   "id": "08df2cf8-1a63-426e-bd69-5578c378e785",
   "metadata": {},
   "source": [
    "## Reference\n",
    "https://scrapbox.io/PythonOsaka/statsmodels%E3%81%A7%E6%99%82%E7%B3%BB%E5%88%97%E3%83%87%E3%83%BC%E3%82%BF%E5%88%86%E6%9E%90%E3%82%92%E3%81%97%E3%81%A6%E3%81%BF%E3%82%88%E3%81%86"
   ]
  },
  {
   "cell_type": "code",
   "execution_count": 2,
   "id": "6e9634f1-4e40-41ea-9c75-fc81d3f9c919",
   "metadata": {},
   "outputs": [],
   "source": [
    "from datetime import datetime \n",
    "import pandas as pd"
   ]
  },
  {
   "cell_type": "code",
   "execution_count": 7,
   "id": "f4301288-79ff-469d-8581-6923eff19703",
   "metadata": {},
   "outputs": [],
   "source": [
    "start=datetime(1970, 1, 1)\n",
    "end=datetime(2020, 1, 1)"
   ]
  },
  {
   "cell_type": "code",
   "execution_count": null,
   "id": "36750e3f-243b-4f19-802f-bf92be40d020",
   "metadata": {},
   "outputs": [],
   "source": []
  }
 ],
 "metadata": {
  "kernelspec": {
   "display_name": "Python 3 (ipykernel)",
   "language": "python",
   "name": "python3"
  },
  "language_info": {
   "codemirror_mode": {
    "name": "ipython",
    "version": 3
   },
   "file_extension": ".py",
   "mimetype": "text/x-python",
   "name": "python",
   "nbconvert_exporter": "python",
   "pygments_lexer": "ipython3",
   "version": "3.12.2"
  }
 },
 "nbformat": 4,
 "nbformat_minor": 5
}
