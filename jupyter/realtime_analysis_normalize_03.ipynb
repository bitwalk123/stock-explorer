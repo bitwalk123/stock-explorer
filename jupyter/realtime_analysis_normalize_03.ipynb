{
 "cells": [
  {
   "cell_type": "code",
   "execution_count": 32,
   "id": "f2707cd3-4bb1-4727-a463-570324720a4f",
   "metadata": {},
   "outputs": [],
   "source": [
    "import datetime\n",
    "import matplotlib.pyplot as plt\n",
    "from matplotlib import dates\n",
    "import numpy as np\n",
    "import pandas as pd\n",
    "import scipy.stats\n",
    "from scipy.interpolate import make_smoothing_spline\n",
    "from sklearn.preprocessing import robust_scale\n",
    "from sklearn.preprocessing import RobustScaler"
   ]
  },
  {
   "cell_type": "code",
   "execution_count": 96,
   "id": "e9897e9c-a616-4fc7-922d-d1d26f561173",
   "metadata": {},
   "outputs": [
    {
     "data": {
      "text/html": [
       "<div>\n",
       "<style scoped>\n",
       "    .dataframe tbody tr th:only-of-type {\n",
       "        vertical-align: middle;\n",
       "    }\n",
       "\n",
       "    .dataframe tbody tr th {\n",
       "        vertical-align: top;\n",
       "    }\n",
       "\n",
       "    .dataframe thead th {\n",
       "        text-align: right;\n",
       "    }\n",
       "</style>\n",
       "<table border=\"1\" class=\"dataframe\">\n",
       "  <thead>\n",
       "    <tr style=\"text-align: right;\">\n",
       "      <th></th>\n",
       "      <th>Price</th>\n",
       "    </tr>\n",
       "  </thead>\n",
       "  <tbody>\n",
       "    <tr>\n",
       "      <th>2024-06-05 09:00:02</th>\n",
       "      <td>34270.0</td>\n",
       "    </tr>\n",
       "    <tr>\n",
       "      <th>2024-06-05 09:00:08</th>\n",
       "      <td>34370.0</td>\n",
       "    </tr>\n",
       "    <tr>\n",
       "      <th>2024-06-05 09:00:12</th>\n",
       "      <td>34290.0</td>\n",
       "    </tr>\n",
       "    <tr>\n",
       "      <th>2024-06-05 09:00:19</th>\n",
       "      <td>34320.0</td>\n",
       "    </tr>\n",
       "    <tr>\n",
       "      <th>2024-06-05 09:00:25</th>\n",
       "      <td>34330.0</td>\n",
       "    </tr>\n",
       "    <tr>\n",
       "      <th>...</th>\n",
       "      <td>...</td>\n",
       "    </tr>\n",
       "    <tr>\n",
       "      <th>2024-06-05 14:59:37</th>\n",
       "      <td>33450.0</td>\n",
       "    </tr>\n",
       "    <tr>\n",
       "      <th>2024-06-05 14:59:44</th>\n",
       "      <td>33450.0</td>\n",
       "    </tr>\n",
       "    <tr>\n",
       "      <th>2024-06-05 14:59:50</th>\n",
       "      <td>33460.0</td>\n",
       "    </tr>\n",
       "    <tr>\n",
       "      <th>2024-06-05 14:59:56</th>\n",
       "      <td>33470.0</td>\n",
       "    </tr>\n",
       "    <tr>\n",
       "      <th>2024-06-05 15:00:00</th>\n",
       "      <td>33540.0</td>\n",
       "    </tr>\n",
       "  </tbody>\n",
       "</table>\n",
       "<p>2275 rows × 1 columns</p>\n",
       "</div>"
      ],
      "text/plain": [
       "                       Price\n",
       "2024-06-05 09:00:02  34270.0\n",
       "2024-06-05 09:00:08  34370.0\n",
       "2024-06-05 09:00:12  34290.0\n",
       "2024-06-05 09:00:19  34320.0\n",
       "2024-06-05 09:00:25  34330.0\n",
       "...                      ...\n",
       "2024-06-05 14:59:37  33450.0\n",
       "2024-06-05 14:59:44  33450.0\n",
       "2024-06-05 14:59:50  33460.0\n",
       "2024-06-05 14:59:56  33470.0\n",
       "2024-06-05 15:00:00  33540.0\n",
       "\n",
       "[2275 rows x 1 columns]"
      ]
     },
     "execution_count": 96,
     "metadata": {},
     "output_type": "execute_result"
    }
   ],
   "source": [
    "path = '../tmp'\n",
    "ticker = '8035'\n",
    "date = '2024-06-05'\n",
    "pkl = '%s/%s_%s.pkl' % (path, ticker, date)\n",
    "df = pd.read_pickle(pkl)\n",
    "df"
   ]
  },
  {
   "cell_type": "code",
   "execution_count": 97,
   "id": "1c012a28-769b-4dcc-868a-02caeb20fa64",
   "metadata": {},
   "outputs": [
    {
     "name": "stdout",
     "output_type": "stream",
     "text": [
      "<class 'pandas._libs.tslibs.timestamps.Timestamp'>\n"
     ]
    }
   ],
   "source": [
    "date_str = str(df.index[0].date())\n",
    "t_start_1 = pd.to_datetime(date_str + ' 09:00:00')\n",
    "t_start_2 = pd.to_datetime(date_str + ' 10:00:00')\n",
    "t_mid = pd.to_datetime(date_str + ' 12:00:00')\n",
    "print(type(t_mid))"
   ]
  },
  {
   "cell_type": "code",
   "execution_count": 98,
   "id": "4e81464f-6b42-4ad6-be94-5d93b17ec9b7",
   "metadata": {},
   "outputs": [],
   "source": [
    "df1 = df.loc[df.index[df.index < t_mid]]\n",
    "df2 = df.loc[df.index[df.index > t_mid]]"
   ]
  },
  {
   "cell_type": "code",
   "execution_count": 99,
   "id": "b0a466c4-8275-41d1-bc8c-8d042a789f06",
   "metadata": {},
   "outputs": [
    {
     "data": {
      "text/html": [
       "<div>\n",
       "<style scoped>\n",
       "    .dataframe tbody tr th:only-of-type {\n",
       "        vertical-align: middle;\n",
       "    }\n",
       "\n",
       "    .dataframe tbody tr th {\n",
       "        vertical-align: top;\n",
       "    }\n",
       "\n",
       "    .dataframe thead th {\n",
       "        text-align: right;\n",
       "    }\n",
       "</style>\n",
       "<table border=\"1\" class=\"dataframe\">\n",
       "  <thead>\n",
       "    <tr style=\"text-align: right;\">\n",
       "      <th></th>\n",
       "      <th>Price</th>\n",
       "    </tr>\n",
       "  </thead>\n",
       "  <tbody>\n",
       "    <tr>\n",
       "      <th>2.0</th>\n",
       "      <td>34270.0</td>\n",
       "    </tr>\n",
       "    <tr>\n",
       "      <th>8.0</th>\n",
       "      <td>34370.0</td>\n",
       "    </tr>\n",
       "    <tr>\n",
       "      <th>12.0</th>\n",
       "      <td>34290.0</td>\n",
       "    </tr>\n",
       "    <tr>\n",
       "      <th>19.0</th>\n",
       "      <td>34320.0</td>\n",
       "    </tr>\n",
       "    <tr>\n",
       "      <th>25.0</th>\n",
       "      <td>34330.0</td>\n",
       "    </tr>\n",
       "    <tr>\n",
       "      <th>...</th>\n",
       "      <td>...</td>\n",
       "    </tr>\n",
       "    <tr>\n",
       "      <th>8976.0</th>\n",
       "      <td>33580.0</td>\n",
       "    </tr>\n",
       "    <tr>\n",
       "      <th>8982.0</th>\n",
       "      <td>33590.0</td>\n",
       "    </tr>\n",
       "    <tr>\n",
       "      <th>8990.0</th>\n",
       "      <td>33580.0</td>\n",
       "    </tr>\n",
       "    <tr>\n",
       "      <th>8996.0</th>\n",
       "      <td>33600.0</td>\n",
       "    </tr>\n",
       "    <tr>\n",
       "      <th>9000.0</th>\n",
       "      <td>33600.0</td>\n",
       "    </tr>\n",
       "  </tbody>\n",
       "</table>\n",
       "<p>1285 rows × 1 columns</p>\n",
       "</div>"
      ],
      "text/plain": [
       "          Price\n",
       "2.0     34270.0\n",
       "8.0     34370.0\n",
       "12.0    34290.0\n",
       "19.0    34320.0\n",
       "25.0    34330.0\n",
       "...         ...\n",
       "8976.0  33580.0\n",
       "8982.0  33590.0\n",
       "8990.0  33580.0\n",
       "8996.0  33600.0\n",
       "9000.0  33600.0\n",
       "\n",
       "[1285 rows x 1 columns]"
      ]
     },
     "execution_count": 99,
     "metadata": {},
     "output_type": "execute_result"
    }
   ],
   "source": [
    "df11 = df1.copy()\n",
    "df11.index = [(t - t_start_1).total_seconds() for t in df1.index]\n",
    "df11"
   ]
  },
  {
   "cell_type": "code",
   "execution_count": 100,
   "id": "3adeb43e-64db-46c2-b8fc-03fe0e233a8d",
   "metadata": {},
   "outputs": [
    {
     "data": {
      "text/html": [
       "<div>\n",
       "<style scoped>\n",
       "    .dataframe tbody tr th:only-of-type {\n",
       "        vertical-align: middle;\n",
       "    }\n",
       "\n",
       "    .dataframe tbody tr th {\n",
       "        vertical-align: top;\n",
       "    }\n",
       "\n",
       "    .dataframe thead th {\n",
       "        text-align: right;\n",
       "    }\n",
       "</style>\n",
       "<table border=\"1\" class=\"dataframe\">\n",
       "  <thead>\n",
       "    <tr style=\"text-align: right;\">\n",
       "      <th></th>\n",
       "      <th>Price</th>\n",
       "    </tr>\n",
       "  </thead>\n",
       "  <tbody>\n",
       "    <tr>\n",
       "      <th>9001.0</th>\n",
       "      <td>33570.0</td>\n",
       "    </tr>\n",
       "    <tr>\n",
       "      <th>9007.0</th>\n",
       "      <td>33580.0</td>\n",
       "    </tr>\n",
       "    <tr>\n",
       "      <th>9013.0</th>\n",
       "      <td>33580.0</td>\n",
       "    </tr>\n",
       "    <tr>\n",
       "      <th>9019.0</th>\n",
       "      <td>33580.0</td>\n",
       "    </tr>\n",
       "    <tr>\n",
       "      <th>9025.0</th>\n",
       "      <td>33580.0</td>\n",
       "    </tr>\n",
       "    <tr>\n",
       "      <th>...</th>\n",
       "      <td>...</td>\n",
       "    </tr>\n",
       "    <tr>\n",
       "      <th>17977.0</th>\n",
       "      <td>33450.0</td>\n",
       "    </tr>\n",
       "    <tr>\n",
       "      <th>17984.0</th>\n",
       "      <td>33450.0</td>\n",
       "    </tr>\n",
       "    <tr>\n",
       "      <th>17990.0</th>\n",
       "      <td>33460.0</td>\n",
       "    </tr>\n",
       "    <tr>\n",
       "      <th>17996.0</th>\n",
       "      <td>33470.0</td>\n",
       "    </tr>\n",
       "    <tr>\n",
       "      <th>18000.0</th>\n",
       "      <td>33540.0</td>\n",
       "    </tr>\n",
       "  </tbody>\n",
       "</table>\n",
       "<p>990 rows × 1 columns</p>\n",
       "</div>"
      ],
      "text/plain": [
       "           Price\n",
       "9001.0   33570.0\n",
       "9007.0   33580.0\n",
       "9013.0   33580.0\n",
       "9019.0   33580.0\n",
       "9025.0   33580.0\n",
       "...          ...\n",
       "17977.0  33450.0\n",
       "17984.0  33450.0\n",
       "17990.0  33460.0\n",
       "17996.0  33470.0\n",
       "18000.0  33540.0\n",
       "\n",
       "[990 rows x 1 columns]"
      ]
     },
     "execution_count": 100,
     "metadata": {},
     "output_type": "execute_result"
    }
   ],
   "source": [
    "df21 = df2.copy()\n",
    "df21.index = [(t - t_start_2).total_seconds() for t in df2.index]\n",
    "df21"
   ]
  },
  {
   "cell_type": "code",
   "execution_count": 101,
   "id": "37708bdb-1b63-4529-9f40-656f32bd2411",
   "metadata": {},
   "outputs": [
    {
     "data": {
      "text/html": [
       "<div>\n",
       "<style scoped>\n",
       "    .dataframe tbody tr th:only-of-type {\n",
       "        vertical-align: middle;\n",
       "    }\n",
       "\n",
       "    .dataframe tbody tr th {\n",
       "        vertical-align: top;\n",
       "    }\n",
       "\n",
       "    .dataframe thead th {\n",
       "        text-align: right;\n",
       "    }\n",
       "</style>\n",
       "<table border=\"1\" class=\"dataframe\">\n",
       "  <thead>\n",
       "    <tr style=\"text-align: right;\">\n",
       "      <th></th>\n",
       "      <th>Price</th>\n",
       "    </tr>\n",
       "  </thead>\n",
       "  <tbody>\n",
       "    <tr>\n",
       "      <th>2.0</th>\n",
       "      <td>34270.0</td>\n",
       "    </tr>\n",
       "    <tr>\n",
       "      <th>8.0</th>\n",
       "      <td>34370.0</td>\n",
       "    </tr>\n",
       "    <tr>\n",
       "      <th>12.0</th>\n",
       "      <td>34290.0</td>\n",
       "    </tr>\n",
       "    <tr>\n",
       "      <th>19.0</th>\n",
       "      <td>34320.0</td>\n",
       "    </tr>\n",
       "    <tr>\n",
       "      <th>25.0</th>\n",
       "      <td>34330.0</td>\n",
       "    </tr>\n",
       "    <tr>\n",
       "      <th>...</th>\n",
       "      <td>...</td>\n",
       "    </tr>\n",
       "    <tr>\n",
       "      <th>17977.0</th>\n",
       "      <td>33450.0</td>\n",
       "    </tr>\n",
       "    <tr>\n",
       "      <th>17984.0</th>\n",
       "      <td>33450.0</td>\n",
       "    </tr>\n",
       "    <tr>\n",
       "      <th>17990.0</th>\n",
       "      <td>33460.0</td>\n",
       "    </tr>\n",
       "    <tr>\n",
       "      <th>17996.0</th>\n",
       "      <td>33470.0</td>\n",
       "    </tr>\n",
       "    <tr>\n",
       "      <th>18000.0</th>\n",
       "      <td>33540.0</td>\n",
       "    </tr>\n",
       "  </tbody>\n",
       "</table>\n",
       "<p>2275 rows × 1 columns</p>\n",
       "</div>"
      ],
      "text/plain": [
       "           Price\n",
       "2.0      34270.0\n",
       "8.0      34370.0\n",
       "12.0     34290.0\n",
       "19.0     34320.0\n",
       "25.0     34330.0\n",
       "...          ...\n",
       "17977.0  33450.0\n",
       "17984.0  33450.0\n",
       "17990.0  33460.0\n",
       "17996.0  33470.0\n",
       "18000.0  33540.0\n",
       "\n",
       "[2275 rows x 1 columns]"
      ]
     },
     "execution_count": 101,
     "metadata": {},
     "output_type": "execute_result"
    }
   ],
   "source": [
    "df3 = pd.concat([df11, df21])\n",
    "df3"
   ]
  },
  {
   "cell_type": "code",
   "execution_count": 102,
   "id": "d2beafbc-1bb1-4791-afd9-158a4aecd064",
   "metadata": {},
   "outputs": [],
   "source": [
    "dict_data = dict()\n",
    "n = len(df3)\n",
    "for idx in range(n):\n",
    "    series = df3.iloc[idx]\n",
    "    value = series.iloc[0]\n",
    "    key = series.name\n",
    "    dict_data[key] = value"
   ]
  },
  {
   "cell_type": "code",
   "execution_count": 103,
   "id": "b320cbfb-2a1b-4000-b803-a058896bfbbf",
   "metadata": {},
   "outputs": [
    {
     "data": {
      "text/html": [
       "<div>\n",
       "<style scoped>\n",
       "    .dataframe tbody tr th:only-of-type {\n",
       "        vertical-align: middle;\n",
       "    }\n",
       "\n",
       "    .dataframe tbody tr th {\n",
       "        vertical-align: top;\n",
       "    }\n",
       "\n",
       "    .dataframe thead th {\n",
       "        text-align: right;\n",
       "    }\n",
       "</style>\n",
       "<table border=\"1\" class=\"dataframe\">\n",
       "  <thead>\n",
       "    <tr style=\"text-align: right;\">\n",
       "      <th></th>\n",
       "      <th>Price</th>\n",
       "    </tr>\n",
       "  </thead>\n",
       "  <tbody>\n",
       "    <tr>\n",
       "      <th>2.0</th>\n",
       "      <td>34270.0</td>\n",
       "    </tr>\n",
       "    <tr>\n",
       "      <th>8.0</th>\n",
       "      <td>34370.0</td>\n",
       "    </tr>\n",
       "    <tr>\n",
       "      <th>12.0</th>\n",
       "      <td>34290.0</td>\n",
       "    </tr>\n",
       "    <tr>\n",
       "      <th>19.0</th>\n",
       "      <td>34320.0</td>\n",
       "    </tr>\n",
       "    <tr>\n",
       "      <th>25.0</th>\n",
       "      <td>34330.0</td>\n",
       "    </tr>\n",
       "    <tr>\n",
       "      <th>...</th>\n",
       "      <td>...</td>\n",
       "    </tr>\n",
       "    <tr>\n",
       "      <th>17977.0</th>\n",
       "      <td>33450.0</td>\n",
       "    </tr>\n",
       "    <tr>\n",
       "      <th>17984.0</th>\n",
       "      <td>33450.0</td>\n",
       "    </tr>\n",
       "    <tr>\n",
       "      <th>17990.0</th>\n",
       "      <td>33460.0</td>\n",
       "    </tr>\n",
       "    <tr>\n",
       "      <th>17996.0</th>\n",
       "      <td>33470.0</td>\n",
       "    </tr>\n",
       "    <tr>\n",
       "      <th>18000.0</th>\n",
       "      <td>33540.0</td>\n",
       "    </tr>\n",
       "  </tbody>\n",
       "</table>\n",
       "<p>2275 rows × 1 columns</p>\n",
       "</div>"
      ],
      "text/plain": [
       "           Price\n",
       "2.0      34270.0\n",
       "8.0      34370.0\n",
       "12.0     34290.0\n",
       "19.0     34320.0\n",
       "25.0     34330.0\n",
       "...          ...\n",
       "17977.0  33450.0\n",
       "17984.0  33450.0\n",
       "17990.0  33460.0\n",
       "17996.0  33470.0\n",
       "18000.0  33540.0\n",
       "\n",
       "[2275 rows x 1 columns]"
      ]
     },
     "execution_count": 103,
     "metadata": {},
     "output_type": "execute_result"
    }
   ],
   "source": [
    "df0 = pd.DataFrame({'Price': dict_data.values()}, index=dict_data.keys())\n",
    "df0"
   ]
  },
  {
   "cell_type": "code",
   "execution_count": 104,
   "id": "f440c1d7-7107-4e7a-854f-07fa850adae6",
   "metadata": {},
   "outputs": [
    {
     "data": {
      "text/plain": [
       "array([ 4.92857143,  5.64285714,  5.07142857, ..., -0.85714286,\n",
       "       -0.78571429, -0.28571429])"
      ]
     },
     "execution_count": 104,
     "metadata": {},
     "output_type": "execute_result"
    }
   ],
   "source": [
    "x = np.array(df0.index)\n",
    "# y = scipy.stats.zscore(df0['Price'])\n",
    "y = np.array([y for y in robust_scale(df0['Price'])])\n",
    "y"
   ]
  },
  {
   "cell_type": "code",
   "execution_count": 105,
   "id": "43c5b9d5-04e5-424f-acb7-1c452f571d36",
   "metadata": {},
   "outputs": [
    {
     "data": {
      "text/plain": [
       "numpy.ndarray"
      ]
     },
     "execution_count": 105,
     "metadata": {},
     "output_type": "execute_result"
    }
   ],
   "source": [
    "t_start_0 = 0\n",
    "t_end_0 = 18000\n",
    "t_interval_0 = 30\n",
    "\n",
    "spl = make_smoothing_spline(x, y)\n",
    "xs = np.linspace(t_start_0, t_end_0, int((t_end_0 - t_start_0) / t_interval_0))\n",
    "type(spl(xs))"
   ]
  },
  {
   "cell_type": "code",
   "execution_count": 106,
   "id": "40dcbd99-d5e9-41bd-b810-f5a4b312b58e",
   "metadata": {},
   "outputs": [
    {
     "data": {
      "image/png": "[encoded data removed]",
      "text/plain": [
       "<Figure size 1000x500 with 1 Axes>"
      ]
     },
     "metadata": {},
     "output_type": "display_data"
    }
   ],
   "source": [
    "plt.rcParams[\"figure.figsize\"] = (10, 5)\n",
    "fig, ax = plt.subplots()\n",
    "\n",
    "ax.axvline(x=9000, linestyle='dotted', lw=1, c='red')\n",
    "\n",
    "ax.set_xlabel('Tokyo Market Open [sec]')\n",
    "ax.set_ylabel('Standardized Price')\n",
    "\n",
    "ax.xaxis.set_ticks(np.arange(0, 18001, 1800))\n",
    "ax.set_ylim(-4, 4)\n",
    "\n",
    "#ax.scatter(x, y, s=1, c='gray')\n",
    "ax.plot(xs, spl(xs), lw=1, label=date)\n",
    "ax.grid()\n",
    "ax.legend(loc='best')\n",
    "\n",
    "plt.show()"
   ]
  },
  {
   "cell_type": "markdown",
   "id": "891e04f4-7665-488f-bb94-59b92a314397",
   "metadata": {},
   "source": [
    "# Calculate median and IQR for scaling"
   ]
  },
  {
   "cell_type": "code",
   "execution_count": 107,
   "id": "76180b57-e390-4a1c-9417-ecf05c6cef91",
   "metadata": {},
   "outputs": [
    {
     "name": "stdout",
     "output_type": "stream",
     "text": [
      "33580.0 140.0\n"
     ]
    }
   ],
   "source": [
    "y_raw = np.array(df0['Price'])\n",
    "y_median = np.median(y_raw)\n",
    "iqr = np.subtract(*np.percentile(y_raw, [75, 25]))\n",
    "print(y_median, iqr)"
   ]
  },
  {
   "cell_type": "code",
   "execution_count": 108,
   "id": "021c9643-57d6-46e2-ac97-b985f86b790b",
   "metadata": {},
   "outputs": [
    {
     "data": {
      "text/plain": [
       "array([ 4.92857143,  5.64285714,  5.07142857, ..., -0.85714286,\n",
       "       -0.78571429, -0.28571429])"
      ]
     },
     "execution_count": 108,
     "metadata": {},
     "output_type": "execute_result"
    }
   ],
   "source": [
    "y = np.array([(v - y_median) / iqr for v in y_raw])\n",
    "y"
   ]
  },
  {
   "cell_type": "code",
   "execution_count": 109,
   "id": "1478bdd0-a158-42d3-904b-d0570445ee42",
   "metadata": {},
   "outputs": [
    {
     "data": {
      "text/plain": [
       "numpy.ndarray"
      ]
     },
     "execution_count": 109,
     "metadata": {},
     "output_type": "execute_result"
    }
   ],
   "source": [
    "spl = make_smoothing_spline(x, y)\n",
    "xs = np.linspace(t_start_0, t_end_0, int((t_end_0 - t_start_0) / t_interval_0))\n",
    "type(spl(xs))"
   ]
  },
  {
   "cell_type": "code",
   "execution_count": 110,
   "id": "420b0c78-e833-4a29-9fad-bd6e6ec51da8",
   "metadata": {},
   "outputs": [
    {
     "data": {
      "image/png": "[encoded data removed]",
      "text/plain": [
       "<Figure size 1000x500 with 1 Axes>"
      ]
     },
     "metadata": {},
     "output_type": "display_data"
    }
   ],
   "source": [
    "plt.rcParams[\"figure.figsize\"] = (10, 5)\n",
    "fig, ax = plt.subplots()\n",
    "\n",
    "ax.axvline(x=9000, linestyle='dotted', lw=1, c='red')\n",
    "\n",
    "ax.set_xlabel('Tokyo Market Open [sec]')\n",
    "ax.set_ylabel('Standardized Price')\n",
    "\n",
    "ax.xaxis.set_ticks(np.arange(0, 18001, 1800))\n",
    "ax.set_ylim(-4, 4)\n",
    "\n",
    "#ax.scatter(x, y, s=1, c='gray')\n",
    "ax.plot(xs, spl(xs), lw=1, label=date)\n",
    "ax.grid()\n",
    "ax.legend(loc='best')\n",
    "\n",
    "plt.show()"
   ]
  },
  {
   "cell_type": "code",
   "execution_count": null,
   "id": "f7256f85-f1f4-477a-8e7c-1ab77e99ff12",
   "metadata": {},
   "outputs": [],
   "source": []
  }
 ],
 "metadata": {
  "kernelspec": {
   "display_name": "Python 3 (ipykernel)",
   "language": "python",
   "name": "python3"
  },
  "language_info": {
   "codemirror_mode": {
    "name": "ipython",
    "version": 3
   },
   "file_extension": ".py",
   "mimetype": "text/x-python",
   "name": "python",
   "nbconvert_exporter": "python",
   "pygments_lexer": "ipython3",
   "version": "3.12.1"
  }
 },
 "nbformat": 4,
 "nbformat_minor": 5
}
