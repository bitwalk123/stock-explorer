{
 "cells": [
  {
   "cell_type": "code",
   "execution_count": 1,
   "id": "f2707cd3-4bb1-4727-a463-570324720a4f",
   "metadata": {},
   "outputs": [],
   "source": [
    "import datetime\n",
    "import matplotlib.pyplot as plt\n",
    "from matplotlib import dates\n",
    "import numpy as np\n",
    "import pandas as pd\n",
    "import scipy.stats\n",
    "from scipy.interpolate import make_smoothing_spline\n",
    "from sklearn.preprocessing import robust_scale\n",
    "from sklearn.preprocessing import RobustScaler"
   ]
  },
  {
   "cell_type": "code",
   "execution_count": 29,
   "id": "e9897e9c-a616-4fc7-922d-d1d26f561173",
   "metadata": {},
   "outputs": [
    {
     "data": {
      "text/html": [
       "<div>\n",
       "<style scoped>\n",
       "    .dataframe tbody tr th:only-of-type {\n",
       "        vertical-align: middle;\n",
       "    }\n",
       "\n",
       "    .dataframe tbody tr th {\n",
       "        vertical-align: top;\n",
       "    }\n",
       "\n",
       "    .dataframe thead th {\n",
       "        text-align: right;\n",
       "    }\n",
       "</style>\n",
       "<table border=\"1\" class=\"dataframe\">\n",
       "  <thead>\n",
       "    <tr style=\"text-align: right;\">\n",
       "      <th></th>\n",
       "      <th>Price</th>\n",
       "    </tr>\n",
       "  </thead>\n",
       "  <tbody>\n",
       "    <tr>\n",
       "      <th>2024-06-21 09:00:05</th>\n",
       "      <td>34820.0</td>\n",
       "    </tr>\n",
       "    <tr>\n",
       "      <th>2024-06-21 09:00:11</th>\n",
       "      <td>34820.0</td>\n",
       "    </tr>\n",
       "    <tr>\n",
       "      <th>2024-06-21 09:00:17</th>\n",
       "      <td>34780.0</td>\n",
       "    </tr>\n",
       "    <tr>\n",
       "      <th>2024-06-21 09:00:24</th>\n",
       "      <td>34750.0</td>\n",
       "    </tr>\n",
       "    <tr>\n",
       "      <th>2024-06-21 09:00:29</th>\n",
       "      <td>34800.0</td>\n",
       "    </tr>\n",
       "    <tr>\n",
       "      <th>...</th>\n",
       "      <td>...</td>\n",
       "    </tr>\n",
       "    <tr>\n",
       "      <th>2024-06-21 14:59:37</th>\n",
       "      <td>34920.0</td>\n",
       "    </tr>\n",
       "    <tr>\n",
       "      <th>2024-06-21 14:59:45</th>\n",
       "      <td>34920.0</td>\n",
       "    </tr>\n",
       "    <tr>\n",
       "      <th>2024-06-21 14:59:52</th>\n",
       "      <td>34910.0</td>\n",
       "    </tr>\n",
       "    <tr>\n",
       "      <th>2024-06-21 14:59:57</th>\n",
       "      <td>34940.0</td>\n",
       "    </tr>\n",
       "    <tr>\n",
       "      <th>2024-06-21 15:00:00</th>\n",
       "      <td>34920.0</td>\n",
       "    </tr>\n",
       "  </tbody>\n",
       "</table>\n",
       "<p>1715 rows × 1 columns</p>\n",
       "</div>"
      ],
      "text/plain": [
       "                       Price\n",
       "2024-06-21 09:00:05  34820.0\n",
       "2024-06-21 09:00:11  34820.0\n",
       "2024-06-21 09:00:17  34780.0\n",
       "2024-06-21 09:00:24  34750.0\n",
       "2024-06-21 09:00:29  34800.0\n",
       "...                      ...\n",
       "2024-06-21 14:59:37  34920.0\n",
       "2024-06-21 14:59:45  34920.0\n",
       "2024-06-21 14:59:52  34910.0\n",
       "2024-06-21 14:59:57  34940.0\n",
       "2024-06-21 15:00:00  34920.0\n",
       "\n",
       "[1715 rows x 1 columns]"
      ]
     },
     "execution_count": 29,
     "metadata": {},
     "output_type": "execute_result"
    }
   ],
   "source": [
    "path = '../tmp'\n",
    "ticker = '8035'\n",
    "date = '2024-06-21'\n",
    "pkl = '%s/%s_%s.pkl' % (path, ticker, date)\n",
    "df = pd.read_pickle(pkl)\n",
    "df"
   ]
  },
  {
   "cell_type": "code",
   "execution_count": 30,
   "id": "1c012a28-769b-4dcc-868a-02caeb20fa64",
   "metadata": {},
   "outputs": [
    {
     "name": "stdout",
     "output_type": "stream",
     "text": [
      "<class 'pandas._libs.tslibs.timestamps.Timestamp'>\n"
     ]
    }
   ],
   "source": [
    "date_str = str(df.index[0].date())\n",
    "t_start_1 = pd.to_datetime(date_str + ' 09:00:00')\n",
    "t_start_2 = pd.to_datetime(date_str + ' 10:00:00')\n",
    "t_mid = pd.to_datetime(date_str + ' 12:00:00')\n",
    "print(type(t_mid))"
   ]
  },
  {
   "cell_type": "code",
   "execution_count": 31,
   "id": "4e81464f-6b42-4ad6-be94-5d93b17ec9b7",
   "metadata": {},
   "outputs": [],
   "source": [
    "df1 = df.loc[df.index[df.index < t_mid]]\n",
    "df2 = df.loc[df.index[df.index > t_mid]]"
   ]
  },
  {
   "cell_type": "code",
   "execution_count": 32,
   "id": "b0a466c4-8275-41d1-bc8c-8d042a789f06",
   "metadata": {},
   "outputs": [
    {
     "data": {
      "text/html": [
       "<div>\n",
       "<style scoped>\n",
       "    .dataframe tbody tr th:only-of-type {\n",
       "        vertical-align: middle;\n",
       "    }\n",
       "\n",
       "    .dataframe tbody tr th {\n",
       "        vertical-align: top;\n",
       "    }\n",
       "\n",
       "    .dataframe thead th {\n",
       "        text-align: right;\n",
       "    }\n",
       "</style>\n",
       "<table border=\"1\" class=\"dataframe\">\n",
       "  <thead>\n",
       "    <tr style=\"text-align: right;\">\n",
       "      <th></th>\n",
       "      <th>Price</th>\n",
       "    </tr>\n",
       "  </thead>\n",
       "  <tbody>\n",
       "    <tr>\n",
       "      <th>5.0</th>\n",
       "      <td>34820.0</td>\n",
       "    </tr>\n",
       "    <tr>\n",
       "      <th>11.0</th>\n",
       "      <td>34820.0</td>\n",
       "    </tr>\n",
       "    <tr>\n",
       "      <th>17.0</th>\n",
       "      <td>34780.0</td>\n",
       "    </tr>\n",
       "    <tr>\n",
       "      <th>24.0</th>\n",
       "      <td>34750.0</td>\n",
       "    </tr>\n",
       "    <tr>\n",
       "      <th>29.0</th>\n",
       "      <td>34800.0</td>\n",
       "    </tr>\n",
       "    <tr>\n",
       "      <th>...</th>\n",
       "      <td>...</td>\n",
       "    </tr>\n",
       "    <tr>\n",
       "      <th>8970.0</th>\n",
       "      <td>34650.0</td>\n",
       "    </tr>\n",
       "    <tr>\n",
       "      <th>8977.0</th>\n",
       "      <td>34650.0</td>\n",
       "    </tr>\n",
       "    <tr>\n",
       "      <th>8985.0</th>\n",
       "      <td>34650.0</td>\n",
       "    </tr>\n",
       "    <tr>\n",
       "      <th>8990.0</th>\n",
       "      <td>34650.0</td>\n",
       "    </tr>\n",
       "    <tr>\n",
       "      <th>9000.0</th>\n",
       "      <td>34670.0</td>\n",
       "    </tr>\n",
       "  </tbody>\n",
       "</table>\n",
       "<p>1050 rows × 1 columns</p>\n",
       "</div>"
      ],
      "text/plain": [
       "          Price\n",
       "5.0     34820.0\n",
       "11.0    34820.0\n",
       "17.0    34780.0\n",
       "24.0    34750.0\n",
       "29.0    34800.0\n",
       "...         ...\n",
       "8970.0  34650.0\n",
       "8977.0  34650.0\n",
       "8985.0  34650.0\n",
       "8990.0  34650.0\n",
       "9000.0  34670.0\n",
       "\n",
       "[1050 rows x 1 columns]"
      ]
     },
     "execution_count": 32,
     "metadata": {},
     "output_type": "execute_result"
    }
   ],
   "source": [
    "df11 = df1.copy()\n",
    "df11.index = [(t - t_start_1).total_seconds() for t in df1.index]\n",
    "df11"
   ]
  },
  {
   "cell_type": "code",
   "execution_count": 33,
   "id": "3adeb43e-64db-46c2-b8fc-03fe0e233a8d",
   "metadata": {},
   "outputs": [
    {
     "data": {
      "text/html": [
       "<div>\n",
       "<style scoped>\n",
       "    .dataframe tbody tr th:only-of-type {\n",
       "        vertical-align: middle;\n",
       "    }\n",
       "\n",
       "    .dataframe tbody tr th {\n",
       "        vertical-align: top;\n",
       "    }\n",
       "\n",
       "    .dataframe thead th {\n",
       "        text-align: right;\n",
       "    }\n",
       "</style>\n",
       "<table border=\"1\" class=\"dataframe\">\n",
       "  <thead>\n",
       "    <tr style=\"text-align: right;\">\n",
       "      <th></th>\n",
       "      <th>Price</th>\n",
       "    </tr>\n",
       "  </thead>\n",
       "  <tbody>\n",
       "    <tr>\n",
       "      <th>9003.0</th>\n",
       "      <td>34670.0</td>\n",
       "    </tr>\n",
       "    <tr>\n",
       "      <th>9009.0</th>\n",
       "      <td>34670.0</td>\n",
       "    </tr>\n",
       "    <tr>\n",
       "      <th>9014.0</th>\n",
       "      <td>34670.0</td>\n",
       "    </tr>\n",
       "    <tr>\n",
       "      <th>9020.0</th>\n",
       "      <td>34670.0</td>\n",
       "    </tr>\n",
       "    <tr>\n",
       "      <th>9027.0</th>\n",
       "      <td>34660.0</td>\n",
       "    </tr>\n",
       "    <tr>\n",
       "      <th>...</th>\n",
       "      <td>...</td>\n",
       "    </tr>\n",
       "    <tr>\n",
       "      <th>17977.0</th>\n",
       "      <td>34920.0</td>\n",
       "    </tr>\n",
       "    <tr>\n",
       "      <th>17985.0</th>\n",
       "      <td>34920.0</td>\n",
       "    </tr>\n",
       "    <tr>\n",
       "      <th>17992.0</th>\n",
       "      <td>34910.0</td>\n",
       "    </tr>\n",
       "    <tr>\n",
       "      <th>17997.0</th>\n",
       "      <td>34940.0</td>\n",
       "    </tr>\n",
       "    <tr>\n",
       "      <th>18000.0</th>\n",
       "      <td>34920.0</td>\n",
       "    </tr>\n",
       "  </tbody>\n",
       "</table>\n",
       "<p>665 rows × 1 columns</p>\n",
       "</div>"
      ],
      "text/plain": [
       "           Price\n",
       "9003.0   34670.0\n",
       "9009.0   34670.0\n",
       "9014.0   34670.0\n",
       "9020.0   34670.0\n",
       "9027.0   34660.0\n",
       "...          ...\n",
       "17977.0  34920.0\n",
       "17985.0  34920.0\n",
       "17992.0  34910.0\n",
       "17997.0  34940.0\n",
       "18000.0  34920.0\n",
       "\n",
       "[665 rows x 1 columns]"
      ]
     },
     "execution_count": 33,
     "metadata": {},
     "output_type": "execute_result"
    }
   ],
   "source": [
    "df21 = df2.copy()\n",
    "df21.index = [(t - t_start_2).total_seconds() for t in df2.index]\n",
    "df21"
   ]
  },
  {
   "cell_type": "code",
   "execution_count": 34,
   "id": "37708bdb-1b63-4529-9f40-656f32bd2411",
   "metadata": {},
   "outputs": [
    {
     "data": {
      "text/html": [
       "<div>\n",
       "<style scoped>\n",
       "    .dataframe tbody tr th:only-of-type {\n",
       "        vertical-align: middle;\n",
       "    }\n",
       "\n",
       "    .dataframe tbody tr th {\n",
       "        vertical-align: top;\n",
       "    }\n",
       "\n",
       "    .dataframe thead th {\n",
       "        text-align: right;\n",
       "    }\n",
       "</style>\n",
       "<table border=\"1\" class=\"dataframe\">\n",
       "  <thead>\n",
       "    <tr style=\"text-align: right;\">\n",
       "      <th></th>\n",
       "      <th>Price</th>\n",
       "    </tr>\n",
       "  </thead>\n",
       "  <tbody>\n",
       "    <tr>\n",
       "      <th>5.0</th>\n",
       "      <td>34820.0</td>\n",
       "    </tr>\n",
       "    <tr>\n",
       "      <th>11.0</th>\n",
       "      <td>34820.0</td>\n",
       "    </tr>\n",
       "    <tr>\n",
       "      <th>17.0</th>\n",
       "      <td>34780.0</td>\n",
       "    </tr>\n",
       "    <tr>\n",
       "      <th>24.0</th>\n",
       "      <td>34750.0</td>\n",
       "    </tr>\n",
       "    <tr>\n",
       "      <th>29.0</th>\n",
       "      <td>34800.0</td>\n",
       "    </tr>\n",
       "    <tr>\n",
       "      <th>...</th>\n",
       "      <td>...</td>\n",
       "    </tr>\n",
       "    <tr>\n",
       "      <th>17977.0</th>\n",
       "      <td>34920.0</td>\n",
       "    </tr>\n",
       "    <tr>\n",
       "      <th>17985.0</th>\n",
       "      <td>34920.0</td>\n",
       "    </tr>\n",
       "    <tr>\n",
       "      <th>17992.0</th>\n",
       "      <td>34910.0</td>\n",
       "    </tr>\n",
       "    <tr>\n",
       "      <th>17997.0</th>\n",
       "      <td>34940.0</td>\n",
       "    </tr>\n",
       "    <tr>\n",
       "      <th>18000.0</th>\n",
       "      <td>34920.0</td>\n",
       "    </tr>\n",
       "  </tbody>\n",
       "</table>\n",
       "<p>1715 rows × 1 columns</p>\n",
       "</div>"
      ],
      "text/plain": [
       "           Price\n",
       "5.0      34820.0\n",
       "11.0     34820.0\n",
       "17.0     34780.0\n",
       "24.0     34750.0\n",
       "29.0     34800.0\n",
       "...          ...\n",
       "17977.0  34920.0\n",
       "17985.0  34920.0\n",
       "17992.0  34910.0\n",
       "17997.0  34940.0\n",
       "18000.0  34920.0\n",
       "\n",
       "[1715 rows x 1 columns]"
      ]
     },
     "execution_count": 34,
     "metadata": {},
     "output_type": "execute_result"
    }
   ],
   "source": [
    "df3 = pd.concat([df11, df21])\n",
    "df3"
   ]
  },
  {
   "cell_type": "code",
   "execution_count": 35,
   "id": "d2beafbc-1bb1-4791-afd9-158a4aecd064",
   "metadata": {},
   "outputs": [],
   "source": [
    "dict_data = dict()\n",
    "n = len(df3)\n",
    "for idx in range(n):\n",
    "    series = df3.iloc[idx]\n",
    "    value = series.iloc[0]\n",
    "    key = series.name\n",
    "    dict_data[key] = value"
   ]
  },
  {
   "cell_type": "code",
   "execution_count": 36,
   "id": "b320cbfb-2a1b-4000-b803-a058896bfbbf",
   "metadata": {},
   "outputs": [
    {
     "data": {
      "text/html": [
       "<div>\n",
       "<style scoped>\n",
       "    .dataframe tbody tr th:only-of-type {\n",
       "        vertical-align: middle;\n",
       "    }\n",
       "\n",
       "    .dataframe tbody tr th {\n",
       "        vertical-align: top;\n",
       "    }\n",
       "\n",
       "    .dataframe thead th {\n",
       "        text-align: right;\n",
       "    }\n",
       "</style>\n",
       "<table border=\"1\" class=\"dataframe\">\n",
       "  <thead>\n",
       "    <tr style=\"text-align: right;\">\n",
       "      <th></th>\n",
       "      <th>Price</th>\n",
       "    </tr>\n",
       "  </thead>\n",
       "  <tbody>\n",
       "    <tr>\n",
       "      <th>5.0</th>\n",
       "      <td>34820.0</td>\n",
       "    </tr>\n",
       "    <tr>\n",
       "      <th>11.0</th>\n",
       "      <td>34820.0</td>\n",
       "    </tr>\n",
       "    <tr>\n",
       "      <th>17.0</th>\n",
       "      <td>34780.0</td>\n",
       "    </tr>\n",
       "    <tr>\n",
       "      <th>24.0</th>\n",
       "      <td>34750.0</td>\n",
       "    </tr>\n",
       "    <tr>\n",
       "      <th>29.0</th>\n",
       "      <td>34800.0</td>\n",
       "    </tr>\n",
       "    <tr>\n",
       "      <th>...</th>\n",
       "      <td>...</td>\n",
       "    </tr>\n",
       "    <tr>\n",
       "      <th>17977.0</th>\n",
       "      <td>34920.0</td>\n",
       "    </tr>\n",
       "    <tr>\n",
       "      <th>17985.0</th>\n",
       "      <td>34920.0</td>\n",
       "    </tr>\n",
       "    <tr>\n",
       "      <th>17992.0</th>\n",
       "      <td>34910.0</td>\n",
       "    </tr>\n",
       "    <tr>\n",
       "      <th>17997.0</th>\n",
       "      <td>34940.0</td>\n",
       "    </tr>\n",
       "    <tr>\n",
       "      <th>18000.0</th>\n",
       "      <td>34920.0</td>\n",
       "    </tr>\n",
       "  </tbody>\n",
       "</table>\n",
       "<p>1715 rows × 1 columns</p>\n",
       "</div>"
      ],
      "text/plain": [
       "           Price\n",
       "5.0      34820.0\n",
       "11.0     34820.0\n",
       "17.0     34780.0\n",
       "24.0     34750.0\n",
       "29.0     34800.0\n",
       "...          ...\n",
       "17977.0  34920.0\n",
       "17985.0  34920.0\n",
       "17992.0  34910.0\n",
       "17997.0  34940.0\n",
       "18000.0  34920.0\n",
       "\n",
       "[1715 rows x 1 columns]"
      ]
     },
     "execution_count": 36,
     "metadata": {},
     "output_type": "execute_result"
    }
   ],
   "source": [
    "df0 = pd.DataFrame({'Price': dict_data.values()}, index=dict_data.keys())\n",
    "df0"
   ]
  },
  {
   "cell_type": "code",
   "execution_count": 37,
   "id": "f440c1d7-7107-4e7a-854f-07fa850adae6",
   "metadata": {},
   "outputs": [
    {
     "data": {
      "text/plain": [
       "array([0.63636364, 0.63636364, 0.45454545, ..., 1.04545455, 1.18181818,\n",
       "       1.09090909])"
      ]
     },
     "execution_count": 37,
     "metadata": {},
     "output_type": "execute_result"
    }
   ],
   "source": [
    "x = np.array(df0.index)\n",
    "# y = scipy.stats.zscore(df0['Price'])\n",
    "y = np.array([y for y in robust_scale(df0['Price'])])\n",
    "y"
   ]
  },
  {
   "cell_type": "code",
   "execution_count": 45,
   "id": "43c5b9d5-04e5-424f-acb7-1c452f571d36",
   "metadata": {},
   "outputs": [
    {
     "data": {
      "text/plain": [
       "1800"
      ]
     },
     "execution_count": 45,
     "metadata": {},
     "output_type": "execute_result"
    }
   ],
   "source": [
    "t_start_0 = 0\n",
    "t_end_0 = 18000\n",
    "t_interval_0 = 10\n",
    "\n",
    "spl = make_smoothing_spline(x, y)\n",
    "xs = np.linspace(t_start_0, t_end_0, int((t_end_0 - t_start_0) / t_interval_0))\n",
    "len(xs)"
   ]
  },
  {
   "cell_type": "code",
   "execution_count": 46,
   "id": "017f789e-c3d4-4845-9eba-0ac557d0829d",
   "metadata": {},
   "outputs": [
    {
     "name": "stdout",
     "output_type": "stream",
     "text": [
      "Area = -314, 428\n"
     ]
    }
   ],
   "source": [
    "# _____________________________________________________________________\n",
    "# Integrals for Morning and Afternoon\n",
    "count = 0\n",
    "sum_morning = 0\n",
    "sum_afternoon = 0\n",
    "for h in spl(xs):\n",
    "    if count < len(xs) / 2:\n",
    "        sum_morning += h\n",
    "    else:\n",
    "        sum_afternoon += h\n",
    "    count += 1\n",
    "print('Area = %d, %d' % (round(sum_morning), round(sum_afternoon)))"
   ]
  },
  {
   "cell_type": "code",
   "execution_count": 47,
   "id": "40dcbd99-d5e9-41bd-b810-f5a4b312b58e",
   "metadata": {},
   "outputs": [
    {
     "data": {
      "image/png": "[encoded data removed]",
      "text/plain": [
       "<Figure size 1000x500 with 1 Axes>"
      ]
     },
     "metadata": {},
     "output_type": "display_data"
    }
   ],
   "source": [
    "plt.rcParams[\"figure.figsize\"] = (10, 5)\n",
    "fig, ax = plt.subplots()\n",
    "\n",
    "ax.axvline(x=9000, linestyle='dotted', lw=1, c='red')\n",
    "\n",
    "ax.set_xlabel('Tokyo Market Open [sec]')\n",
    "ax.set_ylabel('Standardized Price')\n",
    "\n",
    "ax.xaxis.set_ticks(np.arange(0, 18001, 1800))\n",
    "ax.set_ylim(-4, 4)\n",
    "\n",
    "#ax.scatter(x, y, s=1, c='gray')\n",
    "ax.plot(xs, spl(xs), lw=1, label=date)\n",
    "ax.grid()\n",
    "ax.legend(loc='best')\n",
    "\n",
    "plt.show()"
   ]
  },
  {
   "cell_type": "code",
   "execution_count": null,
   "id": "45f10144-35c9-4939-b3a4-701110b6f439",
   "metadata": {},
   "outputs": [],
   "source": []
  },
  {
   "cell_type": "markdown",
   "id": "891e04f4-7665-488f-bb94-59b92a314397",
   "metadata": {},
   "source": [
    "# Calculate median and IQR for scaling"
   ]
  },
  {
   "cell_type": "code",
   "execution_count": 107,
   "id": "76180b57-e390-4a1c-9417-ecf05c6cef91",
   "metadata": {},
   "outputs": [
    {
     "name": "stdout",
     "output_type": "stream",
     "text": [
      "33580.0 140.0\n"
     ]
    }
   ],
   "source": [
    "y_raw = np.array(df0['Price'])\n",
    "y_median = np.median(y_raw)\n",
    "iqr = np.subtract(*np.percentile(y_raw, [75, 25]))\n",
    "print(y_median, iqr)"
   ]
  },
  {
   "cell_type": "code",
   "execution_count": 108,
   "id": "021c9643-57d6-46e2-ac97-b985f86b790b",
   "metadata": {},
   "outputs": [
    {
     "data": {
      "text/plain": [
       "array([ 4.92857143,  5.64285714,  5.07142857, ..., -0.85714286,\n",
       "       -0.78571429, -0.28571429])"
      ]
     },
     "execution_count": 108,
     "metadata": {},
     "output_type": "execute_result"
    }
   ],
   "source": [
    "y = np.array([(v - y_median) / iqr for v in y_raw])\n",
    "y"
   ]
  },
  {
   "cell_type": "code",
   "execution_count": 109,
   "id": "1478bdd0-a158-42d3-904b-d0570445ee42",
   "metadata": {},
   "outputs": [
    {
     "data": {
      "text/plain": [
       "numpy.ndarray"
      ]
     },
     "execution_count": 109,
     "metadata": {},
     "output_type": "execute_result"
    }
   ],
   "source": [
    "spl = make_smoothing_spline(x, y)\n",
    "xs = np.linspace(t_start_0, t_end_0, int((t_end_0 - t_start_0) / t_interval_0))\n",
    "type(spl(xs))"
   ]
  },
  {
   "cell_type": "code",
   "execution_count": 110,
   "id": "420b0c78-e833-4a29-9fad-bd6e6ec51da8",
   "metadata": {},
   "outputs": [
    {
     "data": {
      "image/png": "[encoded data removed]",
      "text/plain": [
       "<Figure size 1000x500 with 1 Axes>"
      ]
     },
     "metadata": {},
     "output_type": "display_data"
    }
   ],
   "source": [
    "plt.rcParams[\"figure.figsize\"] = (10, 5)\n",
    "fig, ax = plt.subplots()\n",
    "\n",
    "ax.axvline(x=9000, linestyle='dotted', lw=1, c='red')\n",
    "\n",
    "ax.set_xlabel('Tokyo Market Open [sec]')\n",
    "ax.set_ylabel('Standardized Price')\n",
    "\n",
    "ax.xaxis.set_ticks(np.arange(0, 18001, 1800))\n",
    "ax.set_ylim(-4, 4)\n",
    "\n",
    "#ax.scatter(x, y, s=1, c='gray')\n",
    "ax.plot(xs, spl(xs), lw=1, label=date)\n",
    "ax.grid()\n",
    "ax.legend(loc='best')\n",
    "\n",
    "plt.show()"
   ]
  },
  {
   "cell_type": "code",
   "execution_count": null,
   "id": "f7256f85-f1f4-477a-8e7c-1ab77e99ff12",
   "metadata": {},
   "outputs": [],
   "source": []
  }
 ],
 "metadata": {
  "kernelspec": {
   "display_name": "Python 3 (ipykernel)",
   "language": "python",
   "name": "python3"
  },
  "language_info": {
   "codemirror_mode": {
    "name": "ipython",
    "version": 3
   },
   "file_extension": ".py",
   "mimetype": "text/x-python",
   "name": "python",
   "nbconvert_exporter": "python",
   "pygments_lexer": "ipython3",
   "version": "3.12.1"
  }
 },
 "nbformat": 4,
 "nbformat_minor": 5
}
