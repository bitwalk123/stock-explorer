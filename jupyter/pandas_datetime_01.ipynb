{
 "cells": [
  {
   "cell_type": "code",
   "execution_count": 1,
   "id": "b1f379fa-9141-4cda-8e6e-f42c445b9216",
   "metadata": {},
   "outputs": [],
   "source": [
    "import pandas as pd"
   ]
  },
  {
   "cell_type": "code",
   "execution_count": 5,
   "id": "b66c4b1c-fdb4-4835-b812-01b69a3968b0",
   "metadata": {},
   "outputs": [
    {
     "data": {
      "text/plain": [
       "DatetimeIndex(['2024-03-22 09:00:00', '2024-03-22 09:00:06',\n",
       "               '2024-03-22 09:00:12', '2024-03-22 09:00:18',\n",
       "               '2024-03-22 09:00:24', '2024-03-22 09:00:30',\n",
       "               '2024-03-22 09:00:36', '2024-03-22 09:00:42',\n",
       "               '2024-03-22 09:00:48', '2024-03-22 09:00:54',\n",
       "               '2024-03-22 09:01:00'],\n",
       "              dtype='datetime64[ns]', freq='6s')"
      ]
     },
     "execution_count": 5,
     "metadata": {},
     "output_type": "execute_result"
    }
   ],
   "source": [
    "pd.date_range('2024-03-22 09:00:00', '2024-03-22 09:01:00', freq='0.1min')"
   ]
  },
  {
   "cell_type": "code",
   "execution_count": null,
   "id": "e88b7816-1f0c-4cac-b2e5-9d25b4fb5691",
   "metadata": {},
   "outputs": [],
   "source": []
  }
 ],
 "metadata": {
  "kernelspec": {
   "display_name": "Python 3 (ipykernel)",
   "language": "python",
   "name": "python3"
  },
  "language_info": {
   "codemirror_mode": {
    "name": "ipython",
    "version": 3
   },
   "file_extension": ".py",
   "mimetype": "text/x-python",
   "name": "python",
   "nbconvert_exporter": "python",
   "pygments_lexer": "ipython3",
   "version": "3.12.2"
  }
 },
 "nbformat": 4,
 "nbformat_minor": 5
}
