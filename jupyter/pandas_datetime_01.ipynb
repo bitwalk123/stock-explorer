{
 "cells": [
  {
   "cell_type": "code",
   "execution_count": 1,
   "id": "b1f379fa-9141-4cda-8e6e-f42c445b9216",
   "metadata": {},
   "outputs": [],
   "source": [
    "import pandas as pd"
   ]
  },
  {
   "cell_type": "code",
   "execution_count": 7,
   "id": "b66c4b1c-fdb4-4835-b812-01b69a3968b0",
   "metadata": {},
   "outputs": [],
   "source": [
    "x = pd.date_range('2024-03-22 09:00:00', '2024-03-22 10:00:00', freq='0.1min')"
   ]
  },
  {
   "cell_type": "code",
   "execution_count": 17,
   "id": "e88b7816-1f0c-4cac-b2e5-9d25b4fb5691",
   "metadata": {},
   "outputs": [
    {
     "data": {
      "text/plain": [
       "Index([1711098000.0, 1711098006.0, 1711098012.0, 1711098018.0, 1711098024.0,\n",
       "       1711098030.0, 1711098036.0, 1711098042.0, 1711098048.0, 1711098054.0,\n",
       "       ...\n",
       "       1711101546.0, 1711101552.0, 1711101558.0, 1711101564.0, 1711101570.0,\n",
       "       1711101576.0, 1711101582.0, 1711101588.0, 1711101594.0, 1711101600.0],\n",
       "      dtype='float64', length=601)"
      ]
     },
     "execution_count": 17,
     "metadata": {},
     "output_type": "execute_result"
    }
   ],
   "source": [
    "v = x.map(pd.Timestamp.timestamp)\n",
    "v"
   ]
  },
  {
   "cell_type": "code",
   "execution_count": 18,
   "id": "1f419f00-5754-4c1a-8791-afd12d8c39e1",
   "metadata": {},
   "outputs": [],
   "source": [
    "a = 1711098000.0"
   ]
  },
  {
   "cell_type": "code",
   "execution_count": 20,
   "id": "db3fa4a6-65e4-4146-940c-fb9eab402b91",
   "metadata": {},
   "outputs": [
    {
     "data": {
      "text/plain": [
       "0"
      ]
     },
     "execution_count": 20,
     "metadata": {},
     "output_type": "execute_result"
    }
   ],
   "source": [
    "pd.to_datetime(a, unit='s').minute"
   ]
  },
  {
   "cell_type": "code",
   "execution_count": 24,
   "id": "34a38351-0fe5-4396-a2c9-9c76eeddb8b6",
   "metadata": {},
   "outputs": [],
   "source": [
    "l = [2, 3, 4]"
   ]
  },
  {
   "cell_type": "code",
   "execution_count": 25,
   "id": "e75d8c6d-6efe-442c-a675-d4a7b0525639",
   "metadata": {},
   "outputs": [
    {
     "data": {
      "text/plain": [
       "[2, 3, 4, 0.0]"
      ]
     },
     "execution_count": 25,
     "metadata": {},
     "output_type": "execute_result"
    }
   ],
   "source": [
    "l + [0.0]"
   ]
  },
  {
   "cell_type": "code",
   "execution_count": null,
   "id": "1ab1446c-47c9-41e9-bcc8-e5d5ef8ae704",
   "metadata": {},
   "outputs": [],
   "source": []
  }
 ],
 "metadata": {
  "kernelspec": {
   "display_name": "Python 3 (ipykernel)",
   "language": "python",
   "name": "python3"
  },
  "language_info": {
   "codemirror_mode": {
    "name": "ipython",
    "version": 3
   },
   "file_extension": ".py",
   "mimetype": "text/x-python",
   "name": "python",
   "nbconvert_exporter": "python",
   "pygments_lexer": "ipython3",
   "version": "3.12.2"
  }
 },
 "nbformat": 4,
 "nbformat_minor": 5
}
