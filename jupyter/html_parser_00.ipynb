{
 "cells": [
  {
   "cell_type": "code",
   "execution_count": 42,
   "id": "78ca0c78-5e24-403e-9435-4c6a8e83e114",
   "metadata": {},
   "outputs": [
    {
     "name": "stdout",
     "output_type": "stream",
     "text": [
      "タグのはじめ　 : html\n",
      "タグのはじめ　 : head\n",
      "タグのはじめ　 : title\n",
      "タグ内の文字列 : テスト（タイトル）\n",
      "タグのおわり　 : title\n",
      "タグのおわり　 : head\n",
      "タグのはじめ　 : body\n",
      "タグのはじめ　 : h1\n",
      " └ タグの属性 = {'id': 'title'}\n",
      "タグ内の文字列 : ページタイトル\n",
      "タグのおわり　 : h1\n",
      "タグのはじめ　 : p\n",
      " └ タグの属性 = {'style': 'font-family: monospace;'}\n",
      "タグ内の文字列 : これはテスト用です。\n",
      "タグのおわり　 : p\n",
      "タグのおわり　 : body\n",
      "タグのおわり　 : html\n"
     ]
    }
   ],
   "source": [
    "from html.parser import HTMLParser\n",
    "\n",
    "class MyHTMLParser(HTMLParser):\n",
    "\n",
    "    def handle_starttag(self, tag, attrs):\n",
    "        dict_attrs = dict(attrs)\n",
    "        print(\"タグのはじめ　 :\", tag)\n",
    "        if len(dict_attrs) > 0:\n",
    "            print(\" └ タグの属性 =\", dict_attrs)\n",
    "\n",
    "    def handle_endtag(self, tag):\n",
    "        print(\"タグのおわり　 :\", tag)\n",
    "\n",
    "    def handle_data(self, data):\n",
    "        print(\"タグ内の文字列 :\", data.strip())\n",
    "\n",
    "\n",
    "parser = MyHTMLParser()\n",
    "parser.feed(\n",
    "    '<html><head><title>テスト（タイトル）</title></head>'\n",
    "    '<body><h1 id=\"title\">ページタイトル</h1>'\n",
    "    '<p style=\"font-family: monospace;\">これはテスト用です。</p>'\n",
    "    '</body></html>'\n",
    ")"
   ]
  },
  {
   "cell_type": "code",
   "execution_count": null,
   "id": "c2df2b7b-e383-49bc-9383-2d2670b5b532",
   "metadata": {},
   "outputs": [],
   "source": []
  }
 ],
 "metadata": {
  "kernelspec": {
   "display_name": "Python 3 (ipykernel)",
   "language": "python",
   "name": "python3"
  },
  "language_info": {
   "codemirror_mode": {
    "name": "ipython",
    "version": 3
   },
   "file_extension": ".py",
   "mimetype": "text/x-python",
   "name": "python",
   "nbconvert_exporter": "python",
   "pygments_lexer": "ipython3",
   "version": "3.12.1"
  }
 },
 "nbformat": 4,
 "nbformat_minor": 5
}
