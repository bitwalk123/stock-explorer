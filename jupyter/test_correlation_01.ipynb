{
 "cells": [
  {
   "cell_type": "code",
   "execution_count": 1,
   "id": "98c4ed1f-e3a6-42ab-8065-c66c188c0932",
   "metadata": {},
   "outputs": [
    {
     "data": {
      "text/plain": [
       "'/home/bitwalk/MyProjects/stock-explorer'"
      ]
     },
     "execution_count": 1,
     "metadata": {},
     "output_type": "execute_result"
    }
   ],
   "source": [
    "import os\n",
    "\n",
    "os.chdir('../')\n",
    "os.getcwd()"
   ]
  },
  {
   "cell_type": "code",
   "execution_count": 2,
   "id": "49ad91e8-4d15-45e1-92b6-8b8aed7292d1",
   "metadata": {},
   "outputs": [],
   "source": [
    "dir_path = 'pool'\n",
    "files = os.listdir(dir_path)\n",
    "#files"
   ]
  },
  {
   "cell_type": "code",
   "execution_count": 3,
   "id": "720e2606-afd2-43e9-aa6d-7da2e921d1ec",
   "metadata": {},
   "outputs": [],
   "source": [
    "def update_dict(dict_ranking, ticker):\n",
    "    if ticker in dict_ranking:\n",
    "        dict_ranking[ticker] += 1\n",
    "    else:\n",
    "        dict_ranking[ticker] = 1"
   ]
  },
  {
   "cell_type": "code",
   "execution_count": 16,
   "id": "7df36a53-f72c-4ca6-92d1-f1dacd5ce4a8",
   "metadata": {},
   "outputs": [],
   "source": [
    "def sort_dict_by_value(dic):\n",
    "    list_key_value = sorted(dic.items(), key=lambda x:x[1], reverse=True)\n",
    "    dic_new = dict()\n",
    "    for set0 in list_key_value:\n",
    "        key = set0[0]\n",
    "        value = set0[1]\n",
    "        dic_new[key] = value\n",
    "    return dic_new"
   ]
  },
  {
   "cell_type": "markdown",
   "id": "fa87eeef-1cb1-41d2-af5e-d9fc6e78dd73",
   "metadata": {},
   "source": [
    "# 三菱ＵＦＪフィナンシャル・グループ (8306)"
   ]
  },
  {
   "cell_type": "code",
   "execution_count": 4,
   "id": "0f170cc9-bcb9-445e-8dfd-e6e88b9925a5",
   "metadata": {},
   "outputs": [
    {
     "name": "stdout",
     "output_type": "stream",
     "text": [
      "['corr_8306-1705017600.pkl', 'corr_8306-1705276800.pkl', 'corr_8306-1705363200.pkl', 'corr_8306-1705449600.pkl', 'corr_8306-1705536000.pkl', 'corr_8306-1705622400.pkl', 'corr_8306-1705881600.pkl', 'corr_8306-1705968000.pkl', 'corr_8306-1706054400.pkl', 'corr_8306-1706140800.pkl', 'corr_8306-1706227200.pkl', 'corr_8306-1706486400.pkl', 'corr_8306-1706572800.pkl', 'corr_8306-1706659200.pkl', 'corr_8306-1706745600.pkl', 'corr_8306-1706832000.pkl', 'corr_8306-1707091200.pkl', 'corr_8306-1707177600.pkl', 'corr_8306-1707264000.pkl', 'corr_8306-1707350400.pkl', 'corr_8306-1707436800.pkl', 'corr_8306-1707696000.pkl', 'corr_8306-1707782400.pkl', 'corr_8306-1707868800.pkl', 'corr_8306-1707955200.pkl', 'corr_8306-1708041600.pkl', 'corr_8306-1708300800.pkl', 'corr_8306-1708387200.pkl', 'corr_8306-1708473600.pkl', 'corr_8306-1708560000.pkl', 'corr_8306-1708646400.pkl', 'corr_8306-1708905600.pkl', 'corr_8306-1708992000.pkl', 'corr_8306-1709078400.pkl', 'corr_8306-1709164800.pkl', 'corr_8306-1709251200.pkl', 'corr_8306-1709510400.pkl', 'corr_8306-1709596800.pkl', 'corr_8306-1709683200.pkl', 'corr_8306-1709769600.pkl', 'corr_8306-1709856000.pkl', 'corr_8306-1710115200.pkl', 'corr_8306-1710201600.pkl', 'corr_8306-1710288000.pkl', 'corr_8306-1710374400.pkl', 'corr_8306-1710460800.pkl', 'corr_8306-1710720000.pkl', 'corr_8306-1710806400.pkl', 'corr_8306-1710892800.pkl', 'corr_8306-1710979200.pkl', 'corr_8306-1711065600.pkl', 'corr_8306-1711324800.pkl', 'corr_8306-1711411200.pkl', 'corr_8306-1711497600.pkl', 'corr_8306-1711584000.pkl', 'corr_8306-1711670400.pkl', 'corr_8306-1711929600.pkl', 'corr_8306-1712016000.pkl', 'corr_8306-1712102400.pkl', 'corr_8306-1712188800.pkl', 'corr_8306-1712275200.pkl', 'corr_8306-1712534400.pkl', 'corr_8306-1712620800.pkl', 'corr_8306-1712707200.pkl', 'corr_8306-1712793600.pkl', 'corr_8306-1712880000.pkl', 'corr_8306-1713139200.pkl', 'corr_8306-1713225600.pkl', 'corr_8306-1713312000.pkl', 'corr_8306-1713398400.pkl', 'corr_8306-1713484800.pkl', 'corr_8306-1713744000.pkl', 'corr_8306-1713830400.pkl', 'corr_8306-1713916800.pkl', 'corr_8306-1714003200.pkl', 'corr_8306-1714089600.pkl', 'corr_8306-1714435200.pkl']\n"
     ]
    }
   ],
   "source": [
    "import re\n",
    "\n",
    "pattern = re.compile(r'corr_8306-\\d+\\.pkl')\n",
    "pkl_8306 = list()\n",
    "for file in files:\n",
    "    m = pattern.match(file)\n",
    "    if m:\n",
    "        pkl_8306.append(file)\n",
    "print(pkl_8306)"
   ]
  },
  {
   "cell_type": "code",
   "execution_count": 39,
   "id": "74d3a278-2a2c-409b-89cf-f00ba8d0f39d",
   "metadata": {},
   "outputs": [
    {
     "name": "stdout",
     "output_type": "stream",
     "text": [
      "1 {'4922': 30, '3186': 15, '6411': 13, '3856': 11, '2590': 7, '6030': 1}\n",
      "2 {'9058': 22, '6030': 16, '4575': 14, '6548': 7, '3856': 7, '6411': 4, '5867': 3, '4442': 3, '2590': 1}\n",
      "3 {'4575': 21, '3856': 11, '9058': 10, '6411': 7, '5867': 6, '2998': 5, '8165': 5, '6548': 4, '6030': 4, '3186': 1, '2999': 1, '4922': 1, '4442': 1}\n"
     ]
    }
   ],
   "source": [
    "import pandas as pd\n",
    "\n",
    "dict_ranking_1_8306 = dict()\n",
    "dict_ranking_2_8306 = dict()\n",
    "dict_ranking_3_8306 = dict()\n",
    "\n",
    "for pkl in pkl_8306:\n",
    "    file = os.path.join(dir_path, pkl)    \n",
    "    df_result = pd.read_pickle(file)\n",
    "\n",
    "    ticker_1 = df_result.index[0]\n",
    "    update_dict(dict_ranking_1_8306, ticker_1)\n",
    "\n",
    "    ticker_2 = df_result.index[1]\n",
    "    update_dict(dict_ranking_2_8306, ticker_2)\n",
    "\n",
    "    ticker_3 = df_result.index[2]\n",
    "    update_dict(dict_ranking_3_8306, ticker_3)\n",
    "\n",
    "dict_ranking_1_8306 = sort_dict_by_value(dict_ranking_1_8306)\n",
    "dict_ranking_2_8306 = sort_dict_by_value(dict_ranking_2_8306)\n",
    "dict_ranking_3_8306 = sort_dict_by_value(dict_ranking_3_8306)\n",
    "\n",
    "print(1, dict_ranking_1_8306)\n",
    "print(2, dict_ranking_2_8306)\n",
    "print(3, dict_ranking_3_8306)"
   ]
  },
  {
   "cell_type": "code",
   "execution_count": 55,
   "id": "0e734b7b-c45b-4edd-892f-4ec782b0111f",
   "metadata": {},
   "outputs": [
    {
     "data": {
      "text/html": [
       "<div>\n",
       "<style scoped>\n",
       "    .dataframe tbody tr th:only-of-type {\n",
       "        vertical-align: middle;\n",
       "    }\n",
       "\n",
       "    .dataframe tbody tr th {\n",
       "        vertical-align: top;\n",
       "    }\n",
       "\n",
       "    .dataframe thead th {\n",
       "        text-align: right;\n",
       "    }\n",
       "</style>\n",
       "<table border=\"1\" class=\"dataframe\">\n",
       "  <thead>\n",
       "    <tr style=\"text-align: right;\">\n",
       "      <th></th>\n",
       "      <th>4922</th>\n",
       "      <th>3186</th>\n",
       "      <th>6411</th>\n",
       "    </tr>\n",
       "  </thead>\n",
       "  <tbody>\n",
       "    <tr>\n",
       "      <th>1705017600</th>\n",
       "      <td>-0.745557</td>\n",
       "      <td>-0.875346</td>\n",
       "      <td>0.675719</td>\n",
       "    </tr>\n",
       "    <tr>\n",
       "      <th>1705276800</th>\n",
       "      <td>-0.739299</td>\n",
       "      <td>-0.871457</td>\n",
       "      <td>0.657290</td>\n",
       "    </tr>\n",
       "    <tr>\n",
       "      <th>1705363200</th>\n",
       "      <td>-0.732312</td>\n",
       "      <td>-0.867232</td>\n",
       "      <td>0.640240</td>\n",
       "    </tr>\n",
       "    <tr>\n",
       "      <th>1705449600</th>\n",
       "      <td>-0.725269</td>\n",
       "      <td>-0.862090</td>\n",
       "      <td>0.617209</td>\n",
       "    </tr>\n",
       "    <tr>\n",
       "      <th>1705536000</th>\n",
       "      <td>-0.718347</td>\n",
       "      <td>-0.855586</td>\n",
       "      <td>0.590854</td>\n",
       "    </tr>\n",
       "    <tr>\n",
       "      <th>...</th>\n",
       "      <td>...</td>\n",
       "      <td>...</td>\n",
       "      <td>...</td>\n",
       "    </tr>\n",
       "    <tr>\n",
       "      <th>1713830400</th>\n",
       "      <td>-0.954472</td>\n",
       "      <td>0.562118</td>\n",
       "      <td>-0.926815</td>\n",
       "    </tr>\n",
       "    <tr>\n",
       "      <th>1713916800</th>\n",
       "      <td>-0.954859</td>\n",
       "      <td>0.564673</td>\n",
       "      <td>-0.926546</td>\n",
       "    </tr>\n",
       "    <tr>\n",
       "      <th>1714003200</th>\n",
       "      <td>-0.955049</td>\n",
       "      <td>0.567043</td>\n",
       "      <td>-0.926819</td>\n",
       "    </tr>\n",
       "    <tr>\n",
       "      <th>1714089600</th>\n",
       "      <td>-0.955475</td>\n",
       "      <td>0.573941</td>\n",
       "      <td>-0.926640</td>\n",
       "    </tr>\n",
       "    <tr>\n",
       "      <th>1714435200</th>\n",
       "      <td>-0.956940</td>\n",
       "      <td>0.569624</td>\n",
       "      <td>-0.925550</td>\n",
       "    </tr>\n",
       "  </tbody>\n",
       "</table>\n",
       "<p>77 rows × 3 columns</p>\n",
       "</div>"
      ],
      "text/plain": [
       "                4922      3186      6411\n",
       "1705017600 -0.745557 -0.875346  0.675719\n",
       "1705276800 -0.739299 -0.871457  0.657290\n",
       "1705363200 -0.732312 -0.867232  0.640240\n",
       "1705449600 -0.725269 -0.862090  0.617209\n",
       "1705536000 -0.718347 -0.855586  0.590854\n",
       "...              ...       ...       ...\n",
       "1713830400 -0.954472  0.562118 -0.926815\n",
       "1713916800 -0.954859  0.564673 -0.926546\n",
       "1714003200 -0.955049  0.567043 -0.926819\n",
       "1714089600 -0.955475  0.573941 -0.926640\n",
       "1714435200 -0.956940  0.569624 -0.925550\n",
       "\n",
       "[77 rows x 3 columns]"
      ]
     },
     "execution_count": 55,
     "metadata": {},
     "output_type": "execute_result"
    }
   ],
   "source": [
    "ticker_1 = list(dict_ranking_1_8306.keys())[0]\n",
    "ticker_2 = list(dict_ranking_1_8306.keys())[1]\n",
    "ticker_3 = list(dict_ranking_1_8306.keys())[2]\n",
    "\n",
    "list_ts = list()\n",
    "list_corr_1 = list()\n",
    "list_corr_2 = list()\n",
    "list_corr_3 = list()\n",
    "\n",
    "pattern = re.compile(r'corr_\\d{4}-(\\d+)\\.pkl')\n",
    "\n",
    "#pkl = 'corr_8306-1705017600.pkl'\n",
    "for pkl in pkl_8306:\n",
    "    m = pattern.match(pkl)\n",
    "    if m:\n",
    "        ts = m.group(1)\n",
    "    else:\n",
    "        ts = 0\n",
    "    list_ts.append(int(ts))\n",
    "    \n",
    "    file = os.path.join(dir_path, pkl)\n",
    "    df_result = pd.read_pickle(file)\n",
    "    list_corr_1.append(df_result.loc[ticker_1].iloc[0])\n",
    "    list_corr_2.append(df_result.loc[ticker_2].iloc[0])\n",
    "    list_corr_3.append(df_result.loc[ticker_3].iloc[0])\n",
    "\n",
    "df_corr_8306 = pd.DataFrame({ticker_1: list_corr_1,\n",
    "                             ticker_2: list_corr_2,\n",
    "                             ticker_3: list_corr_3,},\n",
    "                            index=list_ts)\n",
    "df_corr_8306"
   ]
  },
  {
   "cell_type": "code",
   "execution_count": 59,
   "id": "8715b858-095a-4582-8dd1-f18c417b12df",
   "metadata": {},
   "outputs": [
    {
     "data": {
      "text/plain": [
       "DatetimeIndex(['1970-01-01 00:00:01.705017600',\n",
       "               '1970-01-01 00:00:01.705276800',\n",
       "               '1970-01-01 00:00:01.705363200',\n",
       "               '1970-01-01 00:00:01.705449600',\n",
       "                  '1970-01-01 00:00:01.705536',\n",
       "               '1970-01-01 00:00:01.705622400',\n",
       "               '1970-01-01 00:00:01.705881600',\n",
       "                  '1970-01-01 00:00:01.705968',\n",
       "               '1970-01-01 00:00:01.706054400',\n",
       "               '1970-01-01 00:00:01.706140800',\n",
       "               '1970-01-01 00:00:01.706227200',\n",
       "               '1970-01-01 00:00:01.706486400',\n",
       "               '1970-01-01 00:00:01.706572800',\n",
       "               '1970-01-01 00:00:01.706659200',\n",
       "               '1970-01-01 00:00:01.706745600',\n",
       "                  '1970-01-01 00:00:01.706832',\n",
       "               '1970-01-01 00:00:01.707091200',\n",
       "               '1970-01-01 00:00:01.707177600',\n",
       "                  '1970-01-01 00:00:01.707264',\n",
       "               '1970-01-01 00:00:01.707350400',\n",
       "               '1970-01-01 00:00:01.707436800',\n",
       "                  '1970-01-01 00:00:01.707696',\n",
       "               '1970-01-01 00:00:01.707782400',\n",
       "               '1970-01-01 00:00:01.707868800',\n",
       "               '1970-01-01 00:00:01.707955200',\n",
       "               '1970-01-01 00:00:01.708041600',\n",
       "               '1970-01-01 00:00:01.708300800',\n",
       "               '1970-01-01 00:00:01.708387200',\n",
       "               '1970-01-01 00:00:01.708473600',\n",
       "                  '1970-01-01 00:00:01.708560',\n",
       "               '1970-01-01 00:00:01.708646400',\n",
       "               '1970-01-01 00:00:01.708905600',\n",
       "                  '1970-01-01 00:00:01.708992',\n",
       "               '1970-01-01 00:00:01.709078400',\n",
       "               '1970-01-01 00:00:01.709164800',\n",
       "               '1970-01-01 00:00:01.709251200',\n",
       "               '1970-01-01 00:00:01.709510400',\n",
       "               '1970-01-01 00:00:01.709596800',\n",
       "               '1970-01-01 00:00:01.709683200',\n",
       "               '1970-01-01 00:00:01.709769600',\n",
       "                  '1970-01-01 00:00:01.709856',\n",
       "               '1970-01-01 00:00:01.710115200',\n",
       "               '1970-01-01 00:00:01.710201600',\n",
       "                  '1970-01-01 00:00:01.710288',\n",
       "               '1970-01-01 00:00:01.710374400',\n",
       "               '1970-01-01 00:00:01.710460800',\n",
       "                  '1970-01-01 00:00:01.710720',\n",
       "               '1970-01-01 00:00:01.710806400',\n",
       "               '1970-01-01 00:00:01.710892800',\n",
       "               '1970-01-01 00:00:01.710979200',\n",
       "               '1970-01-01 00:00:01.711065600',\n",
       "               '1970-01-01 00:00:01.711324800',\n",
       "               '1970-01-01 00:00:01.711411200',\n",
       "               '1970-01-01 00:00:01.711497600',\n",
       "                  '1970-01-01 00:00:01.711584',\n",
       "               '1970-01-01 00:00:01.711670400',\n",
       "               '1970-01-01 00:00:01.711929600',\n",
       "                  '1970-01-01 00:00:01.712016',\n",
       "               '1970-01-01 00:00:01.712102400',\n",
       "               '1970-01-01 00:00:01.712188800',\n",
       "               '1970-01-01 00:00:01.712275200',\n",
       "               '1970-01-01 00:00:01.712534400',\n",
       "               '1970-01-01 00:00:01.712620800',\n",
       "               '1970-01-01 00:00:01.712707200',\n",
       "               '1970-01-01 00:00:01.712793600',\n",
       "                  '1970-01-01 00:00:01.712880',\n",
       "               '1970-01-01 00:00:01.713139200',\n",
       "               '1970-01-01 00:00:01.713225600',\n",
       "                  '1970-01-01 00:00:01.713312',\n",
       "               '1970-01-01 00:00:01.713398400',\n",
       "               '1970-01-01 00:00:01.713484800',\n",
       "                  '1970-01-01 00:00:01.713744',\n",
       "               '1970-01-01 00:00:01.713830400',\n",
       "               '1970-01-01 00:00:01.713916800',\n",
       "               '1970-01-01 00:00:01.714003200',\n",
       "               '1970-01-01 00:00:01.714089600',\n",
       "               '1970-01-01 00:00:01.714435200'],\n",
       "              dtype='datetime64[ns]', freq=None)"
      ]
     },
     "execution_count": 59,
     "metadata": {},
     "output_type": "execute_result"
    }
   ],
   "source": [
    "pd.to_datetime(list_ts)"
   ]
  },
  {
   "cell_type": "code",
   "execution_count": 60,
   "id": "62313b7f-3537-4ef0-a94b-1028623d049b",
   "metadata": {},
   "outputs": [
    {
     "data": {
      "image/png": "[encoded data removed]",
      "text/plain": [
       "<Figure size 640x480 with 1 Axes>"
      ]
     },
     "metadata": {},
     "output_type": "display_data"
    }
   ],
   "source": [
    "import matplotlib.pyplot as plt\n",
    "\n",
    "plt.plot(df_corr_8306[ticker_1])\n",
    "plt.plot(df_corr_8306[ticker_2])\n",
    "plt.plot(df_corr_8306[ticker_3])\n",
    "plt.show()"
   ]
  },
  {
   "cell_type": "markdown",
   "id": "9fd10f84-7137-4d34-b101-38e2711ee538",
   "metadata": {},
   "source": [
    "# 東京エレクトロン (8035)"
   ]
  },
  {
   "cell_type": "code",
   "execution_count": 18,
   "id": "584de57f-1019-442a-ae6a-1135c85b0ec6",
   "metadata": {},
   "outputs": [
    {
     "name": "stdout",
     "output_type": "stream",
     "text": [
      "['corr_8035-1705017600.pkl', 'corr_8035-1705276800.pkl', 'corr_8035-1705363200.pkl', 'corr_8035-1705449600.pkl', 'corr_8035-1705536000.pkl', 'corr_8035-1705622400.pkl', 'corr_8035-1705881600.pkl', 'corr_8035-1705968000.pkl', 'corr_8035-1706054400.pkl', 'corr_8035-1706140800.pkl', 'corr_8035-1706227200.pkl', 'corr_8035-1706486400.pkl', 'corr_8035-1706572800.pkl', 'corr_8035-1706659200.pkl', 'corr_8035-1706745600.pkl', 'corr_8035-1706832000.pkl', 'corr_8035-1707091200.pkl', 'corr_8035-1707177600.pkl', 'corr_8035-1707264000.pkl', 'corr_8035-1707350400.pkl', 'corr_8035-1707436800.pkl', 'corr_8035-1707696000.pkl', 'corr_8035-1707782400.pkl', 'corr_8035-1707868800.pkl', 'corr_8035-1707955200.pkl', 'corr_8035-1708041600.pkl', 'corr_8035-1708300800.pkl', 'corr_8035-1708387200.pkl', 'corr_8035-1708473600.pkl', 'corr_8035-1708560000.pkl', 'corr_8035-1708646400.pkl', 'corr_8035-1708905600.pkl', 'corr_8035-1708992000.pkl', 'corr_8035-1709078400.pkl', 'corr_8035-1709164800.pkl', 'corr_8035-1709251200.pkl', 'corr_8035-1709510400.pkl', 'corr_8035-1709596800.pkl', 'corr_8035-1709683200.pkl', 'corr_8035-1709769600.pkl', 'corr_8035-1709856000.pkl', 'corr_8035-1710115200.pkl', 'corr_8035-1710201600.pkl', 'corr_8035-1710288000.pkl', 'corr_8035-1710374400.pkl', 'corr_8035-1710460800.pkl', 'corr_8035-1710720000.pkl', 'corr_8035-1710806400.pkl', 'corr_8035-1710892800.pkl', 'corr_8035-1710979200.pkl', 'corr_8035-1711065600.pkl', 'corr_8035-1711324800.pkl', 'corr_8035-1711411200.pkl', 'corr_8035-1711497600.pkl', 'corr_8035-1711584000.pkl', 'corr_8035-1711670400.pkl', 'corr_8035-1711929600.pkl', 'corr_8035-1712016000.pkl', 'corr_8035-1712102400.pkl', 'corr_8035-1712188800.pkl', 'corr_8035-1712275200.pkl', 'corr_8035-1712534400.pkl', 'corr_8035-1712620800.pkl', 'corr_8035-1712707200.pkl', 'corr_8035-1712793600.pkl', 'corr_8035-1712880000.pkl', 'corr_8035-1713139200.pkl', 'corr_8035-1713225600.pkl', 'corr_8035-1713312000.pkl', 'corr_8035-1713398400.pkl', 'corr_8035-1713484800.pkl', 'corr_8035-1713744000.pkl', 'corr_8035-1713830400.pkl', 'corr_8035-1713916800.pkl', 'corr_8035-1714003200.pkl', 'corr_8035-1714089600.pkl', 'corr_8035-1714435200.pkl']\n"
     ]
    }
   ],
   "source": [
    "import re\n",
    "\n",
    "pattern = re.compile(r'corr_8035-\\d+\\.pkl')\n",
    "pkl_8035 = list()\n",
    "for file in files:\n",
    "    m = pattern.match(file)\n",
    "    if m:\n",
    "        pkl_8035.append(file)\n",
    "print(pkl_8035)"
   ]
  },
  {
   "cell_type": "code",
   "execution_count": 19,
   "id": "dd6cadd3-bc5a-4f6b-a93f-fb35b89f8c1a",
   "metadata": {},
   "outputs": [
    {
     "name": "stdout",
     "output_type": "stream",
     "text": [
      "1 {'4833': 42, '3070': 16, '4985': 11, '4098': 7, '6775': 1}\n",
      "2 {'7089': 24, '4678': 11, '4196': 11, '4985': 9, '4575': 7, '4098': 4, '4784': 4, '6775': 2, '3070': 1, '4263': 1, '4833': 1, '6573': 1, '4922': 1}\n",
      "3 {'7140': 9, '8925': 8, '4098': 7, '2586': 6, '4985': 6, '7707': 5, '4196': 5, '7089': 5, '6775': 4, '4575': 4, '4678': 3, '3814': 3, '6573': 3, '7771': 2, '4833': 2, '6571': 2, '3070': 1, '4784': 1, '4263': 1}\n"
     ]
    }
   ],
   "source": [
    "import pandas as pd\n",
    "\n",
    "dict_ranking_1_8035 = dict()\n",
    "dict_ranking_2_8035 = dict()\n",
    "dict_ranking_3_8035 = dict()\n",
    "\n",
    "for pkl in pkl_8035:\n",
    "    file = os.path.join(dir_path, pkl)\n",
    "    df_result = pd.read_pickle(file)\n",
    "\n",
    "    ticker_1 = df_result.index[0]\n",
    "    update_dict(dict_ranking_1_8035, ticker_1)\n",
    "\n",
    "    ticker_2 = df_result.index[1]\n",
    "    update_dict(dict_ranking_2_8035, ticker_2)\n",
    "\n",
    "    ticker_3 = df_result.index[2]\n",
    "    update_dict(dict_ranking_3_8035, ticker_3)\n",
    "\n",
    "dict_ranking_1_8035 = sort_dict_by_value(dict_ranking_1_8035)\n",
    "dict_ranking_2_8035 = sort_dict_by_value(dict_ranking_2_8035)\n",
    "dict_ranking_3_8035 = sort_dict_by_value(dict_ranking_3_8035)\n",
    "\n",
    "print(1, dict_ranking_1_8035)\n",
    "print(2, dict_ranking_2_8035)\n",
    "print(3, dict_ranking_3_8035)"
   ]
  },
  {
   "cell_type": "code",
   "execution_count": null,
   "id": "a5119c8c-7e59-4639-b842-8e1174d72b4a",
   "metadata": {},
   "outputs": [],
   "source": []
  }
 ],
 "metadata": {
  "kernelspec": {
   "display_name": "Python 3 (ipykernel)",
   "language": "python",
   "name": "python3"
  },
  "language_info": {
   "codemirror_mode": {
    "name": "ipython",
    "version": 3
   },
   "file_extension": ".py",
   "mimetype": "text/x-python",
   "name": "python",
   "nbconvert_exporter": "python",
   "pygments_lexer": "ipython3",
   "version": "3.12.2"
  }
 },
 "nbformat": 4,
 "nbformat_minor": 5
}
