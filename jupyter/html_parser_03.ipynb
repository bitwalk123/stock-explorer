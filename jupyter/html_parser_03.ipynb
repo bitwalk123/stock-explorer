{
 "cells": [
  {
   "cell_type": "code",
   "execution_count": 1,
   "id": "45eb98c8-843f-43c4-b1c2-765202e21aa8",
   "metadata": {},
   "outputs": [],
   "source": [
    "import re\n",
    "import requests\n",
    "from html.parser import HTMLParser"
   ]
  },
  {
   "cell_type": "code",
   "execution_count": 11,
   "id": "21f05ccc-44ce-485d-9f7d-622a9bf5637d",
   "metadata": {},
   "outputs": [],
   "source": [
    "class Parser8035(HTMLParser):\n",
    "    url = 'https://www.tel.co.jp/news/index.html'\n",
    "    url_domain = 'https://www.tel.co.jp'\n",
    "    def __init__(self):\n",
    "        HTMLParser.__init__(self)\n",
    "\n",
    "        self.c_news = False\n",
    "        self.c_news__col = False\n",
    "        self.time = False\n",
    "        self.summary = False\n",
    "\n",
    "        self.result = list()\n",
    "        self.element = None\n",
    "        self.link = None\n",
    "\n",
    "    def handle_starttag(self, tag, attrs):\n",
    "        dict_attrs = dict(attrs)\n",
    "        if tag == 'div':\n",
    "            if 'class' in dict_attrs:\n",
    "                if dict_attrs['class'] == 'c-news':\n",
    "                    self.c_news = True\n",
    "                    self.element = list()\n",
    "                    return\n",
    "                if dict_attrs['class'] == 'c-news__col':\n",
    "                    self.c_news__col = True\n",
    "                    return\n",
    "                return\n",
    "            return\n",
    "\n",
    "        if tag == 'a' and self.c_news is True:\n",
    "            if 'class' in dict_attrs:\n",
    "                if dict_attrs['class'] == 'u-hover':\n",
    "                    self.link = '%s%s' % (self.url_domain, dict_attrs['href'])\n",
    "                    return\n",
    "                return\n",
    "            return\n",
    "\n",
    "        if tag == 'time' and self.c_news__col is True:\n",
    "            self.time = True\n",
    "            return\n",
    "\n",
    "        if tag == 'p' and self.c_news__col is True:\n",
    "            if 'class' in dict_attrs:\n",
    "                if dict_attrs['class'] == 'c-news__summary u-fileicon':\n",
    "                    self.summary = True\n",
    "                    return\n",
    "                return\n",
    "            return\n",
    "            \n",
    "\n",
    "    def handle_data(self, data):\n",
    "        content = data.strip()\n",
    "\n",
    "        if self.time is True and self.c_news__col is True:\n",
    "            self.element.append(content)\n",
    "            self.time = False\n",
    "            return\n",
    "\n",
    "        if self.summary is True and self.c_news__col is True:\n",
    "            self.element.append(content)\n",
    "            self.element.append(self.link)\n",
    "            self.summary = False\n",
    "            self.link = None\n",
    "            return\n",
    "\n",
    "\n",
    "    def handle_endtag(self, tag):\n",
    "        if tag == 'div':\n",
    "            if self.c_news__col is True:\n",
    "                self.c_news__col = False\n",
    "                return\n",
    "\n",
    "            if self.c_news is True:\n",
    "                if len(self.element) > 0:\n",
    "                    self.result.append(self.element)\n",
    "                self.c_news = False\n",
    "                return"
   ]
  },
  {
   "cell_type": "code",
   "execution_count": 12,
   "id": "e0f40495-2c47-4f99-8ebf-42d549477aa1",
   "metadata": {},
   "outputs": [],
   "source": [
    "parser = Parser8035()\n",
    "url = parser.url\n",
    "response = requests.get(url)"
   ]
  },
  {
   "cell_type": "code",
   "execution_count": 13,
   "id": "8b19cc19-8524-4d1d-8964-30f883339d76",
   "metadata": {},
   "outputs": [
    {
     "name": "stdout",
     "output_type": "stream",
     "text": [
      "['2024.05.17', 'Institutional Investor誌の「All-Japan Executive Team Ranking」(ベストIR企業ランキング) の「Most Honored Company」に9年連続で選定', 'https://www.tel.co.jp/news/ir/2024/20240517_001.html']\n",
      "['2024.05.17', 'ITF World2024', 'https://www.tel.co.jp/news/event/2024/20240517_001.html']\n",
      "['2024.05.10', '自己株式の取得に係る事項の決定に関するお知らせ', 'https://www.tel.co.jp/news/ir/2024/r1apfs00000000mh-att/20240510_003.pdf']\n",
      "['2024.05.10', '株式報酬として新株予約権を発行する件', 'https://www.tel.co.jp/news/ir/2024/r1apfs00000000kn-att/20240510_002.pdf']\n",
      "['2024.05.10', '剰余金の配当（2024年3月期期末配当）に関するお知らせ', 'https://www.tel.co.jp/news/ir/2024/r1apfs00000000g0-att/20240510_001.pdf']\n",
      "['2024.05.10', '2024年3月期 決算発表', 'https://www.tel.co.jp/ir/library/report/index.html']\n",
      "['2024.04.23', '「SX銘柄 2024」に選定', 'https://www.tel.co.jp/news/sustainability/2024/20240423_001.html']\n",
      "['2024.04.03', '台湾東部を震源として発生した地震について', 'https://www.tel.co.jp/news/disaster/2024/20240403_001.html']\n",
      "['2024.04.02', '「健康経営優良法人2024」の上位500法人に認定', 'https://www.tel.co.jp/news/topics/2024/20240402_001.html']\n",
      "['2024.04.02', 'TI社より「Texas Instruments 2023 Supplier Excellence Award」を受賞', 'https://www.tel.co.jp/news/topics/2024/20240402_002.html']\n",
      "['2024.04.01', 'インテル コーポレーションの2024年EPIC Outstanding Supplier Awardとサステナビリティ賞を受賞', 'https://www.tel.co.jp/news/topics/2024/20240401_001.html']\n",
      "['2024.03.27', '役員人事内定に関するお知らせ', 'https://www.tel.co.jp/news/ir/2024/pmpo2j00000000cw-att/20240327_001.pdf']\n",
      "['2024.03.19', '第３回 E-COMPASS説明会「TEL E-COMPASS Day」を開催', 'https://www.tel.co.jp/news/topics/2024/20240319_001.html']\n",
      "['2024.03.18', '人事異動に関するお知らせ', 'https://www.tel.co.jp/news/ir/2024/20240318_001.html']\n",
      "['2024.03.11', 'SPIE Advanced Lithography + Patterning 2024', 'https://www.tel.co.jp/news/event/2024/20240311_001.html']\n",
      "['2024.03.07', '「第3回日経統合報告書アワード」において「優秀賞」を受賞', 'https://www.tel.co.jp/news/sustainability/2024/20240307_001.html']\n",
      "['2024.03.07', '「Clarivate Top 100 グローバル・イノベーター 2024」を受賞', 'https://www.tel.co.jp/news/topics/2024/20240307_001.html']\n",
      "['2024.03.01', '組織変更および人事異動に関するお知らせ', 'https://www.tel.co.jp/news/ir/2024/20240301_001.html']\n",
      "['2024.03.01', 'GPIFの国内株式運用機関が選ぶ「優れた統合報告書」に選定', 'https://www.tel.co.jp/news/sustainability/2024/20240301_001.html']\n",
      "['2024.02.09', '業績予想及び配当予想の修正に関するお知らせ', 'https://www.tel.co.jp/news/ir/2024/e2prha00000000et-att/20240209_002.pdf']\n"
     ]
    }
   ],
   "source": [
    "parser.feed(response.text)\n",
    "parser.close()\n",
    "\n",
    "for line in parser.result:\n",
    "    print(line)"
   ]
  },
  {
   "cell_type": "code",
   "execution_count": null,
   "id": "66e98be6-f263-4753-9c00-7918006cb06e",
   "metadata": {},
   "outputs": [],
   "source": []
  }
 ],
 "metadata": {
  "kernelspec": {
   "display_name": "Python 3 (ipykernel)",
   "language": "python",
   "name": "python3"
  },
  "language_info": {
   "codemirror_mode": {
    "name": "ipython",
    "version": 3
   },
   "file_extension": ".py",
   "mimetype": "text/x-python",
   "name": "python",
   "nbconvert_exporter": "python",
   "pygments_lexer": "ipython3",
   "version": "3.12.1"
  }
 },
 "nbformat": 4,
 "nbformat_minor": 5
}
