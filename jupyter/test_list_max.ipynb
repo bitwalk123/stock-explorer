{
 "cells": [
  {
   "cell_type": "code",
   "execution_count": 1,
   "id": "a333f419-56bb-4b6a-9027-900607563460",
   "metadata": {},
   "outputs": [],
   "source": [
    "class MyObject:\n",
    "    def __init__(self, x: float):\n",
    "        self.x = x"
   ]
  },
  {
   "cell_type": "code",
   "execution_count": 4,
   "id": "f47f57ef-51e6-4bf1-9a63-3ac152254a2f",
   "metadata": {},
   "outputs": [
    {
     "data": {
      "text/plain": [
       "[2.0, 3.0, 1.0]"
      ]
     },
     "execution_count": 4,
     "metadata": {},
     "output_type": "execute_result"
    }
   ],
   "source": [
    "obj_list = list()\n",
    "obj_list.append(MyObject(2.0))\n",
    "obj_list.append(MyObject(3.0))\n",
    "obj_list.append(MyObject(1.0))\n",
    "[obj.x for obj in obj_list]"
   ]
  },
  {
   "cell_type": "code",
   "execution_count": 5,
   "id": "fd78a54b-5e74-41d1-ab72-1dbaed18583d",
   "metadata": {},
   "outputs": [
    {
     "data": {
      "text/plain": [
       "3.0"
      ]
     },
     "execution_count": 5,
     "metadata": {},
     "output_type": "execute_result"
    }
   ],
   "source": [
    "obj = max(obj_list, key=lambda obj: obj.x)\n",
    "obj.x"
   ]
  },
  {
   "cell_type": "code",
   "execution_count": null,
   "id": "c62fb7b8-19c2-4bfb-a9d8-dcfeee442dd2",
   "metadata": {},
   "outputs": [],
   "source": []
  }
 ],
 "metadata": {
  "kernelspec": {
   "display_name": "Python 3 (ipykernel)",
   "language": "python",
   "name": "python3"
  },
  "language_info": {
   "codemirror_mode": {
    "name": "ipython",
    "version": 3
   },
   "file_extension": ".py",
   "mimetype": "text/x-python",
   "name": "python",
   "nbconvert_exporter": "python",
   "pygments_lexer": "ipython3",
   "version": "3.12.1"
  }
 },
 "nbformat": 4,
 "nbformat_minor": 5
}
