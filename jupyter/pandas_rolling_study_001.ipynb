{
 "cells": [
  {
   "cell_type": "markdown",
   "id": "89e1131d-2943-4f04-b2a9-722235ee0947",
   "metadata": {},
   "source": [
    "Reference:\n",
    "https://note.nkmk.me/python-pandas-rolling/"
   ]
  },
  {
   "cell_type": "code",
   "execution_count": 1,
   "id": "1e9ceb3c-5af6-4489-88d2-c7357b1317ac",
   "metadata": {},
   "outputs": [],
   "source": [
    "import pandas as pd"
   ]
  },
  {
   "cell_type": "markdown",
   "id": "215b153f-7e5a-4200-9dd6-1f889633b7f2",
   "metadata": {},
   "source": [
    "## rolling()の基本的な使い方\n",
    "\n",
    "以下のpandas.Seriesを例とする。"
   ]
  },
  {
   "cell_type": "code",
   "execution_count": 11,
   "id": "4fbd2619-c450-43db-aeb8-f7c333bc3bf6",
   "metadata": {},
   "outputs": [
    {
     "name": "stdout",
     "output_type": "stream",
     "text": [
      "0    0\n",
      "1    1\n",
      "2    2\n",
      "3    3\n",
      "4    4\n",
      "5    5\n",
      "6    6\n",
      "7    7\n",
      "8    8\n",
      "9    9\n",
      "dtype: int64\n"
     ]
    }
   ],
   "source": [
    "s = pd.Series(range(10))\n",
    "print(s)"
   ]
  },
  {
   "cell_type": "markdown",
   "id": "39391d93-73b0-41eb-907c-d103e82367b7",
   "metadata": {},
   "source": [
    "rolling()メソッドを呼んでも何か値が算出されるわけではなく、window.Rolling型のオブジェクトが返される。"
   ]
  },
  {
   "cell_type": "code",
   "execution_count": 6,
   "id": "9f3c5a85-ffc1-4633-943f-a53246200c71",
   "metadata": {},
   "outputs": [
    {
     "name": "stdout",
     "output_type": "stream",
     "text": [
      "Rolling [window=3,center=False,axis=0,method=single]\n",
      "<class 'pandas.core.window.rolling.Rolling'>\n"
     ]
    }
   ],
   "source": [
    "print(s.rolling(3))\n",
    "print(type(s.rolling(3)))"
   ]
  },
  {
   "cell_type": "markdown",
   "id": "b0eac1a1-9f48-4b70-887e-372c7a7904ff",
   "metadata": {},
   "source": [
    "さらにメソッドを実行する必要がある。"
   ]
  },
  {
   "cell_type": "code",
   "execution_count": 7,
   "id": "ea2ccc44-771d-4a4c-89ad-ff5264d7e2d4",
   "metadata": {},
   "outputs": [
    {
     "name": "stdout",
     "output_type": "stream",
     "text": [
      "0     NaN\n",
      "1     NaN\n",
      "2     3.0\n",
      "3     6.0\n",
      "4     9.0\n",
      "5    12.0\n",
      "6    15.0\n",
      "7    18.0\n",
      "8    21.0\n",
      "9    24.0\n",
      "dtype: float64\n"
     ]
    }
   ],
   "source": [
    "print(s.rolling(3).sum())"
   ]
  },
  {
   "cell_type": "markdown",
   "id": "bb1b34df-c3c5-4bd3-a000-e46eb91070da",
   "metadata": {},
   "source": [
    "## Windowの幅を指定: 引数window\n",
    "\n",
    "Windowの幅は第一引数windowに指定する。省略不可。"
   ]
  },
  {
   "cell_type": "code",
   "execution_count": 8,
   "id": "69aa313b-16f0-452d-9966-7c5883a94c83",
   "metadata": {},
   "outputs": [
    {
     "name": "stdout",
     "output_type": "stream",
     "text": [
      "0     NaN\n",
      "1     1.0\n",
      "2     3.0\n",
      "3     5.0\n",
      "4     7.0\n",
      "5     9.0\n",
      "6    11.0\n",
      "7    13.0\n",
      "8    15.0\n",
      "9    17.0\n",
      "dtype: float64\n"
     ]
    }
   ],
   "source": [
    "print(s.rolling(2).sum())"
   ]
  },
  {
   "cell_type": "code",
   "execution_count": 9,
   "id": "662b9223-c324-47b2-93a6-7317ada14ea4",
   "metadata": {},
   "outputs": [
    {
     "name": "stdout",
     "output_type": "stream",
     "text": [
      "0     NaN\n",
      "1     NaN\n",
      "2     NaN\n",
      "3     6.0\n",
      "4    10.0\n",
      "5    14.0\n",
      "6    18.0\n",
      "7    22.0\n",
      "8    26.0\n",
      "9    30.0\n",
      "dtype: float64\n"
     ]
    }
   ],
   "source": [
    "print(s.rolling(4).sum())"
   ]
  },
  {
   "cell_type": "markdown",
   "id": "0d6b0d2f-753f-4624-85b4-786feaa02772",
   "metadata": {},
   "source": [
    "時系列データについては特殊な指定方法がある。後述。"
   ]
  },
  {
   "cell_type": "markdown",
   "id": "4cea8079-1403-4a7d-836a-6500c49587c4",
   "metadata": {},
   "source": [
    "## Windowの中心に結果の値を格納する: 引数center\n",
    "\n",
    "これまでの例のように、デフォルトではWindowの最後の位置に算出されたデータが格納される。\n",
    "\n",
    "引数center=Trueとすると、Windowの中心位置に算出されたデータが格納される。先頭と末尾のデータが足りない分は欠損値NaNとなる。"
   ]
  },
  {
   "cell_type": "code",
   "execution_count": 10,
   "id": "e3ec9c84-b28d-4984-ba36-b66628a7ebca",
   "metadata": {},
   "outputs": [
    {
     "name": "stdout",
     "output_type": "stream",
     "text": [
      "0     NaN\n",
      "1     3.0\n",
      "2     6.0\n",
      "3     9.0\n",
      "4    12.0\n",
      "5    15.0\n",
      "6    18.0\n",
      "7    21.0\n",
      "8    24.0\n",
      "9     NaN\n",
      "dtype: float64\n"
     ]
    }
   ],
   "source": [
    "print(s.rolling(3, center=True).sum())"
   ]
  },
  {
   "cell_type": "markdown",
   "id": "86406e50-f0d3-4b41-b4a5-e645623b4f49",
   "metadata": {},
   "source": [
    "## 最小データ個数を指定: 引数min_periods\n",
    "\n",
    "これまでの例のように、デフォルトではWindowに含まれるデータ個数が第一引数windowに満たない位置の結果は欠損値NaNとなる。\n",
    "\n",
    "引数min_periodsに整数値を指定すると、その値の個数のデータが含まれていれば結果が算出される。\n",
    "\n",
    "デフォルトでは上端のデータがNaNとなるが、min_periodsに小さい値を指定すると少ない個数のデータで結果が算出される。"
   ]
  },
  {
   "cell_type": "code",
   "execution_count": 12,
   "id": "44e9f900-d12a-438e-b27c-b17161e45902",
   "metadata": {},
   "outputs": [
    {
     "name": "stdout",
     "output_type": "stream",
     "text": [
      "0     NaN\n",
      "1     1.0\n",
      "2     3.0\n",
      "3     6.0\n",
      "4     9.0\n",
      "5    12.0\n",
      "6    15.0\n",
      "7    18.0\n",
      "8    21.0\n",
      "9    24.0\n",
      "dtype: float64\n"
     ]
    }
   ],
   "source": [
    "print(s.rolling(3, min_periods=2).sum())"
   ]
  },
  {
   "cell_type": "code",
   "execution_count": 13,
   "id": "f29c552a-9b7f-446c-a052-818b72c6b658",
   "metadata": {},
   "outputs": [
    {
     "name": "stdout",
     "output_type": "stream",
     "text": [
      "0     0.0\n",
      "1     1.0\n",
      "2     3.0\n",
      "3     6.0\n",
      "4     9.0\n",
      "5    12.0\n",
      "6    15.0\n",
      "7    18.0\n",
      "8    21.0\n",
      "9    24.0\n",
      "dtype: float64\n"
     ]
    }
   ],
   "source": [
    "print(s.rolling(3, min_periods=1).sum())"
   ]
  },
  {
   "cell_type": "markdown",
   "id": "0ca216ac-ff07-43f6-b0b5-37a545be6aa6",
   "metadata": {},
   "source": [
    "## 窓関数の種類を指定: 引数win_type\n",
    "\n",
    "窓関数の種類は引数win_typeで指定する。デフォルトは矩形窓で、Window内の全てのデータ点が一様に扱われる（全てのデータ点に対する重みが1）。"
   ]
  },
  {
   "cell_type": "markdown",
   "id": "46879bb0-6232-4430-b403-317f4ca43599",
   "metadata": {},
   "source": [
    "## 列方向に窓関数を適用: 引数axis\n",
    "\n",
    "これまでの例はpandas.Seriesだったがpandas.DataFrameでも同様。\n",
    "\n",
    "デフォルトでは列に対して、引数axis=1とすると行に対して窓関数が適用される。"
   ]
  },
  {
   "cell_type": "code",
   "execution_count": 14,
   "id": "337c0592-9735-4aa4-a1da-1c62073a03ad",
   "metadata": {},
   "outputs": [
    {
     "name": "stdout",
     "output_type": "stream",
     "text": [
      "      a     b     c     d\n",
      "0   NaN   NaN   NaN   NaN\n",
      "1   1.0  19.0  21.0  39.0\n",
      "2   3.0  17.0  23.0  37.0\n",
      "3   5.0  15.0  25.0  35.0\n",
      "4   7.0  13.0  27.0  33.0\n",
      "5   9.0  11.0  29.0  31.0\n",
      "6  11.0   9.0  31.0  29.0\n",
      "7  13.0   7.0  33.0  27.0\n",
      "8  15.0   5.0  35.0  25.0\n",
      "9  17.0   3.0  37.0  23.0\n"
     ]
    }
   ],
   "source": [
    "df = pd.DataFrame({\n",
    "    'a': range(10),\n",
    "    'b': range(10, 0, -1),\n",
    "    'c': range(10, 20),\n",
    "    'd': range(20, 10, -1)\n",
    "})\n",
    "print(df.rolling(2).sum())"
   ]
  },
  {
   "cell_type": "code",
   "execution_count": 15,
   "id": "e92d0522-f779-4f05-b45a-c186381e09a9",
   "metadata": {},
   "outputs": [
    {
     "name": "stdout",
     "output_type": "stream",
     "text": [
      "    a     b     c     d\n",
      "0 NaN  10.0  20.0  30.0\n",
      "1 NaN  10.0  20.0  30.0\n",
      "2 NaN  10.0  20.0  30.0\n",
      "3 NaN  10.0  20.0  30.0\n",
      "4 NaN  10.0  20.0  30.0\n",
      "5 NaN  10.0  20.0  30.0\n",
      "6 NaN  10.0  20.0  30.0\n",
      "7 NaN  10.0  20.0  30.0\n",
      "8 NaN  10.0  20.0  30.0\n",
      "9 NaN  10.0  20.0  30.0\n"
     ]
    },
    {
     "name": "stderr",
     "output_type": "stream",
     "text": [
      "/tmp/ipykernel_26886/3057499630.py:1: FutureWarning: Support for axis=1 in DataFrame.rolling is deprecated and will be removed in a future version. Use obj.T.rolling(...) instead\n",
      "  print(df.rolling(2, axis=1).sum())\n"
     ]
    }
   ],
   "source": [
    "print(df.rolling(2, axis=1).sum())"
   ]
  },
  {
   "cell_type": "markdown",
   "id": "b7edde84-8995-4035-9389-6a34d2b2564f",
   "metadata": {},
   "source": [
    "## window.Rolling型に適用できるメソッド\n",
    "\n",
    "平均値mean(), 中央値median(), 最小値min(), 最大値max()、標準偏差std()などがある。\n",
    "\n",
    "移動平均を算出したい場合はmean()。"
   ]
  },
  {
   "cell_type": "code",
   "execution_count": 16,
   "id": "9d18e44b-4de5-4abf-8f6a-f638a8f3712a",
   "metadata": {},
   "outputs": [
    {
     "name": "stdout",
     "output_type": "stream",
     "text": [
      "0    NaN\n",
      "1    NaN\n",
      "2    1.0\n",
      "3    2.0\n",
      "4    3.0\n",
      "5    4.0\n",
      "6    5.0\n",
      "7    6.0\n",
      "8    7.0\n",
      "9    8.0\n",
      "dtype: float64\n"
     ]
    }
   ],
   "source": [
    "print(s.rolling(3).mean())"
   ]
  },
  {
   "cell_type": "markdown",
   "id": "116b51e1-5dd8-466d-b731-691e344daa5f",
   "metadata": {},
   "source": [
    "agg()で複数の処理を同時に適用することもできる。agg()はaggregate()のエイリアス。どちらを使ってもよい。\n",
    "\n",
    "リストで複数の処理を指定する。\n",
    "\n",
    "各処理は、上記のwindow.Rolling型のメソッド名を文字列で指定できるほか、呼び出し可能オブジェクトを指定することも可能。呼び出し可能オブジェクトとしては、組み込み関数やNumPyの関数、defで定義した関数やラムダ関数を指定できる。"
   ]
  },
  {
   "cell_type": "code",
   "execution_count": 17,
   "id": "34027dcf-d444-4301-93fe-fc3f431e3d74",
   "metadata": {},
   "outputs": [
    {
     "name": "stdout",
     "output_type": "stream",
     "text": [
      "    sum  mean          skew  cov  max  min  <lambda>\n",
      "0   NaN   NaN           NaN  NaN  NaN  NaN       NaN\n",
      "1   NaN   NaN           NaN  NaN  NaN  NaN       NaN\n",
      "2   3.0   1.0  6.394885e-14  1.0  2.0  0.0       2.0\n",
      "3   6.0   2.0 -2.398082e-14  1.0  3.0  1.0       2.0\n",
      "4   9.0   3.0  7.993606e-15  1.0  4.0  2.0       2.0\n",
      "5  12.0   4.0  0.000000e+00  1.0  5.0  3.0       2.0\n",
      "6  15.0   5.0  0.000000e+00  1.0  6.0  4.0       2.0\n",
      "7  18.0   6.0  0.000000e+00  1.0  7.0  5.0       2.0\n",
      "8  21.0   7.0 -7.993606e-15  1.0  8.0  6.0       2.0\n",
      "9  24.0   8.0  2.398082e-14  1.0  9.0  7.0       2.0\n"
     ]
    },
    {
     "name": "stderr",
     "output_type": "stream",
     "text": [
      "/tmp/ipykernel_26886/718796129.py:1: FutureWarning: The provided callable <built-in function max> is currently using Rolling.max. In a future version of pandas, the provided callable will be used directly. To keep current behavior pass the string \"max\" instead.\n",
      "  print(s.rolling(3).agg(['sum', 'mean', 'skew', 'cov',\n",
      "/tmp/ipykernel_26886/718796129.py:1: FutureWarning: The provided callable <built-in function min> is currently using Rolling.min. In a future version of pandas, the provided callable will be used directly. To keep current behavior pass the string \"min\" instead.\n",
      "  print(s.rolling(3).agg(['sum', 'mean', 'skew', 'cov',\n"
     ]
    }
   ],
   "source": [
    "print(s.rolling(3).agg(['sum', 'mean', 'skew', 'cov',\n",
    "                        max, min,\n",
    "                        lambda x: max(x) - min(x)]))"
   ]
  },
  {
   "cell_type": "markdown",
   "id": "b955e508-275b-45a2-97d5-b4ece9ac503b",
   "metadata": {},
   "source": [
    "## 時系列データにおけるrolling()とresample()\n",
    "\n",
    "以下のような隔日の時系列データを例とする。"
   ]
  },
  {
   "cell_type": "code",
   "execution_count": 18,
   "id": "fea9ffa1-742e-4310-892d-8cf4667f1eeb",
   "metadata": {},
   "outputs": [
    {
     "name": "stdout",
     "output_type": "stream",
     "text": [
      "            value\n",
      "2018-01-01      1\n",
      "2018-01-03      3\n",
      "2018-01-05      5\n",
      "2018-01-07      7\n",
      "2018-01-09      9\n",
      "2018-01-11     11\n",
      "2018-01-13     13\n",
      "2018-01-15     15\n",
      "2018-01-17     17\n",
      "2018-01-19     19\n",
      "2018-01-21     21\n",
      "2018-01-23     23\n",
      "2018-01-25     25\n",
      "2018-01-27     27\n",
      "2018-01-29     29\n",
      "2018-01-31     31\n"
     ]
    }
   ],
   "source": [
    "import pandas as pd\n",
    "\n",
    "df = pd.DataFrame(\n",
    "    {\n",
    "        'value': range(1, 32, 2)\n",
    "    },\n",
    "    index=pd.date_range('2018-01-01', '2018-01-31', freq='2D')\n",
    ")\n",
    "\n",
    "print(df)"
   ]
  },
  {
   "cell_type": "markdown",
   "id": "8ec7eeac-d976-43de-8648-78e1b9c9ddcf",
   "metadata": {},
   "source": [
    "## 時系列データだけの特徴\n",
    "\n",
    "第一引数windowに数値を指定すると以下のようになる。これまで通り。"
   ]
  },
  {
   "cell_type": "code",
   "execution_count": 19,
   "id": "0d3e1854-4d1a-4392-a585-54e8768ff88a",
   "metadata": {},
   "outputs": [
    {
     "name": "stdout",
     "output_type": "stream",
     "text": [
      "            value\n",
      "2018-01-01    NaN\n",
      "2018-01-03    NaN\n",
      "2018-01-05    NaN\n",
      "2018-01-07    NaN\n",
      "2018-01-09    5.0\n",
      "2018-01-11    7.0\n",
      "2018-01-13    9.0\n",
      "2018-01-15   11.0\n",
      "2018-01-17   13.0\n",
      "2018-01-19   15.0\n",
      "2018-01-21   17.0\n",
      "2018-01-23   19.0\n",
      "2018-01-25   21.0\n",
      "2018-01-27   23.0\n",
      "2018-01-29   25.0\n",
      "2018-01-31   27.0\n"
     ]
    }
   ],
   "source": [
    "print(df.rolling(5).mean())"
   ]
  },
  {
   "cell_type": "markdown",
   "id": "97c11eda-7b4e-4e33-926c-e331dae74009",
   "metadata": {},
   "source": [
    "時系列データの場合、第一引数windowにはD（日）、H（時）などのように頻度コードを文字列で指定することもできる。頻度コードについては以下の記事を参照。\n",
    "\n",
    "'5D'（5日間）を指定すると以下のようになる。"
   ]
  },
  {
   "cell_type": "code",
   "execution_count": 20,
   "id": "beef8460-8abe-4be4-a9a1-7941b35a63ef",
   "metadata": {},
   "outputs": [
    {
     "name": "stdout",
     "output_type": "stream",
     "text": [
      "            value\n",
      "2018-01-01    1.0\n",
      "2018-01-03    2.0\n",
      "2018-01-05    3.0\n",
      "2018-01-07    5.0\n",
      "2018-01-09    7.0\n",
      "2018-01-11    9.0\n",
      "2018-01-13   11.0\n",
      "2018-01-15   13.0\n",
      "2018-01-17   15.0\n",
      "2018-01-19   17.0\n",
      "2018-01-21   19.0\n",
      "2018-01-23   21.0\n",
      "2018-01-25   23.0\n",
      "2018-01-27   25.0\n",
      "2018-01-29   27.0\n",
      "2018-01-31   29.0\n"
     ]
    }
   ],
   "source": [
    "print(df.rolling('5D').mean())"
   ]
  },
  {
   "cell_type": "markdown",
   "id": "4a2f96f8-df00-4f4e-bd85-e180426b9f44",
   "metadata": {},
   "source": [
    "windowを頻度コードで指定した場合の結果の違いは2つ。\n",
    "\n",
    "1. 引数min_periods=1がデフォルトとなる\n",
    "2. インデックスの日時を考慮してデータが選択される\n",
    "\n",
    "2について2018-01-31の結果を例とすると、\n",
    "\n",
    "- 数値5で指定した場合\n",
    "    - 2018-01-23から2018-01-31までの5個分のデータで算出\n",
    "- 頻度コード'5D'で指定した場合\n",
    "    - 2018-01-27から2018-01-31までの5日分のデータで算出（データの個数としては3個）\n",
    "\n",
    "となる。"
   ]
  },
  {
   "cell_type": "markdown",
   "id": "44ee735a-ced6-4816-b7d6-b4b5764a8647",
   "metadata": {},
   "source": [
    "## rolling()とresample()の違い\n",
    "\n",
    "時系列データに対して任意の範囲のデータを集約するメソッドにresample()がある。\n",
    "\n",
    "rolling()とresample()の結果の違いは以下の通り。"
   ]
  },
  {
   "cell_type": "code",
   "execution_count": 21,
   "id": "bd154169-0e1f-4bde-9435-9e3a0fb7d7d9",
   "metadata": {},
   "outputs": [
    {
     "name": "stdout",
     "output_type": "stream",
     "text": [
      "            value\n",
      "2018-01-01    1.0\n",
      "2018-01-03    2.0\n",
      "2018-01-05    3.0\n",
      "2018-01-07    5.0\n",
      "2018-01-09    7.0\n",
      "2018-01-11    9.0\n",
      "2018-01-13   11.0\n",
      "2018-01-15   13.0\n",
      "2018-01-17   15.0\n",
      "2018-01-19   17.0\n",
      "2018-01-21   19.0\n",
      "2018-01-23   21.0\n",
      "2018-01-25   23.0\n",
      "2018-01-27   25.0\n",
      "2018-01-29   27.0\n",
      "2018-01-31   29.0\n"
     ]
    }
   ],
   "source": [
    "print(df.rolling('5D').mean())"
   ]
  },
  {
   "cell_type": "code",
   "execution_count": 22,
   "id": "540cb2d3-0431-49d3-86d4-38c0b32c95cb",
   "metadata": {},
   "outputs": [
    {
     "name": "stdout",
     "output_type": "stream",
     "text": [
      "            value\n",
      "2018-01-01    3.0\n",
      "2018-01-06    8.0\n",
      "2018-01-11   13.0\n",
      "2018-01-16   18.0\n",
      "2018-01-21   23.0\n",
      "2018-01-26   28.0\n",
      "2018-01-31   31.0\n"
     ]
    }
   ],
   "source": [
    "print(df.resample('5D').mean())"
   ]
  },
  {
   "cell_type": "markdown",
   "id": "0e542123-6f91-4dea-971f-2d95f8d17561",
   "metadata": {},
   "source": [
    "元のデータ点ごとに指定範囲の統計量を算出するのがrolling()で、指定範囲ごとにデータを集約するのがresample()。\n",
    "\n",
    "resample()はその名の通りリサンプリングに使われる。"
   ]
  },
  {
   "cell_type": "code",
   "execution_count": null,
   "id": "4e686c32-7298-4546-b902-6d22a3dcccef",
   "metadata": {},
   "outputs": [],
   "source": []
  }
 ],
 "metadata": {
  "kernelspec": {
   "display_name": "Python 3 (ipykernel)",
   "language": "python",
   "name": "python3"
  },
  "language_info": {
   "codemirror_mode": {
    "name": "ipython",
    "version": 3
   },
   "file_extension": ".py",
   "mimetype": "text/x-python",
   "name": "python",
   "nbconvert_exporter": "python",
   "pygments_lexer": "ipython3",
   "version": "3.12.1"
  }
 },
 "nbformat": 4,
 "nbformat_minor": 5
}
