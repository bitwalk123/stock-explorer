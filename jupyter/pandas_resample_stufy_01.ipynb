{
 "cells": [
  {
   "cell_type": "markdown",
   "id": "16a1f2b7-b031-4f4f-a015-5120498ce846",
   "metadata": {},
   "source": [
    "Reference:\n",
    "https://note.nkmk.me/python-pandas-time-series-resample-asfreq/"
   ]
  },
  {
   "cell_type": "code",
   "execution_count": 1,
   "id": "6e07d572-17d1-45a7-8f89-9bc49bf4f8c4",
   "metadata": {},
   "outputs": [],
   "source": [
    "import pandas as pd"
   ]
  },
  {
   "cell_type": "markdown",
   "id": "36d69683-ce5d-44fe-877e-e61f0157de32",
   "metadata": {},
   "source": [
    "## asfreq()の使い方\n",
    "\n",
    "以下の2日おきのデータを例とする。"
   ]
  },
  {
   "cell_type": "code",
   "execution_count": 2,
   "id": "2c57eca6-9727-4228-866e-4504606c7c95",
   "metadata": {},
   "outputs": [
    {
     "name": "stdout",
     "output_type": "stream",
     "text": [
      "            value\n",
      "2018-08-01      1\n",
      "2018-08-03      3\n",
      "2018-08-05      5\n",
      "2018-08-07      7\n",
      "2018-08-09      9\n",
      "2018-08-11     11\n",
      "2018-08-13     13\n",
      "2018-08-15     15\n",
      "2018-08-17     17\n",
      "2018-08-19     19\n",
      "2018-08-21     21\n",
      "2018-08-23     23\n",
      "2018-08-25     25\n",
      "2018-08-27     27\n",
      "2018-08-29     29\n",
      "2018-08-31     31\n"
     ]
    }
   ],
   "source": [
    "df = pd.DataFrame(\n",
    "    {'value': range(1, 32, 2)},\n",
    "    index=pd.date_range('2018-08-01', '2018-08-31', freq='2D')\n",
    ")\n",
    "print(df)"
   ]
  },
  {
   "cell_type": "markdown",
   "id": "954cf27b-3bab-4af7-9462-bcc9b709b63d",
   "metadata": {},
   "source": [
    "## 基本的な使い方\n",
    "\n",
    "asfreq()の第一引数freqにはD（日次）、W（週次）などの頻度コードを指定する。\n",
    "\n",
    "上述のようにasfreq()はデータの選択なので、元のデータに無い日時の値は欠損値NaNとなる。"
   ]
  },
  {
   "cell_type": "code",
   "execution_count": 3,
   "id": "4e966af6-3690-4c56-91f3-4c7569a526f2",
   "metadata": {},
   "outputs": [
    {
     "name": "stdout",
     "output_type": "stream",
     "text": [
      "            value\n",
      "2018-08-01      1\n",
      "2018-08-11     11\n",
      "2018-08-21     21\n",
      "2018-08-31     31\n"
     ]
    }
   ],
   "source": [
    "print(df.asfreq('10D'))"
   ]
  },
  {
   "cell_type": "code",
   "execution_count": 4,
   "id": "72c6fcea-40a3-4615-bfad-ecdfa37b4634",
   "metadata": {},
   "outputs": [
    {
     "name": "stdout",
     "output_type": "stream",
     "text": [
      "            value\n",
      "2018-08-01    1.0\n",
      "2018-08-06    NaN\n",
      "2018-08-11   11.0\n",
      "2018-08-16    NaN\n",
      "2018-08-21   21.0\n",
      "2018-08-26    NaN\n",
      "2018-08-31   31.0\n"
     ]
    }
   ],
   "source": [
    "print(df.asfreq('5D'))"
   ]
  },
  {
   "cell_type": "code",
   "execution_count": 5,
   "id": "abf10782-2f55-4baf-b1f7-b386fee410b2",
   "metadata": {},
   "outputs": [
    {
     "name": "stdout",
     "output_type": "stream",
     "text": [
      "            value\n",
      "2018-08-05    5.0\n",
      "2018-08-12    NaN\n",
      "2018-08-19   19.0\n",
      "2018-08-26    NaN\n"
     ]
    }
   ],
   "source": [
    "print(df.asfreq('W'))"
   ]
  },
  {
   "cell_type": "code",
   "execution_count": 6,
   "id": "5d6677bd-78d5-4bbf-b8e4-3176ab76bb8c",
   "metadata": {},
   "outputs": [
    {
     "name": "stdout",
     "output_type": "stream",
     "text": [
      "            value\n",
      "2018-08-01    1.0\n",
      "2018-08-08    NaN\n",
      "2018-08-15   15.0\n",
      "2018-08-22    NaN\n",
      "2018-08-29   29.0\n"
     ]
    }
   ],
   "source": [
    "print(df.asfreq('W-WED'))"
   ]
  },
  {
   "cell_type": "markdown",
   "id": "229e90e7-edc4-4d39-b947-f1d90264ff99",
   "metadata": {},
   "source": [
    "以下、元のデータに無い日時の値の穴埋め方法について説明する。asfreq()でできるのは任意の値や前後の値をそのまま使った単純な穴埋め。前後の値を使った線形補間などはresample()を使う。後述。"
   ]
  },
  {
   "cell_type": "markdown",
   "id": "abf398dd-4c69-42af-891a-544ecc4823d8",
   "metadata": {},
   "source": [
    "## 元データに無い場合に任意の値で穴埋め: 引数fill_value\n",
    "\n",
    "元のデータに無い日時の値を任意の値で穴埋めするには引数fill_valueを指定する。"
   ]
  },
  {
   "cell_type": "code",
   "execution_count": 7,
   "id": "dc1873a2-62de-46c2-916f-614511db169c",
   "metadata": {},
   "outputs": [
    {
     "name": "stdout",
     "output_type": "stream",
     "text": [
      "            value\n",
      "2018-08-05      5\n",
      "2018-08-12      0\n",
      "2018-08-19     19\n",
      "2018-08-26      0\n"
     ]
    }
   ],
   "source": [
    "print(df.asfreq('W', fill_value=0))"
   ]
  },
  {
   "cell_type": "markdown",
   "id": "211d7194-9baf-4ce5-b4d9-87f4e2748f1e",
   "metadata": {},
   "source": [
    "## 元データに無い場合に前後の値で穴埋め: 引数method\n",
    "\n",
    "元のデータに無い日時の値を前後の値で穴埋めするには引数methodを指定する。\n",
    "\n",
    "method=padまたはmethod=ffillで前の値で穴埋め、method=backfillまたはmethod=bfillで後ろの値で穴埋めとなる。"
   ]
  },
  {
   "cell_type": "code",
   "execution_count": 8,
   "id": "0486d855-6195-4031-8d1e-4c6fdce6551c",
   "metadata": {},
   "outputs": [
    {
     "name": "stdout",
     "output_type": "stream",
     "text": [
      "            value\n",
      "2018-08-05      5\n",
      "2018-08-12     11\n",
      "2018-08-19     19\n",
      "2018-08-26     25\n"
     ]
    }
   ],
   "source": [
    "print(df.asfreq('W', method='pad'))"
   ]
  },
  {
   "cell_type": "code",
   "execution_count": 9,
   "id": "5f59b7ab-0276-494c-b756-5b1e7f9f918c",
   "metadata": {},
   "outputs": [
    {
     "name": "stdout",
     "output_type": "stream",
     "text": [
      "            value\n",
      "2018-08-05      5\n",
      "2018-08-12     11\n",
      "2018-08-19     19\n",
      "2018-08-26     25\n"
     ]
    }
   ],
   "source": [
    "print(df.asfreq('W', method='ffill'))"
   ]
  },
  {
   "cell_type": "code",
   "execution_count": 10,
   "id": "0a4c308e-001a-4f7a-9087-1fc44289e2b6",
   "metadata": {},
   "outputs": [
    {
     "name": "stdout",
     "output_type": "stream",
     "text": [
      "            value\n",
      "2018-08-05      5\n",
      "2018-08-12     13\n",
      "2018-08-19     19\n",
      "2018-08-26     27\n"
     ]
    }
   ],
   "source": [
    "print(df.asfreq('W', method='backfill'))"
   ]
  },
  {
   "cell_type": "code",
   "execution_count": 11,
   "id": "217b2f96-d5ca-4c46-88ff-d39cd7ce1764",
   "metadata": {},
   "outputs": [
    {
     "name": "stdout",
     "output_type": "stream",
     "text": [
      "            value\n",
      "2018-08-05      5\n",
      "2018-08-12     13\n",
      "2018-08-19     19\n",
      "2018-08-26     27\n"
     ]
    }
   ],
   "source": [
    "print(df.asfreq('W', method='bfill'))"
   ]
  },
  {
   "cell_type": "markdown",
   "id": "f19f4ba0-c8aa-45e4-95a3-d6e0f37293bc",
   "metadata": {},
   "source": [
    "欠損値NaNが連続している場合も同様。"
   ]
  },
  {
   "cell_type": "code",
   "execution_count": 12,
   "id": "24d70565-46aa-4dcd-9aeb-06aab1bddeee",
   "metadata": {},
   "outputs": [
    {
     "name": "stdout",
     "output_type": "stream",
     "text": [
      "            value\n",
      "2018-08-01      1\n",
      "2018-08-02      4\n",
      "2018-08-03      4\n",
      "2018-08-04      4\n",
      "2018-08-05      7\n",
      "2018-08-06      7\n",
      "2018-08-07      7\n",
      "2018-08-08     10\n",
      "2018-08-09     10\n",
      "2018-08-10     10\n",
      "2018-08-11     13\n",
      "2018-08-12     13\n",
      "2018-08-13     13\n",
      "2018-08-14     16\n",
      "2018-08-15     16\n",
      "2018-08-16     16\n",
      "2018-08-17     19\n",
      "2018-08-18     19\n",
      "2018-08-19     19\n",
      "2018-08-20     22\n",
      "2018-08-21     22\n",
      "2018-08-22     22\n",
      "2018-08-23     25\n",
      "2018-08-24     25\n",
      "2018-08-25     25\n",
      "2018-08-26     28\n",
      "2018-08-27     28\n",
      "2018-08-28     28\n",
      "2018-08-29     31\n",
      "2018-08-30     31\n",
      "2018-08-31     31\n"
     ]
    }
   ],
   "source": [
    "df_3D = pd.DataFrame(\n",
    "    {'value': range(1, 32, 3)},\n",
    "    index=pd.date_range('2018-08-01', '2018-08-31', freq='3D')\n",
    ")\n",
    "\n",
    "print(df_3D.asfreq('D', method='bfill'))"
   ]
  },
  {
   "cell_type": "markdown",
   "id": "d9ddf077-eb87-436c-9e7a-a7de36d4b332",
   "metadata": {},
   "source": [
    "前後の値から線形補間などを行いたい場合はresample()を使う。後述。"
   ]
  },
  {
   "cell_type": "markdown",
   "id": "59d2bd7a-8d66-406c-ac5d-920291e77cc4",
   "metadata": {},
   "source": [
    "## 重複データがある場合\n",
    "\n",
    "以下のような同じ日付の違う時刻のデータを例とする。"
   ]
  },
  {
   "cell_type": "code",
   "execution_count": 14,
   "id": "3cbb0aac-f32b-4671-ae41-d4f33ed04d6f",
   "metadata": {},
   "outputs": [
    {
     "name": "stdout",
     "output_type": "stream",
     "text": [
      "                     value\n",
      "2018-08-01 00:00:00      0\n",
      "2018-08-01 12:00:00      1\n",
      "2018-08-02 00:00:00      2\n",
      "2018-08-02 12:00:00      3\n",
      "2018-08-03 00:00:00      4\n",
      "2018-08-03 12:00:00      5\n",
      "2018-08-04 00:00:00      6\n",
      "2018-08-04 12:00:00      7\n",
      "2018-08-05 00:00:00      8\n"
     ]
    }
   ],
   "source": [
    "df_h = pd.DataFrame(\n",
    "    {'value': range(9)},\n",
    "    index=pd.date_range('2018-08-01', '2018-08-05', freq='12h')\n",
    ")\n",
    "print(df_h)"
   ]
  },
  {
   "cell_type": "markdown",
   "id": "441168fc-a93e-40a4-8b50-a15d2f531431",
   "metadata": {},
   "source": [
    "これをasfreq()でfreq='D'（日次）としてダウンサンプリングする場合、先頭の値が選択される。"
   ]
  },
  {
   "cell_type": "code",
   "execution_count": 15,
   "id": "d2913dd3-fe21-4b4d-86ed-b74eaade2754",
   "metadata": {},
   "outputs": [
    {
     "name": "stdout",
     "output_type": "stream",
     "text": [
      "            value\n",
      "2018-08-01      0\n",
      "2018-08-02      2\n",
      "2018-08-03      4\n",
      "2018-08-04      6\n",
      "2018-08-05      8\n"
     ]
    }
   ],
   "source": [
    "print(df_h.asfreq('D'))"
   ]
  },
  {
   "cell_type": "markdown",
   "id": "b1b9a02d-be06-4914-888f-883c184017c5",
   "metadata": {},
   "source": [
    "平均値など、重複する複数のデータを集約した値を使いたい場合は次に説明するresample()を使う。"
   ]
  },
  {
   "cell_type": "code",
   "execution_count": 16,
   "id": "1b616f5e-d780-42d5-81b9-afc46d03b3e2",
   "metadata": {},
   "outputs": [
    {
     "name": "stdout",
     "output_type": "stream",
     "text": [
      "            value\n",
      "2018-08-01    0.5\n",
      "2018-08-02    2.5\n",
      "2018-08-03    4.5\n",
      "2018-08-04    6.5\n",
      "2018-08-05    8.0\n"
     ]
    }
   ],
   "source": [
    "print(df_h.resample('D').mean())"
   ]
  },
  {
   "cell_type": "markdown",
   "id": "60859357-168a-44dd-9399-a9733c5ea1d5",
   "metadata": {},
   "source": [
    "## resample()の使い方\n",
    "\n",
    "ここでも2日おきのデータを例とする。"
   ]
  },
  {
   "cell_type": "code",
   "execution_count": 17,
   "id": "21b886c6-dfc4-45c1-8585-39651facb803",
   "metadata": {},
   "outputs": [
    {
     "name": "stdout",
     "output_type": "stream",
     "text": [
      "            value\n",
      "2018-08-01      1\n",
      "2018-08-03      3\n",
      "2018-08-05      5\n",
      "2018-08-07      7\n",
      "2018-08-09      9\n",
      "2018-08-11     11\n",
      "2018-08-13     13\n",
      "2018-08-15     15\n",
      "2018-08-17     17\n",
      "2018-08-19     19\n",
      "2018-08-21     21\n",
      "2018-08-23     23\n",
      "2018-08-25     25\n",
      "2018-08-27     27\n",
      "2018-08-29     29\n",
      "2018-08-31     31\n"
     ]
    }
   ],
   "source": [
    "df = pd.DataFrame(\n",
    "    {'value': range(1, 32, 2)},\n",
    "    index=pd.date_range('2018-08-01', '2018-08-31', freq='2D'))\n",
    "\n",
    "print(df)"
   ]
  },
  {
   "cell_type": "markdown",
   "id": "c3b2f115-e077-40ad-8e83-5d14cc2b3f78",
   "metadata": {},
   "source": [
    "補間してアップサンプリングする例については後述。"
   ]
  },
  {
   "cell_type": "markdown",
   "id": "0311f61c-1f0e-4787-8d23-e36c57839361",
   "metadata": {},
   "source": [
    "## 基本的な使い方\n",
    "\n",
    "resample()の第一引数ruleにも、asfreq()と同様にD（日次）、W（週次）などの頻度コードを指定する。\n",
    "\n",
    "resample()が返すのはDatetimeIndexResampler型のオブジェクトで、それ自体をprint()で出力しても値は表示されない。"
   ]
  },
  {
   "cell_type": "code",
   "execution_count": 19,
   "id": "7d162516-6e43-4d8f-bf2d-a71f469ab1ca",
   "metadata": {},
   "outputs": [
    {
     "name": "stdout",
     "output_type": "stream",
     "text": [
      "DatetimeIndexResampler [freq=<Week: weekday=6>, axis=0, closed=right, label=right, convention=start, origin=start_day]\n",
      "<class 'pandas.core.resample.DatetimeIndexResampler'>\n"
     ]
    }
   ],
   "source": [
    "print(df.resample('W'))\n",
    "print(type(df.resample('W')))"
   ]
  },
  {
   "cell_type": "markdown",
   "id": "007b57f2-2bdb-4143-8842-8e935305a693",
   "metadata": {},
   "source": [
    "mean()（平均値）やmedian()（中央値）、sum()（合計）などのメソッドを呼ぶことで集約された値が算出される。以下は週ごとの平均などの例。"
   ]
  },
  {
   "cell_type": "code",
   "execution_count": null,
   "id": "8aa50d6b-e44a-4bc9-bcd9-f9d72948b8fb",
   "metadata": {},
   "outputs": [],
   "source": []
  }
 ],
 "metadata": {
  "kernelspec": {
   "display_name": "Python 3 (ipykernel)",
   "language": "python",
   "name": "python3"
  },
  "language_info": {
   "codemirror_mode": {
    "name": "ipython",
    "version": 3
   },
   "file_extension": ".py",
   "mimetype": "text/x-python",
   "name": "python",
   "nbconvert_exporter": "python",
   "pygments_lexer": "ipython3",
   "version": "3.12.1"
  }
 },
 "nbformat": 4,
 "nbformat_minor": 5
}
