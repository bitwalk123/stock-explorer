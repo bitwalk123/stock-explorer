{
 "cells": [
  {
   "cell_type": "code",
   "execution_count": 1,
   "id": "48b4d163-625b-4dce-a226-978df71b480e",
   "metadata": {},
   "outputs": [
    {
     "data": {
      "text/plain": [
       "'/home/bitwalk/PycharmProjects/stock-explorer'"
      ]
     },
     "execution_count": 1,
     "metadata": {},
     "output_type": "execute_result"
    }
   ],
   "source": [
    "import os\n",
    "\n",
    "os.chdir('../')\n",
    "os.getcwd()"
   ]
  },
  {
   "cell_type": "code",
   "execution_count": null,
   "id": "db66a1dd-4887-4eaf-8d90-b0b220971d74",
   "metadata": {},
   "outputs": [],
   "source": [
    "from functions.resources import get_connection\n",
    "from PySide6.QtSql import QSqlQuery\n",
    "\n",
    "con = get_connection()\n",
    "if con.open():\n",
    "    sql = 'select id_code, コード, 銘柄名 from ticker;'\n",
    "    query = QSqlQuery(sql)\n",
    "    while query.next():\n",
    "        id = query.value(0)\n",
    "        code = '%d.T' % query.value(1)\n",
    "        cname = query.value(2)\n",
    "        print(code, cname)\n",
    "    con.close()"
   ]
  },
  {
   "cell_type": "code",
   "execution_count": null,
   "id": "3029a87e-925f-42b3-bfcc-631df07e8e53",
   "metadata": {},
   "outputs": [],
   "source": []
  }
 ],
 "metadata": {
  "kernelspec": {
   "display_name": "Python 3 (ipykernel)",
   "language": "python",
   "name": "python3"
  },
  "language_info": {
   "codemirror_mode": {
    "name": "ipython",
    "version": 3
   },
   "file_extension": ".py",
   "mimetype": "text/x-python",
   "name": "python",
   "nbconvert_exporter": "python",
   "pygments_lexer": "ipython3",
   "version": "3.11.4"
  }
 },
 "nbformat": 4,
 "nbformat_minor": 5
}
