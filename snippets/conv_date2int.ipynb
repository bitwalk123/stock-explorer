{
 "cells": [
  {
   "cell_type": "code",
   "execution_count": 1,
   "id": "784c2534-a1e2-45ee-93cb-5fde9330aba8",
   "metadata": {},
   "outputs": [
    {
     "data": {
      "text/plain": [
       "'/home/bitwalk/PycharmProjects/stock-explorer'"
      ]
     },
     "execution_count": 1,
     "metadata": {},
     "output_type": "execute_result"
    }
   ],
   "source": [
    "import os\n",
    "\n",
    "os.chdir('../')\n",
    "os.getcwd()"
   ]
  },
  {
   "cell_type": "code",
   "execution_count": 3,
   "id": "6c6f6d1b-9642-450b-9f2d-9dab423fde34",
   "metadata": {},
   "outputs": [
    {
     "data": {
      "text/plain": [
       "1664236800"
      ]
     },
     "execution_count": 3,
     "metadata": {},
     "output_type": "execute_result"
    }
   ],
   "source": [
    "import datetime as dt\n",
    "\n",
    "day1 = 24 * 60 * 60\n",
    "tz_delta = 9 * 60 * 60  # Asia/Tokyo timezone\n",
    "#start_str = '2023-01-04'\n",
    "start_str = '2022-09-27'\n",
    "start_dt = dt.datetime.strptime(start_str, '%Y-%m-%d')\n",
    "start = int(dt.datetime.timestamp(start_dt)) + tz_delta\n",
    "start"
   ]
  },
  {
   "cell_type": "code",
   "execution_count": 9,
   "id": "1d945c7d-fa46-47bb-8443-66583a423943",
   "metadata": {},
   "outputs": [
    {
     "data": {
      "text/plain": [
       "220"
      ]
     },
     "execution_count": 9,
     "metadata": {},
     "output_type": "execute_result"
    }
   ],
   "source": [
    "day1 = 24*60*60\n",
    "holidays = 16\n",
    "int(((1695772800 - 1664236800) / day1 * 5 / 7 - holidays) * 0.9)"
   ]
  },
  {
   "cell_type": "code",
   "execution_count": 13,
   "id": "c08f2d56-60e4-4453-98d3-5dc72a202de6",
   "metadata": {},
   "outputs": [
    {
     "data": {
      "text/plain": [
       "1697969110"
      ]
     },
     "execution_count": 13,
     "metadata": {},
     "output_type": "execute_result"
    }
   ],
   "source": [
    "now_dt = dt.datetime.now()\n",
    "now = int(dt.datetime.timestamp(now_dt)) + tz_delta\n",
    "now"
   ]
  },
  {
   "cell_type": "code",
   "execution_count": 22,
   "id": "b8f6d66b-28c4-4cc4-9e4e-c61e975a3f9f",
   "metadata": {},
   "outputs": [],
   "source": [
    "end = (now // day1 - 1) * day1"
   ]
  },
  {
   "cell_type": "code",
   "execution_count": 28,
   "id": "07ffe9a0-3595-4a36-9f92-b4fb93dbb4f4",
   "metadata": {},
   "outputs": [
    {
     "data": {
      "text/plain": [
       "datetime.datetime(2023, 10, 21, 9, 0)"
      ]
     },
     "execution_count": 28,
     "metadata": {},
     "output_type": "execute_result"
    }
   ],
   "source": [
    "dt.datetime.fromtimestamp(end)"
   ]
  },
  {
   "cell_type": "code",
   "execution_count": 41,
   "id": "3af90fe0-e947-47d6-8f8b-2a02e59fa179",
   "metadata": {},
   "outputs": [
    {
     "data": {
      "text/plain": [
       "datetime.datetime(2023, 9, 27, 9, 0)"
      ]
     },
     "execution_count": 41,
     "metadata": {},
     "output_type": "execute_result"
    }
   ],
   "source": [
    "d = 1695772800\n",
    "dt.datetime.fromtimestamp(d)"
   ]
  },
  {
   "cell_type": "code",
   "execution_count": 37,
   "id": "c1fe0a67-ce5d-428e-8006-f8164e93c104",
   "metadata": {},
   "outputs": [
    {
     "data": {
      "text/plain": [
       "[1]"
      ]
     },
     "execution_count": 37,
     "metadata": {},
     "output_type": "execute_result"
    }
   ],
   "source": [
    "from functions.get_dict_code import get_dict_code\n",
    "from functions.resources import get_connection\n",
    "\n",
    "con = get_connection()\n",
    "if con.open():\n",
    "    dict_code: dict = get_dict_code()\n",
    "    con.close()\n",
    "list(dict_code.keys())[0:1]"
   ]
  },
  {
   "cell_type": "code",
   "execution_count": 45,
   "id": "25ed25c1-1089-4ca6-a34e-112f280cd8f8",
   "metadata": {},
   "outputs": [
    {
     "name": "stdout",
     "output_type": "stream",
     "text": [
      "[*********************100%%**********************]  1 of 1 completed\n"
     ]
    },
    {
     "data": {
      "text/html": [
       "<div>\n",
       "<style scoped>\n",
       "    .dataframe tbody tr th:only-of-type {\n",
       "        vertical-align: middle;\n",
       "    }\n",
       "\n",
       "    .dataframe tbody tr th {\n",
       "        vertical-align: top;\n",
       "    }\n",
       "\n",
       "    .dataframe thead th {\n",
       "        text-align: right;\n",
       "    }\n",
       "</style>\n",
       "<table border=\"1\" class=\"dataframe\">\n",
       "  <thead>\n",
       "    <tr style=\"text-align: right;\">\n",
       "      <th></th>\n",
       "      <th>Open</th>\n",
       "      <th>High</th>\n",
       "      <th>Low</th>\n",
       "      <th>Close</th>\n",
       "      <th>Adj Close</th>\n",
       "      <th>Volume</th>\n",
       "    </tr>\n",
       "    <tr>\n",
       "      <th>Date</th>\n",
       "      <th></th>\n",
       "      <th></th>\n",
       "      <th></th>\n",
       "      <th></th>\n",
       "      <th></th>\n",
       "      <th></th>\n",
       "    </tr>\n",
       "  </thead>\n",
       "  <tbody>\n",
       "    <tr>\n",
       "      <th>2023-09-01</th>\n",
       "      <td>2.824000e+03</td>\n",
       "      <td>2.829000e+03</td>\n",
       "      <td>2.819000e+03</td>\n",
       "      <td>2.829000e+03</td>\n",
       "      <td>2.829000e+03</td>\n",
       "      <td>164900</td>\n",
       "    </tr>\n",
       "    <tr>\n",
       "      <th>2023-09-04</th>\n",
       "      <td>2.818000e+03</td>\n",
       "      <td>2.823000e+03</td>\n",
       "      <td>2.809000e+03</td>\n",
       "      <td>2.813000e+03</td>\n",
       "      <td>2.813000e+03</td>\n",
       "      <td>342300</td>\n",
       "    </tr>\n",
       "    <tr>\n",
       "      <th>2023-09-05</th>\n",
       "      <td>2.810500e+03</td>\n",
       "      <td>2.814500e+03</td>\n",
       "      <td>2.792500e+03</td>\n",
       "      <td>2.800500e+03</td>\n",
       "      <td>2.800500e+03</td>\n",
       "      <td>352900</td>\n",
       "    </tr>\n",
       "    <tr>\n",
       "      <th>2023-09-06</th>\n",
       "      <td>2.795500e+03</td>\n",
       "      <td>2.805000e+03</td>\n",
       "      <td>2.791500e+03</td>\n",
       "      <td>2.793000e+03</td>\n",
       "      <td>2.793000e+03</td>\n",
       "      <td>2049600</td>\n",
       "    </tr>\n",
       "    <tr>\n",
       "      <th>2023-09-07</th>\n",
       "      <td>2.793000e+03</td>\n",
       "      <td>2.798000e+03</td>\n",
       "      <td>2.793000e+03</td>\n",
       "      <td>2.795000e+03</td>\n",
       "      <td>2.795000e+03</td>\n",
       "      <td>329500</td>\n",
       "    </tr>\n",
       "    <tr>\n",
       "      <th>2023-09-08</th>\n",
       "      <td>2.797000e+03</td>\n",
       "      <td>2.798000e+03</td>\n",
       "      <td>2.793000e+03</td>\n",
       "      <td>2.794000e+03</td>\n",
       "      <td>2.794000e+03</td>\n",
       "      <td>310300</td>\n",
       "    </tr>\n",
       "    <tr>\n",
       "      <th>2023-09-11</th>\n",
       "      <td>2.794000e+03</td>\n",
       "      <td>2.799000e+03</td>\n",
       "      <td>2.794000e+03</td>\n",
       "      <td>2.799000e+03</td>\n",
       "      <td>2.799000e+03</td>\n",
       "      <td>281700</td>\n",
       "    </tr>\n",
       "    <tr>\n",
       "      <th>2023-09-12</th>\n",
       "      <td>2.799000e+03</td>\n",
       "      <td>2.802000e+03</td>\n",
       "      <td>2.795000e+03</td>\n",
       "      <td>2.797000e+03</td>\n",
       "      <td>2.797000e+03</td>\n",
       "      <td>522500</td>\n",
       "    </tr>\n",
       "    <tr>\n",
       "      <th>2023-09-13</th>\n",
       "      <td>2.799000e+03</td>\n",
       "      <td>2.802000e+03</td>\n",
       "      <td>2.796000e+03</td>\n",
       "      <td>2.800000e+03</td>\n",
       "      <td>2.800000e+03</td>\n",
       "      <td>565200</td>\n",
       "    </tr>\n",
       "    <tr>\n",
       "      <th>2023-09-14</th>\n",
       "      <td>2.800000e+03</td>\n",
       "      <td>2.805000e+03</td>\n",
       "      <td>2.796000e+03</td>\n",
       "      <td>2.804000e+03</td>\n",
       "      <td>2.804000e+03</td>\n",
       "      <td>1143200</td>\n",
       "    </tr>\n",
       "    <tr>\n",
       "      <th>2023-09-15</th>\n",
       "      <td>2.798000e+03</td>\n",
       "      <td>2.822000e+03</td>\n",
       "      <td>2.792000e+03</td>\n",
       "      <td>2.792000e+03</td>\n",
       "      <td>2.792000e+03</td>\n",
       "      <td>1439600</td>\n",
       "    </tr>\n",
       "    <tr>\n",
       "      <th>2023-09-19</th>\n",
       "      <td>2.794000e+03</td>\n",
       "      <td>2.800000e+03</td>\n",
       "      <td>2.794000e+03</td>\n",
       "      <td>2.795000e+03</td>\n",
       "      <td>2.795000e+03</td>\n",
       "      <td>122300</td>\n",
       "    </tr>\n",
       "    <tr>\n",
       "      <th>2023-09-20</th>\n",
       "      <td>2.800000e+03</td>\n",
       "      <td>2.800000e+03</td>\n",
       "      <td>2.795000e+03</td>\n",
       "      <td>2.799000e+03</td>\n",
       "      <td>2.799000e+03</td>\n",
       "      <td>128100</td>\n",
       "    </tr>\n",
       "    <tr>\n",
       "      <th>2023-09-21</th>\n",
       "      <td>2.799000e+03</td>\n",
       "      <td>2.800000e+03</td>\n",
       "      <td>2.796000e+03</td>\n",
       "      <td>2.800000e+03</td>\n",
       "      <td>2.800000e+03</td>\n",
       "      <td>123100</td>\n",
       "    </tr>\n",
       "    <tr>\n",
       "      <th>2023-09-22</th>\n",
       "      <td>2.800000e+03</td>\n",
       "      <td>2.800000e+03</td>\n",
       "      <td>2.796000e+03</td>\n",
       "      <td>2.796000e+03</td>\n",
       "      <td>2.796000e+03</td>\n",
       "      <td>100400</td>\n",
       "    </tr>\n",
       "    <tr>\n",
       "      <th>2023-09-25</th>\n",
       "      <td>2.797000e+03</td>\n",
       "      <td>2.798000e+03</td>\n",
       "      <td>2.796000e+03</td>\n",
       "      <td>2.797000e+03</td>\n",
       "      <td>2.797000e+03</td>\n",
       "      <td>105900</td>\n",
       "    </tr>\n",
       "    <tr>\n",
       "      <th>2023-09-26</th>\n",
       "      <td>2.796000e+03</td>\n",
       "      <td>2.798000e+03</td>\n",
       "      <td>2.794000e+03</td>\n",
       "      <td>2.798000e+03</td>\n",
       "      <td>2.798000e+03</td>\n",
       "      <td>360500</td>\n",
       "    </tr>\n",
       "    <tr>\n",
       "      <th>2023-09-27</th>\n",
       "      <td>5.590000e+10</td>\n",
       "      <td>5.598000e+10</td>\n",
       "      <td>5.532000e+10</td>\n",
       "      <td>5.532000e+10</td>\n",
       "      <td>5.532000e+10</td>\n",
       "      <td>0</td>\n",
       "    </tr>\n",
       "  </tbody>\n",
       "</table>\n",
       "</div>"
      ],
      "text/plain": [
       "                    Open          High           Low         Close  \\\n",
       "Date                                                                 \n",
       "2023-09-01  2.824000e+03  2.829000e+03  2.819000e+03  2.829000e+03   \n",
       "2023-09-04  2.818000e+03  2.823000e+03  2.809000e+03  2.813000e+03   \n",
       "2023-09-05  2.810500e+03  2.814500e+03  2.792500e+03  2.800500e+03   \n",
       "2023-09-06  2.795500e+03  2.805000e+03  2.791500e+03  2.793000e+03   \n",
       "2023-09-07  2.793000e+03  2.798000e+03  2.793000e+03  2.795000e+03   \n",
       "2023-09-08  2.797000e+03  2.798000e+03  2.793000e+03  2.794000e+03   \n",
       "2023-09-11  2.794000e+03  2.799000e+03  2.794000e+03  2.799000e+03   \n",
       "2023-09-12  2.799000e+03  2.802000e+03  2.795000e+03  2.797000e+03   \n",
       "2023-09-13  2.799000e+03  2.802000e+03  2.796000e+03  2.800000e+03   \n",
       "2023-09-14  2.800000e+03  2.805000e+03  2.796000e+03  2.804000e+03   \n",
       "2023-09-15  2.798000e+03  2.822000e+03  2.792000e+03  2.792000e+03   \n",
       "2023-09-19  2.794000e+03  2.800000e+03  2.794000e+03  2.795000e+03   \n",
       "2023-09-20  2.800000e+03  2.800000e+03  2.795000e+03  2.799000e+03   \n",
       "2023-09-21  2.799000e+03  2.800000e+03  2.796000e+03  2.800000e+03   \n",
       "2023-09-22  2.800000e+03  2.800000e+03  2.796000e+03  2.796000e+03   \n",
       "2023-09-25  2.797000e+03  2.798000e+03  2.796000e+03  2.797000e+03   \n",
       "2023-09-26  2.796000e+03  2.798000e+03  2.794000e+03  2.798000e+03   \n",
       "2023-09-27  5.590000e+10  5.598000e+10  5.532000e+10  5.532000e+10   \n",
       "\n",
       "               Adj Close   Volume  \n",
       "Date                               \n",
       "2023-09-01  2.829000e+03   164900  \n",
       "2023-09-04  2.813000e+03   342300  \n",
       "2023-09-05  2.800500e+03   352900  \n",
       "2023-09-06  2.793000e+03  2049600  \n",
       "2023-09-07  2.795000e+03   329500  \n",
       "2023-09-08  2.794000e+03   310300  \n",
       "2023-09-11  2.799000e+03   281700  \n",
       "2023-09-12  2.797000e+03   522500  \n",
       "2023-09-13  2.800000e+03   565200  \n",
       "2023-09-14  2.804000e+03  1143200  \n",
       "2023-09-15  2.792000e+03  1439600  \n",
       "2023-09-19  2.795000e+03   122300  \n",
       "2023-09-20  2.799000e+03   128100  \n",
       "2023-09-21  2.800000e+03   123100  \n",
       "2023-09-22  2.796000e+03   100400  \n",
       "2023-09-25  2.797000e+03   105900  \n",
       "2023-09-26  2.798000e+03   360500  \n",
       "2023-09-27  5.532000e+10        0  "
      ]
     },
     "execution_count": 45,
     "metadata": {},
     "output_type": "execute_result"
    }
   ],
   "source": [
    "import yfinance as yf\n",
    "\n",
    "yf.download('8303.T', '2023-09-01', '2023-10-01')"
   ]
  },
  {
   "cell_type": "code",
   "execution_count": 48,
   "id": "81c848f3-60ed-4031-9a3b-545f2a8d471c",
   "metadata": {},
   "outputs": [
    {
     "name": "stdout",
     "output_type": "stream",
     "text": [
      "1697960409.153 sec\n"
     ]
    }
   ],
   "source": [
    "import time\n",
    "\n",
    "t = time.time()\n",
    "print('%.3f sec' % t)"
   ]
  },
  {
   "cell_type": "code",
   "execution_count": null,
   "id": "d1067e74-0491-4d55-8187-a47617ef12a3",
   "metadata": {},
   "outputs": [],
   "source": []
  }
 ],
 "metadata": {
  "kernelspec": {
   "display_name": "Python 3 (ipykernel)",
   "language": "python",
   "name": "python3"
  },
  "language_info": {
   "codemirror_mode": {
    "name": "ipython",
    "version": 3
   },
   "file_extension": ".py",
   "mimetype": "text/x-python",
   "name": "python",
   "nbconvert_exporter": "python",
   "pygments_lexer": "ipython3",
   "version": "3.11.6"
  }
 },
 "nbformat": 4,
 "nbformat_minor": 5
}
