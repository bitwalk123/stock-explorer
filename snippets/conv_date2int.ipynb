{
 "cells": [
  {
   "cell_type": "code",
   "execution_count": 1,
   "id": "784c2534-a1e2-45ee-93cb-5fde9330aba8",
   "metadata": {},
   "outputs": [
    {
     "data": {
      "text/plain": [
       "'/home/bitwalk/PycharmProjects/stock-explorer'"
      ]
     },
     "execution_count": 1,
     "metadata": {},
     "output_type": "execute_result"
    }
   ],
   "source": [
    "import os\n",
    "\n",
    "os.chdir('../')\n",
    "os.getcwd()"
   ]
  },
  {
   "cell_type": "code",
   "execution_count": 10,
   "id": "6c6f6d1b-9642-450b-9f2d-9dab423fde34",
   "metadata": {},
   "outputs": [
    {
     "data": {
      "text/plain": [
       "1672790400"
      ]
     },
     "execution_count": 10,
     "metadata": {},
     "output_type": "execute_result"
    }
   ],
   "source": [
    "import datetime as dt\n",
    "\n",
    "tz_delta = 9 * 60 * 60  # Asia/Tokyo timezone\n",
    "start_str = '2023-01-04'\n",
    "start_dt = dt.datetime.strptime(start_str, '%Y-%m-%d')\n",
    "start = int(dt.datetime.timestamp(start_dt)) + tz_delta\n",
    "start"
   ]
  },
  {
   "cell_type": "code",
   "execution_count": null,
   "id": "c08f2d56-60e4-4453-98d3-5dc72a202de6",
   "metadata": {},
   "outputs": [],
   "source": []
  }
 ],
 "metadata": {
  "kernelspec": {
   "display_name": "Python 3 (ipykernel)",
   "language": "python",
   "name": "python3"
  },
  "language_info": {
   "codemirror_mode": {
    "name": "ipython",
    "version": 3
   },
   "file_extension": ".py",
   "mimetype": "text/x-python",
   "name": "python",
   "nbconvert_exporter": "python",
   "pygments_lexer": "ipython3",
   "version": "3.11.6"
  }
 },
 "nbformat": 4,
 "nbformat_minor": 5
}
