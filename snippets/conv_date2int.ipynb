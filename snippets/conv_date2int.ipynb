{
 "cells": [
  {
   "cell_type": "code",
   "execution_count": 1,
   "id": "784c2534-a1e2-45ee-93cb-5fde9330aba8",
   "metadata": {},
   "outputs": [
    {
     "data": {
      "text/plain": [
       "'/home/bitwalk/PycharmProjects/stock-explorer'"
      ]
     },
     "execution_count": 1,
     "metadata": {},
     "output_type": "execute_result"
    }
   ],
   "source": [
    "import os\n",
    "\n",
    "os.chdir('../')\n",
    "os.getcwd()"
   ]
  },
  {
   "cell_type": "code",
   "execution_count": 12,
   "id": "6c6f6d1b-9642-450b-9f2d-9dab423fde34",
   "metadata": {},
   "outputs": [
    {
     "data": {
      "text/plain": [
       "1672790400"
      ]
     },
     "execution_count": 12,
     "metadata": {},
     "output_type": "execute_result"
    }
   ],
   "source": [
    "import datetime as dt\n",
    "\n",
    "day1 = 24 * 60 * 60\n",
    "tz_delta = 9 * 60 * 60  # Asia/Tokyo timezone\n",
    "start_str = '2023-01-04'\n",
    "start_dt = dt.datetime.strptime(start_str, '%Y-%m-%d')\n",
    "start = int(dt.datetime.timestamp(start_dt)) + tz_delta\n",
    "start"
   ]
  },
  {
   "cell_type": "code",
   "execution_count": 13,
   "id": "c08f2d56-60e4-4453-98d3-5dc72a202de6",
   "metadata": {},
   "outputs": [
    {
     "data": {
      "text/plain": [
       "1697969110"
      ]
     },
     "execution_count": 13,
     "metadata": {},
     "output_type": "execute_result"
    }
   ],
   "source": [
    "now_dt = dt.datetime.now()\n",
    "now = int(dt.datetime.timestamp(now_dt)) + tz_delta\n",
    "now"
   ]
  },
  {
   "cell_type": "code",
   "execution_count": 22,
   "id": "b8f6d66b-28c4-4cc4-9e4e-c61e975a3f9f",
   "metadata": {},
   "outputs": [],
   "source": [
    "end = (now // day1 - 1) * day1"
   ]
  },
  {
   "cell_type": "code",
   "execution_count": 24,
   "id": "07ffe9a0-3595-4a36-9f92-b4fb93dbb4f4",
   "metadata": {},
   "outputs": [
    {
     "data": {
      "text/plain": [
       "datetime.datetime(2023, 10, 21, 9, 0)"
      ]
     },
     "execution_count": 24,
     "metadata": {},
     "output_type": "execute_result"
    }
   ],
   "source": [
    "dt.datetime.fromtimestamp(end)"
   ]
  },
  {
   "cell_type": "code",
   "execution_count": 27,
   "id": "3af90fe0-e947-47d6-8f8b-2a02e59fa179",
   "metadata": {},
   "outputs": [
    {
     "data": {
      "text/plain": [
       "datetime.datetime(2021, 1, 4, 9, 0)"
      ]
     },
     "execution_count": 27,
     "metadata": {},
     "output_type": "execute_result"
    }
   ],
   "source": [
    "d = 1609718400\n",
    "dt.datetime.fromtimestamp(d)"
   ]
  },
  {
   "cell_type": "code",
   "execution_count": null,
   "id": "c1fe0a67-ce5d-428e-8006-f8164e93c104",
   "metadata": {},
   "outputs": [],
   "source": []
  }
 ],
 "metadata": {
  "kernelspec": {
   "display_name": "Python 3 (ipykernel)",
   "language": "python",
   "name": "python3"
  },
  "language_info": {
   "codemirror_mode": {
    "name": "ipython",
    "version": 3
   },
   "file_extension": ".py",
   "mimetype": "text/x-python",
   "name": "python",
   "nbconvert_exporter": "python",
   "pygments_lexer": "ipython3",
   "version": "3.11.6"
  }
 },
 "nbformat": 4,
 "nbformat_minor": 5
}
