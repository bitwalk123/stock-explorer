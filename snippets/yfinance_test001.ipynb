{
 "cells": [
  {
   "cell_type": "code",
   "execution_count": 47,
   "id": "a70e2dc6-ea2e-4ef1-9910-10e61cee88a2",
   "metadata": {},
   "outputs": [
    {
     "name": "stdout",
     "output_type": "stream",
     "text": [
      "[*********************100%***********************]  1 of 1 completed\n",
      "                  Open        High         Low       Close   Adj Close  \\\n",
      "Date                                                                     \n",
      "2023-07-21  529.599976  535.599976  528.799988  532.700012  532.700012   \n",
      "\n",
      "              Volume  \n",
      "Date                  \n",
      "2023-07-21  13808000  \n"
     ]
    }
   ],
   "source": [
    "import datetime as dt\n",
    "import yfinance as yf\n",
    "\n",
    "#start = dt.date(2010, 1, 1)\n",
    "start = dt.date(2023, 7, 21)\n",
    "end = dt.date.today()\n",
    "\n",
    "# ターゲットを指定\n",
    "ticker = '4755.T'\n",
    "\n",
    "# データを収集\n",
    "#df = yf.download(ticker, period='7d', interval='1d')\n",
    "df = yf.download(ticker, start, end)\n",
    "print(df)"
   ]
  },
  {
   "cell_type": "code",
   "execution_count": 48,
   "id": "970549b4-dd45-4f5d-8047-c9f90c462e12",
   "metadata": {},
   "outputs": [
    {
     "data": {
      "text/plain": [
       "1689897600"
      ]
     },
     "execution_count": 48,
     "metadata": {},
     "output_type": "execute_result"
    }
   ],
   "source": [
    "import pandas as pd\n",
    "\n",
    "row = df.index[0]\n",
    "timestamp = int(row.timestamp())\n",
    "timestamp"
   ]
  },
  {
   "cell_type": "code",
   "execution_count": 49,
   "id": "c3e85f27-d560-48eb-82bc-3440f3a0db76",
   "metadata": {},
   "outputs": [
    {
     "data": {
      "text/plain": [
       "Open         5.296000e+02\n",
       "High         5.356000e+02\n",
       "Low          5.288000e+02\n",
       "Close        5.327000e+02\n",
       "Adj Close    5.327000e+02\n",
       "Volume       1.380800e+07\n",
       "Name: 2023-07-21 00:00:00, dtype: float64"
      ]
     },
     "execution_count": 49,
     "metadata": {},
     "output_type": "execute_result"
    }
   ],
   "source": [
    "series = df.loc[row].copy()\n",
    "series"
   ]
  },
  {
   "cell_type": "code",
   "execution_count": 50,
   "id": "805603c6-41c7-4638-bde6-4d6cce42a991",
   "metadata": {},
   "outputs": [
    {
     "data": {
      "text/plain": [
       "Open         5.296000e+02\n",
       "High         5.356000e+02\n",
       "Low          5.288000e+02\n",
       "Close        5.327000e+02\n",
       "Adj Close    5.327000e+02\n",
       "Volume       1.380800e+07\n",
       "Date         1.689898e+09\n",
       "Name: 2023-07-21 00:00:00, dtype: float64"
      ]
     },
     "execution_count": 50,
     "metadata": {},
     "output_type": "execute_result"
    }
   ],
   "source": [
    "series['Date'] = timestamp\n",
    "series"
   ]
  },
  {
   "cell_type": "code",
   "execution_count": 52,
   "id": "ce809969-c98c-4a8f-89a4-b150dcff97ad",
   "metadata": {},
   "outputs": [
    {
     "data": {
      "text/plain": [
       "Timestamp('2023-07-18 00:00:00')"
      ]
     },
     "execution_count": 52,
     "metadata": {},
     "output_type": "execute_result"
    }
   ],
   "source": [
    "pd.to_datetime(1689638400, unit='s')"
   ]
  },
  {
   "cell_type": "code",
   "execution_count": null,
   "id": "02adac6d-65c9-4b21-ad10-3e9b52affb78",
   "metadata": {},
   "outputs": [],
   "source": []
  }
 ],
 "metadata": {
  "kernelspec": {
   "display_name": "Python 3 (ipykernel)",
   "language": "python",
   "name": "python3"
  },
  "language_info": {
   "codemirror_mode": {
    "name": "ipython",
    "version": 3
   },
   "file_extension": ".py",
   "mimetype": "text/x-python",
   "name": "python",
   "nbconvert_exporter": "python",
   "pygments_lexer": "ipython3",
   "version": "3.11.4"
  }
 },
 "nbformat": 4,
 "nbformat_minor": 5
}
