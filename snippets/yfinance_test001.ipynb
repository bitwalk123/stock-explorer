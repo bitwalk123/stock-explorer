{
 "cells": [
  {
   "cell_type": "code",
   "execution_count": 3,
   "id": "a70e2dc6-ea2e-4ef1-9910-10e61cee88a2",
   "metadata": {},
   "outputs": [
    {
     "name": "stdout",
     "output_type": "stream",
     "text": [
      "[*********************100%***********************]  1 of 1 completed\n",
      "                  Open        High         Low       Close   Adj Close  \\\n",
      "Date                                                                     \n",
      "2023-07-21  529.599976  535.599976  528.799988  532.700012  532.700012   \n",
      "\n",
      "              Volume  \n",
      "Date                  \n",
      "2023-07-21  13808000  \n"
     ]
    }
   ],
   "source": [
    "import datetime as dt\n",
    "import yfinance as yf\n",
    "\n",
    "#start = dt.date(2010, 1, 1)\n",
    "start = dt.date(2023, 7, 21)\n",
    "end = dt.date.today()\n",
    "\n",
    "# ターゲットを指定\n",
    "ticker = '4755.T'\n",
    "\n",
    "# データを収集\n",
    "#df = yf.download(ticker, period='7d', interval='1d')\n",
    "df = yf.download(ticker, start, end)\n",
    "print(df)"
   ]
  },
  {
   "cell_type": "code",
   "execution_count": 4,
   "id": "970549b4-dd45-4f5d-8047-c9f90c462e12",
   "metadata": {},
   "outputs": [
    {
     "data": {
      "text/plain": [
       "86400"
      ]
     },
     "execution_count": 4,
     "metadata": {},
     "output_type": "execute_result"
    }
   ],
   "source": [
    "60*60*24"
   ]
  },
  {
   "cell_type": "code",
   "execution_count": null,
   "id": "c3e85f27-d560-48eb-82bc-3440f3a0db76",
   "metadata": {},
   "outputs": [],
   "source": []
  }
 ],
 "metadata": {
  "kernelspec": {
   "display_name": "Python 3 (ipykernel)",
   "language": "python",
   "name": "python3"
  },
  "language_info": {
   "codemirror_mode": {
    "name": "ipython",
    "version": 3
   },
   "file_extension": ".py",
   "mimetype": "text/x-python",
   "name": "python",
   "nbconvert_exporter": "python",
   "pygments_lexer": "ipython3",
   "version": "3.11.4"
  }
 },
 "nbformat": 4,
 "nbformat_minor": 5
}
