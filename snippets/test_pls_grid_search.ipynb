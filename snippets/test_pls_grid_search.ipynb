{
 "cells": [
  {
   "cell_type": "code",
   "execution_count": null,
   "id": "91430fe8-10e0-4d66-a20a-c6e2df767261",
   "metadata": {},
   "outputs": [],
   "source": [
    "import numpy as np\n",
    "import pandas as pd\n",
    "from sklearn.model_selection import GridSearchCV\n",
    "from sklearn.cross_decomposition import PLSRegression\n",
    "\n",
    "# instance of model\n",
    "PLS_model = PLSRegression()\n",
    "\n",
    "# range of serach\n",
    "param = {\n",
    "    'n_components' : np.arange(1, len(X[0])+1)\n",
    "}\n",
    "# instance od\\f grid search\n",
    "PLS_grid = GridSearchCV(\n",
    "    PLS_model,\n",
    "    param_grid=param,\n",
    "    cv=10\n",
    ") \n",
    "\n",
    "# grid search\n",
    "PLS_grid.fit(X_train, y_train)\n",
    "\n",
    "# optimal parameter\n",
    "PLS_grid.best_params_"
   ]
  }
 ],
 "metadata": {
  "kernelspec": {
   "display_name": "Python 3 (ipykernel)",
   "language": "python",
   "name": "python3"
  },
  "language_info": {
   "codemirror_mode": {
    "name": "ipython",
    "version": 3
   },
   "file_extension": ".py",
   "mimetype": "text/x-python",
   "name": "python",
   "nbconvert_exporter": "python",
   "pygments_lexer": "ipython3",
   "version": "3.11.5"
  }
 },
 "nbformat": 4,
 "nbformat_minor": 5
}
